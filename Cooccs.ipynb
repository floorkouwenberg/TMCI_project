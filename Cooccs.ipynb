{
 "cells": [
  {
   "cell_type": "markdown",
   "metadata": {},
   "source": [
    "We thought that finding the co-occurrences of words in the review with negative or positive words from the corpus would be a good way to find out exactly which parts of the purchased product make it good or bad. For example, in a hot sauce review, it would be helpful for manufacturers and consumers alike to understand if it's the flavor, packaging, or something else that make it popular or unpopular."
   ]
  },
  {
   "cell_type": "code",
   "execution_count": 23,
   "metadata": {},
   "outputs": [
    {
     "name": "stdout",
     "output_type": "stream",
     "text": [
      "[['bought-NOUN', 'several-ADJ', 'vitality-NOUN', 'can-VERB', 'dog-NOUN', 'food-NOUN', 'product-NOUN', 'found-NOUN', 'good-ADJ', 'product-NOUN', 'look-NOUN', 'like-ADP', 'stew-NOUN', 'process-VERB', 'meat-NOUN', 'smell-NOUN', 'labrador-NOUN', 'finicky-NOUN', 'appreciates-NOUN', 'product-NOUN', 'well-ADV'], ['product-NOUN', 'arrive-VERB', 'label-VERB', 'jumbo-ADJ', 'salt-VERB', 'peanut-NOUN', 'actually-ADV', 'small-ADJ', 'size-VERB', 'not-NEGATION', 'not-NEGATION', 'sure-NOUN', 'error-NOUN', 'vendor-NOUN', 'intend-VERB', 'represent-NOUN', 'product-NOUN'], ['confection-NOUN', 'around-ADP', 'pillowy-NOUN', 'citrus-NOUN', 'gelatin-NOUN', 'nut-NOUN', 'case-NOUN', 'cut-NOUN', 'tiny-ADJ', 'square-NOUN', 'liberally-ADV', 'coat-VERB', 'powder-VERB', 'tiny-ADJ', 'mouthful-NOUN', 'not-NEGATION', 'not-NEGATION', 'highly-ADV', 'recommend-NOUN', 'yummy-NOUN', 'familiar-ADJ', 'story-NOUN', 'treat-NOUN', 'seduces-NOUN', 'edmund-NOUN', 'sell-VERB', 'brother-NOUN', 'sister-NOUN'], ['look-VERB', 'secret-NOUN', 'ingredient-NOUN', 'robitussin-NOUN', 'believe-VERB', 'found-NOUN', 'get-VERB', 'addition-NOUN', 'root-NOUN', 'beer-NOUN', 'extract-NOUN', 'order-VERB', 'make-VERB', 'cherry-NOUN', 'flavor-NOUN'], ['great-NOUN', 'taffy-NOUN', 'great-ADJ', 'wide-ADJ', 'assortment-NOUN', 'yummy-NOUN', 'delivery-NOUN', 'taffy-NOUN']]\n"
     ]
    }
   ],
   "source": [
    "import nltk\n",
    "import pickle\n",
    "\n",
    "\n",
    "with open('lemmatized.txt', 'rb') as file:\n",
    "    lemmedreviews = pickle.load(file)\n",
    "        \n",
    "        \n",
    "print(lemmedreviews[:5])"
   ]
  },
  {
   "cell_type": "code",
   "execution_count": 22,
   "metadata": {},
   "outputs": [
    {
     "name": "stdout",
     "output_type": "stream",
     "text": [
      "[(('kettle-NOUN', 'chip-NOUN'), 109), (('not-NEGATION', 'like-ADP'), 101), (('chip-NOUN', 'potato-NOUN'), 90), (('not-NEGATION', 'chip-NOUN'), 69), (('taste-NOUN', 'not-NEGATION'), 61), (('brand-NOUN', 'chip-NOUN'), 53), (('would-VERB', 'not-NEGATION'), 52), (('not-NEGATION', 'good-ADJ'), 51), (('like-ADP', 'taste-NOUN'), 48), (('kettle-NOUN', 'brand-NOUN'), 45)]\n"
     ]
    }
   ],
   "source": [
    "#find co-occurences \n",
    "from collections import Counter\n",
    "span = 3\n",
    "cooccs_stem_surface = Counter()\n",
    "\n",
    "\n",
    "for sentence in lemmedreviews:\n",
    "    for i,w in enumerate(sentence):\n",
    "        #check all co-occurring words within a 3 word span \n",
    "        span_range = list(range(max(i- span, 0), i)) \n",
    "        span_range.extend(range(i+1, min(i + span + 1, len(sentence)))) \n",
    "        for cw in [sentence[idx] for idx in span_range]:\n",
    "            if cw != w and (cw, w) not in cooccs_stem_surface:\n",
    "                cooccs_stem_surface[(w, cw)] += 1\n",
    "    \n",
    "print(cooccs_stem_surface.most_common(10))"
   ]
  },
  {
   "cell_type": "code",
   "execution_count": 147,
   "metadata": {},
   "outputs": [],
   "source": [
    "#perform sentiment analysis\n",
    "from nltk.corpus import sentiwordnet as swn\n",
    "from nltk.corpus import wordnet as wn \n",
    "\n",
    "#TODO:\n",
    "#what is the mapping for ADP?\n",
    "#how to handle negation?\n",
    "\n",
    "#create mapping for proper sentiment analysis \n",
    "mapping = {'NOUN':wn.NOUN, \"ADJ\": wn.ADJ, 'VERB' : wn.VERB}\n",
    "\n",
    "#make synsets out of tuples\n",
    "list_cooccs = list(cooccs_stem_surface)\n",
    "\n",
    "wordvals = {}\n",
    "\n",
    "#give items new mapping for use with senti_synsets\n",
    "for tup in list_cooccs:\n",
    "    w1 = tup[0].split(\"-\")\n",
    "    w2 = tup[1].split(\"-\")\n",
    "    \n",
    "    if w1[1] in mapping.keys():\n",
    "        new_pos = mapping[w1[1]]\n",
    "        word = w1[0]\n",
    "        #w1_test = swn.senti_synsets(word, pos = new_pos)\n",
    "        if len(list(swn.senti_synsets(word, pos = new_pos))) > 0:\n",
    "            scores = swn.senti_synset(word+\".\"+new_pos+\".01\")\n",
    "            positive_score = scores.pos_score()\n",
    "            negative_score = scores.neg_score()\n",
    "                "
   ]
  },
  {
   "cell_type": "code",
   "execution_count": null,
   "metadata": {},
   "outputs": [],
   "source": []
  },
  {
   "cell_type": "code",
   "execution_count": null,
   "metadata": {},
   "outputs": [],
   "source": []
  }
 ],
 "metadata": {
  "kernelspec": {
   "display_name": "Python 3",
   "language": "python",
   "name": "python3"
  },
  "language_info": {
   "codemirror_mode": {
    "name": "ipython",
    "version": 3
   },
   "file_extension": ".py",
   "mimetype": "text/x-python",
   "name": "python",
   "nbconvert_exporter": "python",
   "pygments_lexer": "ipython3",
   "version": "3.7.3"
  }
 },
 "nbformat": 4,
 "nbformat_minor": 2
}
