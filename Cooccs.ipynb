{
 "cells": [
  {
   "cell_type": "markdown",
   "metadata": {},
   "source": [
    "We thought that finding the co-occurrences of words in the review with negative or positive words from the corpus would be a good way to find out exactly which parts of the purchased product make it good or bad. For example, in a hot sauce review, it would be helpful for manufacturers and consumers alike to understand if it's the flavor, packaging, or something else that make it popular or unpopular. We could use this both to be able to predict the number of stars that an Amazon review will recieve and to indicate to customers what the best parts of a product are."
   ]
  },
  {
   "cell_type": "code",
   "execution_count": 3,
   "metadata": {},
   "outputs": [],
   "source": [
    "import nltk\n",
    "import pickle\n",
    "import random\n",
    "\n",
    "with open('training_dicts.txt', 'rb') as file:\n",
    "    lemmedreviews = pickle.load(file)\n",
    "    \n",
    "#make lists for each class in training set \n",
    "one_star = lemmedreviews[1]\n",
    "two_star = lemmedreviews[2]\n",
    "three_star = lemmedreviews[3]\n",
    "four_star = lemmedreviews[4]\n",
    "five_star = lemmedreviews[5]"
   ]
  },
  {
   "cell_type": "code",
   "execution_count": 4,
   "metadata": {
    "scrolled": true
   },
   "outputs": [
    {
     "name": "stdout",
     "output_type": "stream",
     "text": [
      "[(('taste-NOUN', 'like-ADP'), 88), (('not-NEGATION', 'would-VERB'), 73), (('not-NEGATION', 'product-NOUN'), 70), (('not-NEGATION', 'like-ADP'), 65), (('taste-NOUN', 'not-NEGATION'), 51), (('not-NEGATION', 'even-ADV'), 46), (('not-NEGATION', 'buy-VERB'), 36), (('not-NEGATION', 'good-ADJ'), 32), (('taste-VERB', 'like-ADP'), 29), (('not-NEGATION', 'worth-NOUN'), 27)]\n",
      "[(('like-ADP', 'taste-NOUN'), 66), (('like-ADP', 'not-NEGATION'), 56), (('not-NEGATION', 'taste-NOUN'), 54), (('would-VERB', 'not-NEGATION'), 37), (('like-ADP', 'coffee-NOUN'), 37), (('not-NEGATION', 'good-ADJ'), 35), (('not-NEGATION', 'product-NOUN'), 25), (('not-NEGATION', 'flavor-NOUN'), 24), (('like-ADP', 'really-ADV'), 23), (('not-NEGATION', 'worth-NOUN'), 22)]\n",
      "[(('taste-NOUN', 'like-ADP'), 88), (('would-VERB', 'not-NEGATION'), 65), (('not-NEGATION', 'taste-NOUN'), 61), (('not-NEGATION', 'like-ADP'), 60), (('coffee-NOUN', 'not-NEGATION'), 58), (('not-NEGATION', 'good-ADJ'), 53), (('not-NEGATION', 'really-ADV'), 50), (('one-NUM', 'not-NEGATION'), 44), (('really-ADV', 'like-ADP'), 43), (('coffee-NOUN', 'like-ADP'), 36)]\n",
      "[(('taste-NOUN', 'like-ADP'), 119), (('not-NEGATION', 'good-ADJ'), 84), (('like-ADP', 'not-NEGATION'), 81), (('like-ADP', 'coffee-NOUN'), 63), (('not-NEGATION', 'taste-NOUN'), 57), (('not-NEGATION', 'flavor-NOUN'), 56), (('not-NEGATION', 'coffee-NOUN'), 53), (('taste-NOUN', 'good-ADJ'), 52), (('coffee-NOUN', 'cup-NOUN'), 51), (('not-NEGATION', 'sure-NOUN'), 46)]\n",
      "[(('like-ADP', 'taste-NOUN'), 251), (('like-ADP', 'not-NEGATION'), 207), (('highly-ADV', 'recommend-NOUN'), 177), (('dog-NOUN', 'food-NOUN'), 174), (('taste-NOUN', 'not-NEGATION'), 157), (('really-ADV', 'like-ADP'), 151), (('flavor-NOUN', 'not-NEGATION'), 147), (('coffee-NOUN', 'not-NEGATION'), 142), (('best-ADJ', 'ever-ADV'), 134), (('cup-NOUN', 'coffee-NOUN'), 133)]\n"
     ]
    }
   ],
   "source": [
    "#find co-occurences \n",
    "from collections import Counter\n",
    "\n",
    "def find_cooccs(lst):\n",
    "    span = 3\n",
    "    cooccs_stem_surface = Counter()\n",
    "\n",
    "    for sentence in lst:\n",
    "        for i,w in enumerate(sentence):\n",
    "            #check all co-occurring words within a 3 word span \n",
    "            span_range = list(range(max(i- span, 0), i)) \n",
    "            span_range.extend(range(i+1, min(i + span + 1, len(sentence)))) \n",
    "            for cw in [sentence[idx] for idx in span_range]:\n",
    "                if cw != w and (cw, w) not in cooccs_stem_surface:\n",
    "                    cooccs_stem_surface[(w, cw)] += 1\n",
    "    \n",
    "    print(cooccs_stem_surface.most_common(10))\n",
    "    return cooccs_stem_surface \n",
    "\n",
    "#apply to every class \n",
    "one_cooccs = find_cooccs(one_star)\n",
    "two_cooccs = find_cooccs(two_star)\n",
    "three_cooccs = find_cooccs(three_star)\n",
    "four_cooccs = find_cooccs(four_star)\n",
    "five_cooccs = find_cooccs(five_star)"
   ]
  },
  {
   "cell_type": "markdown",
   "metadata": {},
   "source": [
    "Find the most \"polarized\" combinations of words per class"
   ]
  },
  {
   "cell_type": "code",
   "execution_count": 26,
   "metadata": {},
   "outputs": [],
   "source": [
    "#perform sentiment analysis\n",
    "from nltk.corpus import sentiwordnet as swn\n",
    "from nltk.corpus import wordnet as wn \n",
    "import operator \n",
    "import collections\n",
    "\n",
    "#create mapping for proper sentiment analysis \n",
    "mapping = {'NOUN':wn.NOUN, \"ADJ\": wn.ADJ, 'VERB' : wn.VERB}\n",
    "\n",
    "def find_vals(lst):\n",
    "    #make synsets out of tuples\n",
    "    list_cooccs = lst\n",
    "    word1, word2 = \"\", \"\"\n",
    "    positive_score, negative_score, positive_score2, negative_score2 = 0,0,0,0\n",
    "    #dictionary to store tuples of co-occurences and their positivity \n",
    "    wordvals = {}\n",
    "\n",
    "    #give items new mapping for use with senti_synsets\n",
    "    for tup in list_cooccs:\n",
    "        #get individual words out of tuple\n",
    "        w1 = tup[0].split(\"-\")\n",
    "        w2 = tup[1].split(\"-\")\n",
    "    \n",
    "        #check if first word in tuple is contained within mapping\n",
    "        if w1[1] in mapping.keys() and mapping[w1[1]] == 'a':\n",
    "            #extract part of speech\n",
    "            one_pos = mapping[w1[1]]\n",
    "            #extract the word itself \n",
    "            word1 = w1[0]\n",
    "        \n",
    "            #test that synsets exist \n",
    "            if len(list(swn.senti_synsets(word1, pos = one_pos))) > 0:\n",
    "                scores = swn.senti_synset(word1 + \".\"+ one_pos + \".01\")\n",
    "                #calculate positive and negative scores for word 1 \n",
    "                positive_score = scores.pos_score()\n",
    "                negative_score = scores.neg_score()\n",
    "            \n",
    "        #repeat for second word in tuple         \n",
    "        if w2[1] in mapping.keys() and mapping[w2[1]] == 'n':\n",
    "            #extract part of speech \n",
    "            two_pos = mapping[w2[1]]\n",
    "            word2 = w2[0]\n",
    "        \n",
    "            if len(list(swn.senti_synsets(word2, pos = two_pos))) > 0:\n",
    "                scores2 = swn.senti_synset(word2 + \".\"+ two_pos + \".01\")\n",
    "                #calculate positive and negative scores for word 1 \n",
    "                positive_score2 = scores2.pos_score()\n",
    "                negative_score2 = scores2.neg_score() \n",
    "            \n",
    "        #store tuples and positivity values in a dictionary\n",
    "        tupl = (word1, word2)\n",
    "        wordvals[tupl] = (positive_score + negative_score + positive_score2 + negative_score2)\n",
    "\n",
    "    #sort the dictionary of positive and negative values from largest to smallest \n",
    "    sorted_wordvals = list(reversed(sorted(wordvals.items(), key=operator.itemgetter(1))))\n",
    "    #sorted_dict = collections.OrderedDict(reversed(sorted_wordvals))\n",
    "    return sorted_wordvals\n",
    "\n",
    "one_vals = find_vals(one_cooccs)\n",
    "two_vals = find_vals(two_cooccs)\n",
    "three_vals = find_vals(three_cooccs)\n",
    "four_vals = find_vals(four_cooccs)\n",
    "five_vals = find_vals(five_cooccs)\n"
   ]
  },
  {
   "cell_type": "code",
   "execution_count": 28,
   "metadata": {},
   "outputs": [
    {
     "name": "stdout",
     "output_type": "stream",
     "text": [
      "[(('good', 'love'), 1.375), (('solid', 'mxl'), 1.25), (('solid', 'beg'), 1.25), (('solid', 'quality'), 1.25), (('different', 'find'), 1.25), (('different', 'health'), 1.25), (('good', 'help'), 1.25), (('diet', 'buy'), 1.25), (('healthy', 'buy'), 1.25), (('good', 'worthy'), 1.25)]\n",
      "[(('best', 'love'), 1.375), (('good', 'love'), 1.375), (('good', 'something'), 1.375), (('delicious', 'love'), 1.375), (('iced', 'help'), 1.25), (('different', 'love'), 1.25), (('different', 'wellness'), 1.25), (('good', 'help'), 1.25), (('positive', 'truth'), 1.25), (('different', 'find'), 1.25)]\n",
      "[(('good', 'love'), 1.375), (('happy', 'hand'), 1.375), (('responsible', 'health'), 1.25), (('necessary', 'health'), 1.25), (('good', 'orangina'), 1.25), (('nice', 'fun'), 1.25), (('healthy', 'nature'), 1.25), (('old', 'mom'), 1.25), (('major', 'advantage'), 1.25), (('vegetable', 'wish'), 1.25)]\n",
      "[(('nice', 'passion'), 1.375), (('nice', 'skype'), 1.375), (('resemble', 'love'), 1.375), (('best', 'know'), 1.375), (('nice', 'satisfy'), 1.375), (('nice', 'help'), 1.375), (('good', 'kcup'), 1.375), (('best', 'kcup'), 1.375), (('best', 'love'), 1.375), (('expensive', 'fineness'), 1.375)]\n",
      "[(('nice', 'maintain'), 1.5), (('happy', 'know'), 1.5), (('happy', 'furbaby'), 1.5), (('iced', 'love'), 1.5), (('happy', 'discover'), 1.5), (('successful', 'mama'), 1.5), (('therapeutic', 'advantage'), 1.5), (('good', 'wonder'), 1.5), (('pleased', 'mom'), 1.5), (('happy', 'wellness'), 1.5)]\n"
     ]
    }
   ],
   "source": [
    "print(one_vals[10:20])\n",
    "print(two_vals[10:20])\n",
    "print(three_vals[10:20])\n",
    "print(four_vals[10:20])\n",
    "print(five_vals[10:20])"
   ]
  },
  {
   "cell_type": "markdown",
   "metadata": {},
   "source": [
    "We're going to find the PLMI of the co-occurences per class to use as a feature for classification "
   ]
  },
  {
   "cell_type": "code",
   "execution_count": 30,
   "metadata": {},
   "outputs": [],
   "source": [
    "#plmi measure\n",
    "from itertools import chain\n",
    "from math import log\n",
    "\n",
    "\n",
    "def ppmi(o_11, r_1, c_1, n):\n",
    "    \"\"\"\n",
    "    Positive Pointwise Mutual Information (Church & Hanks, 1990)\n",
    "    \n",
    "    PMI is also available in NLTK:\n",
    "    from nltk.metrics import BigramAssocMeasures\n",
    "    print BigramAssocMeasures.pmi(8, (15828, 4675), 14307668)\n",
    "    \"\"\"\n",
    "    observed = o_11\n",
    "    expected = (r_1*c_1)/n \n",
    "    res = log(observed/expected,2)\n",
    "    return max(0, res)\n",
    "\n",
    "def plmi(o_11, r_1, c_1, n):\n",
    "    \"\"\"\n",
    "    Positive Local Mutual Information, useful for leveraging the \n",
    "    low-frequency bias of the PPMI\n",
    "    \"\"\"\n",
    "    res = o_11 * ppmi(o_11, r_1, c_1, n)\n",
    "    return res\n",
    "\n",
    "def find_plmi(cooccs_dict, lst):\n",
    "    N = len(cooccs_dict.values())\n",
    "    plmis_stem_surface = Counter()\n",
    "    stemmed_frequencies = Counter(chain(*lst))\n",
    "\n",
    "\n",
    "    for k,v in cooccs_dict.items():\n",
    "        plmis_stem_surface[k] = plmi(v, stemmed_frequencies[k[0]], stemmed_frequencies[k[1]], N)\n",
    "\n",
    "    print(plmis_stem_surface.most_common(10))\n",
    "    return plmis_stem_surface"
   ]
  },
  {
   "cell_type": "code",
   "execution_count": 31,
   "metadata": {},
   "outputs": [
    {
     "name": "stdout",
     "output_type": "stream",
     "text": [
      "[(('taste-NOUN', 'like-ADP'), 498.21421039440526), (('not-NEGATION', 'would-VERB'), 328.187444872234), (('not-NEGATION', 'product-NOUN'), 315.9453669160056), (('not-NEGATION', 'like-ADP'), 245.1104691952661), (('not-NEGATION', 'even-ADV'), 206.80891232686838), (('taste-NOUN', 'not-NEGATION'), 203.19398438910855), (('wolfgang-NOUN', 'puck-NOUN'), 174.8994910957734), (('customer-NOUN', 'service-NOUN'), 169.3327182410485), (('bad-ADJ', 'ever-ADV'), 168.73227297299397), (('taste-VERB', 'like-ADP'), 165.09501887758555)]\n",
      "[(('like-ADP', 'taste-NOUN'), 346.7954123964976), (('like-ADP', 'not-NEGATION'), 223.73486055771255), (('not-NEGATION', 'taste-NOUN'), 223.2276969716608), (('like-ADP', 'coffee-NOUN'), 199.5862918162832), (('would-VERB', 'not-NEGATION'), 159.49068237603507), (('not-NEGATION', 'good-ADJ'), 158.6901697871882), (('hot-ADJ', 'chocolate-NOUN'), 152.92386027809886), (('bake-VERB', 'lay-NOUN'), 146.25097065400752), (('not-NEGATION', 'worth-NOUN'), 134.97016198705478), (('like-ADP', 'really-ADV'), 118.71462239993872)]\n",
      "[(('taste-NOUN', 'like-ADP'), 458.9813939738063), (('green-ADJ', 'mountain-NOUN'), 314.04695550132635), (('would-VERB', 'not-NEGATION'), 284.7492455096631), (('wolfgang-NOUN', 'puck-NOUN'), 280.51201695688735), (('not-NEGATION', 'taste-NOUN'), 238.1640849611903), (('not-NEGATION', 'good-ADJ'), 233.30346113041387), (('orange-NOUN', 'tangerine-NOUN'), 226.90103165010166), (('not-NEGATION', 'really-ADV'), 226.42834163922228), (('coffee-NOUN', 'not-NEGATION'), 224.7885991975894), (('really-ADV', 'like-ADP'), 219.0269290921876)]\n",
      "[(('taste-NOUN', 'like-ADP'), 598.1931260359395), (('not-NEGATION', 'good-ADJ'), 351.6930290091218), (('like-ADP', 'not-NEGATION'), 299.4132795281518), (('wolfgang-NOUN', 'puck-NOUN'), 281.6375485015434), (('coffee-NOUN', 'cup-NOUN'), 278.8983957935255), (('orange-NOUN', 'tangerine-NOUN'), 276.7538162230383), (('not-NEGATION', 'sure-NOUN'), 271.24761492801014), (('like-ADP', 'coffee-NOUN'), 261.6304425227654), (('give-VERB', 'star-NOUN'), 237.04790871378287), (('not-NEGATION', 'flavor-NOUN'), 225.78096684113694)]\n",
      "[(('highly-ADV', 'recommend-NOUN'), 1490.5335878678293), (('like-ADP', 'taste-NOUN'), 1203.2858617037896), (('dog-NOUN', 'food-NOUN'), 1130.5413679636213), (('best-ADJ', 'ever-ADV'), 949.4788504462299), (('gluten-NOUN', 'free-ADJ'), 880.6380947333453), (('grocery-NOUN', 'store-NOUN'), 856.3352128289264), (('like-ADP', 'not-NEGATION'), 790.1921636313737), (('would-VERB', 'recommend-NOUN'), 756.7204845318499), (('cup-NOUN', 'coffee-NOUN'), 729.9836513557714), (('potato-NOUN', 'chip-NOUN'), 713.4382581986213)]\n"
     ]
    }
   ],
   "source": [
    "one_plmi = find_plmi(one_cooccs, one_star)\n",
    "two_plmi =  find_plmi(two_cooccs, two_star)\n",
    "three_plmi = find_plmi(three_cooccs, three_star)\n",
    "four_plmi = find_plmi(four_cooccs, four_star)\n",
    "five_plmi = find_plmi(five_cooccs, five_star)"
   ]
  },
  {
   "cell_type": "markdown",
   "metadata": {},
   "source": [
    "We can also use the average positivity and negativity of each class to use as features as well."
   ]
  },
  {
   "cell_type": "code",
   "execution_count": 55,
   "metadata": {},
   "outputs": [],
   "source": [
    "#find average positivity + negativity for each class\n",
    "def find_senti(lst):\n",
    "    avg_positivity = 0\n",
    "    avg_negativity = 0\n",
    "    total_words = 0\n",
    "    \n",
    "    for sublist in lst:\n",
    "        #find total num words in each class for calculating the average\n",
    "        total_words += len(sublist)\n",
    "        for word in sublist:\n",
    "            #split item into individual word and lemma \n",
    "            trunc_word = word.split(\"-\")\n",
    "            #TODO: handle negation!! this is a band-aid  \n",
    "            if trunc_word[1] not in mapping:\n",
    "                continue\n",
    "            #get the right part of speech from predefined mapping\n",
    "            new_pos = mapping[trunc_word[1]]\n",
    "            if len(list(swn.senti_synsets(trunc_word[0], pos = new_pos))) > 0:\n",
    "                scores = swn.senti_synset(trunc_word[0] + \".\"+ new_pos + \".01\")\n",
    "                #find senti-wordnet's positivity and negativity rating for each word in each class  \n",
    "                avg_positivity += scores.pos_score()\n",
    "                avg_negativity += scores.neg_score() \n",
    "                \n",
    "\n",
    "    return (avg_positivity/total_words)*100, (avg_negativity/total_words)*100"
   ]
  },
  {
   "cell_type": "code",
   "execution_count": 56,
   "metadata": {},
   "outputs": [
    {
     "data": {
      "text/plain": [
       "(3.6588333878351866, 3.4843157292347944)"
      ]
     },
     "execution_count": 56,
     "metadata": {},
     "output_type": "execute_result"
    }
   ],
   "source": [
    "find_senti(one_star)"
   ]
  },
  {
   "cell_type": "code",
   "execution_count": 57,
   "metadata": {},
   "outputs": [
    {
     "data": {
      "text/plain": [
       "(5.295702755816919, 2.74709716617411)"
      ]
     },
     "execution_count": 57,
     "metadata": {},
     "output_type": "execute_result"
    }
   ],
   "source": [
    "find_senti(five_star)"
   ]
  },
  {
   "cell_type": "code",
   "execution_count": null,
   "metadata": {},
   "outputs": [],
   "source": []
  }
 ],
 "metadata": {
  "kernelspec": {
   "display_name": "Python 3",
   "language": "python",
   "name": "python3"
  },
  "language_info": {
   "codemirror_mode": {
    "name": "ipython",
    "version": 3
   },
   "file_extension": ".py",
   "mimetype": "text/x-python",
   "name": "python",
   "nbconvert_exporter": "python",
   "pygments_lexer": "ipython3",
   "version": "3.7.3"
  }
 },
 "nbformat": 4,
 "nbformat_minor": 2
}
