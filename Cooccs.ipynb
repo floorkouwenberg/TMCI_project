{
 "cells": [
  {
   "cell_type": "markdown",
   "metadata": {},
   "source": [
    "We thought that finding the co-occurrences of words in the review with negative or positive words from the corpus would be a good way to find out exactly which parts of the purchased product make it good or bad. For example, in a hot sauce review, it would be helpful for manufacturers and consumers alike to understand if it's the flavor, packaging, or something else that make it popular or unpopular. We could use this both to be able to predict the number of stars that an Amazon review will recieve and to indicate to customers what the best parts of a product are."
   ]
  },
  {
   "cell_type": "code",
   "execution_count": 3,
   "metadata": {},
   "outputs": [
    {
     "name": "stdout",
     "output_type": "stream",
     "text": [
      "['coffee-NOUN', 'funny-NOUN', 'taste-NOUN', 'not-NEGATION', 'good-ADJ', 'would-VERB', 'think-NOUN', 'wolfgang-NOUN', 'would-VERB', 'good-ADJ', 'dont-NOUN', 'buy-VERB', 'coffee-NOUN', 'review-NOUN', 'people-NOUN', 'people-NOUN', 'shop-NOUN', 'hate-NOUN', 'not-NEGATION', 'good-ADJ']\n"
     ]
    }
   ],
   "source": [
    "print(one_star[0])"
   ]
  },
  {
   "cell_type": "code",
   "execution_count": 3,
   "metadata": {},
   "outputs": [],
   "source": [
    "import nltk\n",
    "import pickle\n",
    "import random\n",
    "\n",
    "with open('training_dicts.txt', 'rb') as file:\n",
    "    lemmedreviews = pickle.load(file)\n",
    "    \n",
    "#make lists for each class in training set \n",
    "one_star = lemmedreviews[1]\n",
    "two_star = lemmedreviews[2]\n",
    "three_star = lemmedreviews[3]\n",
    "four_star = lemmedreviews[4]\n",
    "five_star = lemmedreviews[5]"
   ]
  },
  {
   "cell_type": "code",
   "execution_count": 4,
   "metadata": {
    "scrolled": true
   },
   "outputs": [
    {
     "name": "stdout",
     "output_type": "stream",
     "text": [
      "[(('taste-NOUN', 'like-ADP'), 100), (('like-ADP', 'not-NEGATION'), 67), (('would-VERB', 'not-NEGATION'), 67), (('product-NOUN', 'not-NEGATION'), 61), (('not-NEGATION', 'taste-NOUN'), 51), (('not-NEGATION', 'even-ADV'), 43), (('not-NEGATION', 'buy-VERB'), 38), (('not-NEGATION', 'good-ADJ'), 35), (('get-VERB', 'not-NEGATION'), 31), (('coffee-NOUN', 'not-NEGATION'), 30)]\n",
      "[(('taste-NOUN', 'like-ADP'), 72), (('not-NEGATION', 'like-ADP'), 51), (('not-NEGATION', 'taste-NOUN'), 46), (('would-VERB', 'not-NEGATION'), 41), (('coffee-NOUN', 'like-ADP'), 39), (('not-NEGATION', 'good-ADJ'), 38), (('not-NEGATION', 'product-NOUN'), 28), (('like-ADP', 'really-ADV'), 27), (('flavor-NOUN', 'not-NEGATION'), 25), (('not-NEGATION', 'much-ADJ'), 25)]\n",
      "[(('taste-NOUN', 'like-ADP'), 87), (('would-VERB', 'not-NEGATION'), 79), (('not-NEGATION', 'taste-NOUN'), 71), (('not-NEGATION', 'like-ADP'), 65), (('coffee-NOUN', 'not-NEGATION'), 56), (('good-ADJ', 'not-NEGATION'), 53), (('really-ADV', 'not-NEGATION'), 51), (('one-NUM', 'not-NEGATION'), 44), (('like-ADP', 'really-ADV'), 42), (('would-VERB', 'buy-VERB'), 36)]\n",
      "[(('taste-NOUN', 'like-ADP'), 127), (('like-ADP', 'not-NEGATION'), 90), (('not-NEGATION', 'good-ADJ'), 86), (('not-NEGATION', 'coffee-NOUN'), 71), (('not-NEGATION', 'taste-NOUN'), 62), (('like-ADP', 'coffee-NOUN'), 62), (('cup-NOUN', 'coffee-NOUN'), 59), (('would-VERB', 'not-NEGATION'), 54), (('coffee-NOUN', 'good-ADJ'), 54), (('flavor-NOUN', 'not-NEGATION'), 54)]\n",
      "[(('taste-NOUN', 'like-ADP'), 256), (('not-NEGATION', 'like-ADP'), 211), (('dog-NOUN', 'food-NOUN'), 195), (('highly-ADV', 'recommend-NOUN'), 192), (('taste-NOUN', 'not-NEGATION'), 168), (('really-ADV', 'like-ADP'), 165), (('best-ADJ', 'ever-ADV'), 145), (('flavor-NOUN', 'not-NEGATION'), 143), (('like-ADP', 'coffee-NOUN'), 141), (('not-NEGATION', 'coffee-NOUN'), 137)]\n"
     ]
    }
   ],
   "source": [
    "#find co-occurences \n",
    "from collections import Counter\n",
    "\n",
    "def find_cooccs(lst):\n",
    "    span = 3\n",
    "    cooccs_stem_surface = Counter()\n",
    "\n",
    "    for sentence in lst:\n",
    "        for i,w in enumerate(sentence):\n",
    "            #check all co-occurring words within a 3 word span \n",
    "            span_range = list(range(max(i- span, 0), i)) \n",
    "            span_range.extend(range(i+1, min(i + span + 1, len(sentence)))) \n",
    "            for cw in [sentence[idx] for idx in span_range]:\n",
    "                if cw != w and (cw, w) not in cooccs_stem_surface:\n",
    "                    cooccs_stem_surface[(w, cw)] += 1\n",
    "    \n",
    "    print(cooccs_stem_surface.most_common(10))\n",
    "    return cooccs_stem_surface \n",
    "\n",
    "#apply to every class \n",
    "one_cooccs = find_cooccs(one_star)\n",
    "two_cooccs = find_cooccs(two_star)\n",
    "three_cooccs = find_cooccs(three_star)\n",
    "four_cooccs = find_cooccs(four_star)\n",
    "five_cooccs = find_cooccs(five_star)"
   ]
  },
  {
   "cell_type": "markdown",
   "metadata": {},
   "source": [
    "Find the most \"polarized\" combinations of words per class"
   ]
  },
  {
   "cell_type": "code",
   "execution_count": 56,
   "metadata": {},
   "outputs": [],
   "source": [
    "#perform sentiment analysis\n",
    "from nltk.corpus import sentiwordnet as swn\n",
    "from nltk.corpus import wordnet as wn \n",
    "import operator \n",
    "import collections\n",
    "\n",
    "#create mapping for proper sentiment analysis \n",
    "mapping = {'NOUN':wn.NOUN, \"ADJ\": wn.ADJ, 'VERB' : wn.VERB, \"ADV\": wn.ADV}\n",
    "\n",
    "def find_vals(lst):\n",
    "    #make synsets out of tuples\n",
    "    list_cooccs = lst\n",
    "    word1, word2 = \"\", \"\"\n",
    "    positive_score, negative_score, positive_score2, negative_score2 = 0,0,0,0\n",
    "    #dictionary to store tuples of co-occurences and their positivity \n",
    "    wordvals = {}\n",
    "\n",
    "    #give items new mapping for use with senti_synsets\n",
    "    for tup in list_cooccs:\n",
    "        #get individual words out of tuple\n",
    "        w1 = tup[0].split(\"-\")\n",
    "        w2 = tup[1].split(\"-\")\n",
    "    \n",
    "        #check if first word in tuple is contained within mapping\n",
    "        if w1[1] in mapping.keys() and mapping[w1[1]] == 'a':\n",
    "            #extract part of speech\n",
    "            one_pos = mapping[w1[1]]\n",
    "            #extract the word itself \n",
    "            word1 = w1[0]\n",
    "        \n",
    "            #test that synsets exist \n",
    "            if len(list(swn.senti_synsets(word1, pos = one_pos))) > 0:\n",
    "                scores = swn.senti_synset(word1 + \".\"+ one_pos + \".01\")\n",
    "                #calculate positive and negative scores for word 1 \n",
    "                positive_score = scores.pos_score()\n",
    "                negative_score = scores.neg_score()\n",
    "            \n",
    "        #repeat for second word in tuple         \n",
    "        if w2[1] in mapping.keys() and mapping[w2[1]] == 'n':\n",
    "            #extract part of speech \n",
    "            two_pos = mapping[w2[1]]\n",
    "            word2 = w2[0]\n",
    "        \n",
    "            if len(list(swn.senti_synsets(word2, pos = two_pos))) > 0:\n",
    "                scores2 = swn.senti_synset(word2 + \".\"+ two_pos + \".01\")\n",
    "                #calculate positive and negative scores for word 1 \n",
    "                positive_score2 = scores2.pos_score()\n",
    "                negative_score2 = scores2.neg_score() \n",
    "            \n",
    "        #store tuples and positivity values in a dictionary\n",
    "        tupl = (word1, word2)\n",
    "        wordvals[tupl] = (positive_score + negative_score + positive_score2 + negative_score2)\n",
    "\n",
    "    #sort the dictionary of positive and negative values from largest to smallest \n",
    "    sorted_wordvals = list(reversed(sorted(wordvals.items(), key=operator.itemgetter(1))))\n",
    "    #sorted_dict = collections.OrderedDict(reversed(sorted_wordvals))\n",
    "    return sorted_wordvals\n",
    "\n",
    "one_vals = find_vals(one_cooccs)\n",
    "two_vals = find_vals(two_cooccs)\n",
    "three_vals = find_vals(three_cooccs)\n",
    "four_vals = find_vals(four_cooccs)\n",
    "five_vals = find_vals(five_cooccs)\n"
   ]
  },
  {
   "cell_type": "code",
   "execution_count": 57,
   "metadata": {},
   "outputs": [
    {
     "name": "stdout",
     "output_type": "stream",
     "text": [
      "[(('hard', 'hink'), 1.625), (('hard', 'bad'), 1.625), (('negative', 'boil'), 1.625), (('negative', 'cheap'), 1.625), (('pathetic', 'disease'), 1.625), (('pathetic', 'celiac'), 1.625), (('pathetic', 'grandeur'), 1.625), (('safe', 'stuck'), 1.625), (('safe', 'regret'), 1.625), (('easy', 'disappointment'), 1.625)]\n",
      "[(('negative', 'celiac'), 1.5), (('true', 'dark'), 1.5), (('artificial', 'bliss'), 1.5), (('poor', 'drawback'), 1.5), (('delicious', 'emergency'), 1.5), (('nice', 'health'), 1.5), (('weigh', 'asset'), 1.5), (('impressed', 'nothing'), 1.5), (('impressed', 'contain'), 1.5), (('good', 'pain'), 1.5)]\n",
      "[(('fresh', 'pinch'), 1.5), (('attractive', 'problem'), 1.5), (('good', 'scent'), 1.5), (('good', 'disproportional'), 1.5), (('good', 'complaint'), 1.5), (('good', 'doesnt'), 1.5), (('good', 'pain'), 1.5), (('unnatural', 'adhd'), 1.5), (('healthy', 'compare'), 1.5), (('easy', 'kona'), 1.5)]\n",
      "[(('fresh', 'emergency'), 1.75), (('concerned', 'cheap'), 1.625), (('concerned', 'complaint'), 1.625), (('nice', 'emergency'), 1.625), (('easy', 'complaint'), 1.625), (('good', 'mom'), 1.625), (('worried', 'wonder'), 1.625), (('good', 'difference'), 1.625), (('happy', 'offense'), 1.625), (('poor', 'packed'), 1.625)]\n",
      "[(('good', 'kudos'), 1.75), (('fabulous', 'kept'), 1.75), (('fabulous', 'boil'), 1.75), (('wish', 'pain'), 1.75), (('easy', 'might'), 1.75), (('delectable', 'compare'), 1.75), (('poor', 'overspice'), 1.75), (('poor', 'danger'), 1.75), (('happy', 'mom'), 1.75), (('impressed', 'compare'), 1.75)]\n"
     ]
    }
   ],
   "source": [
    "print(one_vals[10:20])\n",
    "print(two_vals[10:20])\n",
    "print(three_vals[10:20])\n",
    "print(four_vals[10:20])\n",
    "print(five_vals[10:20])"
   ]
  },
  {
   "cell_type": "markdown",
   "metadata": {},
   "source": [
    "We're going to find the PLMI of the co-occurences per class to use as a feature for classification "
   ]
  },
  {
   "cell_type": "code",
   "execution_count": 58,
   "metadata": {},
   "outputs": [],
   "source": [
    "#plmi measure\n",
    "from itertools import chain\n",
    "from math import log\n",
    "\n",
    "\n",
    "def ppmi(o_11, r_1, c_1, n):\n",
    "    \"\"\"\n",
    "    Positive Pointwise Mutual Information (Church & Hanks, 1990)\n",
    "    \n",
    "    PMI is also available in NLTK:\n",
    "    from nltk.metrics import BigramAssocMeasures\n",
    "    print BigramAssocMeasures.pmi(8, (15828, 4675), 14307668)\n",
    "    \"\"\"\n",
    "    observed = o_11\n",
    "    expected = (r_1*c_1)/n \n",
    "    res = log(observed/expected,2)\n",
    "    return max(0, res)\n",
    "\n",
    "def plmi(o_11, r_1, c_1, n):\n",
    "    \"\"\"\n",
    "    Positive Local Mutual Information, useful for leveraging the \n",
    "    low-frequency bias of the PPMI\n",
    "    \"\"\"\n",
    "    res = o_11 * ppmi(o_11, r_1, c_1, n)\n",
    "    return res\n",
    "\n",
    "def find_plmi(cooccs_dict, lst):\n",
    "    N = len(cooccs_dict.values())\n",
    "    plmis_lem_surface = Counter()\n",
    "    lem_frequencies = Counter(chain(*lst))\n",
    "\n",
    "    print(lem_frequencies)\n",
    "    for k,v in cooccs_dict.items():\n",
    "        plmis_lem_surface[k] = plmi(v, lem_frequencies[k[0]], lem_frequencies[k[1]], N)\n",
    "\n",
    "    print(plmis_lem_surface.most_common(10))\n",
    "    return plmis_lem_surface"
   ]
  },
  {
   "cell_type": "code",
   "execution_count": 59,
   "metadata": {},
   "outputs": [
    {
     "name": "stdout",
     "output_type": "stream",
     "text": [
      "Counter({'not-NEGATION': 697, 'like-ADP': 373, 'taste-NOUN': 263, 'would-VERB': 253, 'product-NOUN': 246, 'get-VERB': 245, 'make-VERB': 223, 'one-NUM': 215, 'no-NEGATION': 192, 'coffee-NOUN': 186, 'even-ADV': 172, 'try-VERB': 169, 'food-NOUN': 166, 'go-VERB': 150, 'buy-VERB': 144, 'give-VERB': 132, 'good-ADJ': 130, 'know-VERB': 118, 'bad-ADJ': 116, 'flavor-NOUN': 116, 'say-VERB': 113, 'cup-NOUN': 112, 'time-NOUN': 112, 'bought-NOUN': 112, 'use-VERB': 108, 'amazon-NOUN': 108, 'really-ADV': 106, 'box-NOUN': 104, 'bag-NOUN': 99, 'well-ADV': 91, 'come-VERB': 90, 'order-VERB': 88, 'dog-NOUN': 87, 'chip-NOUN': 87, 'thought-NOUN': 85, 'review-NOUN': 84, 'much-ADJ': 83, 'receive-VERB': 81, 'first-ADV': 81, 'cat-NOUN': 81, 'eat-NOUN': 81, 'love-NOUN': 80, 'taste-VERB': 78, 'order-NOUN': 78, 'also-ADV': 78, 'chocolate-NOUN': 77, 'take-VERB': 75, 'two-NUM': 74, 'try-NOUN': 73, 'water-NOUN': 73, 'tea-NOUN': 72, 'never-ADV': 71, 'item-NOUN': 70, 'could-VERB': 70, 'way-NOUN': 68, 'think-NOUN': 68, 'something-NOUN': 67, 'still-ADV': 67, 'little-ADJ': 66, 'find-VERB': 65, 'brand-NOUN': 65, 'use-NOUN': 64, 'different-ADJ': 63, 'ingredient-NOUN': 63, 'look-VERB': 62, 'company-NOUN': 62, 'ever-ADV': 61, 'eat-VERB': 61, 'see-VERB': 61, 'back-ADV': 59, 'found-NOUN': 59, 'since-ADP': 58, 'want-NOUN': 57, 'mix-NOUN': 56, 'old-ADJ': 55, 'thing-NOUN': 54, 'disappointed-ADJ': 54, 'put-NOUN': 53, 'sugar-NOUN': 52, 'add-VERB': 51, 'people-NOUN': 49, 'best-ADJ': 49, 'hot-ADJ': 49, 'great-ADJ': 47, 'maybe-ADV': 47, 'open-VERB': 47, 'price-NOUN': 47, 'many-ADJ': 47, 'drink-NOUN': 47, 'real-ADJ': 46, 'year-NOUN': 46, 'away-ADV': 46, 'need-NOUN': 46, 'waste-NOUN': 45, 'purchase-NOUN': 44, 'bean-NOUN': 44, 'flavor-VERB': 44, 'look-NOUN': 43, 'return-NOUN': 42, 'package-NOUN': 42, 'sure-NOUN': 42, 'shipping-NOUN': 42, 'free-ADJ': 41, 'three-NUM': 41, 'another-DET': 41, 'anything-NOUN': 40, 'quality-NOUN': 40, 'big-ADJ': 40, 'can-NOUN': 40, 'actually-ADV': 40, 'almost-ADV': 40, 'buying-NOUN': 40, 'local-ADJ': 39, 'smell-NOUN': 39, 'problem-NOUN': 39, 'money-NOUN': 38, 'day-NOUN': 38, 'believe-VERB': 38, 'new-ADJ': 37, 'cake-NOUN': 37, 'purchase-VERB': 37, 'high-ADJ': 36, 'small-ADJ': 36, 'case-NOUN': 36, 'full-ADJ': 35, 'regular-ADJ': 35, 'may-VERB': 35, 'expect-VERB': 34, 'several-ADJ': 34, 'want-VERB': 34, 'work-NOUN': 34, 'coconut-NOUN': 34, 'nothing-NOUN': 33, 'pretty-ADV': 33, 'hard-ADJ': 33, 'stuff-NOUN': 32, 'pack-NOUN': 32, 'whole-ADJ': 32, 'store-NOUN': 32, 'read-NOUN': 32, 'recommend-NOUN': 32, 'customer-NOUN': 32, 'call-VERB': 32, 'jar-NOUN': 32, 'arrive-VERB': 31, 'less-ADV': 31, 'cannot-NOUN': 31, 'keurig-NOUN': 31, 'grocery-NOUN': 31, 'chicken-NOUN': 30, 'kind-NOUN': 30, 'might-VERB': 30, 'week-NOUN': 30, 'lot-NOUN': 30, 'green-ADJ': 30, 'around-ADP': 30, 'let-VERB': 30, 'last-ADJ': 29, 'month-NOUN': 29, 'notice-VERB': 29, 'seem-VERB': 29, 'feel-NOUN': 28, 'without-ADP': 28, 'rather-ADV': 28, 'sweet-NOUN': 28, 'bottom-NOUN': 28, 'stick-NOUN': 28, 'worth-NOUN': 28, 'cocoa-NOUN': 28, 'organic-ADJ': 27, 'every-DET': 27, 'least-ADJ': 27, 'long-ADV': 27, 'cooky-NOUN': 27, 'kettle-NOUN': 27, 'start-VERB': 27, 'treat-NOUN': 27, 'truffle-NOUN': 27, 'description-NOUN': 26, 'bottle-NOUN': 26, 'amount-NOUN': 26, 'decide-VERB': 26, 'though-ADP': 26, 'threw-NOUN': 26, 'vanilla-NOUN': 26, 'formula-NOUN': 25, 'instead-ADV': 25, 'sent-NOUN': 25, 'packaging-NOUN': 25, 'sell-VERB': 25, 'potato-NOUN': 25, 'milk-NOUN': 25, 'low-ADJ': 25, 'keep-VERB': 25, 'size-NOUN': 25, 'plastic-NOUN': 25, 'soup-NOUN': 24, 'half-NOUN': 24, 'ground-NOUN': 24, 'label-NOUN': 24, 'cheap-NOUN': 24, 'feed-NOUN': 24, 'feed-VERB': 24, 'artificial-ADJ': 24, 'dark-NOUN': 24, 'powder-NOUN': 23, 'terrible-ADJ': 23, 'care-NOUN': 23, 'always-ADV': 23, 'told-NOUN': 23, 'expensive-ADJ': 23, 'usually-ADV': 23, 'enough-ADV': 23, 'juice-NOUN': 23, 'wolfgang-NOUN': 22, 'someone-NOUN': 22, 'within-ADP': 22, 'top-NOUN': 22, 'second-ADJ': 22, 'follow-VERB': 22, 'date-NOUN': 22, 'save-VERB': 22, 'star-NOUN': 22, 'per-ADP': 22, 'puck-NOUN': 21, 'definitely-ADV': 21, 'right-NOUN': 21, 'completely-ADV': 21, 'four-NUM': 21, 'saw-NOUN': 21, 'corn-NOUN': 21, 'change-NOUN': 21, 'excite-VERB': 21, 'cream-NOUN': 21, 'pay-NOUN': 21, 'hope-NOUN': 20, 'sour-NOUN': 20, 'bitter-NOUN': 20, 'hop-VERB': 20, 'baby-NOUN': 20, 'science-NOUN': 20, 'seller-NOUN': 20, 'quite-ADV': 20, 'bit-NOUN': 20, 'health-NOUN': 20, 'realize-VERB': 20, 'favorite-NOUN': 20, 'plant-NOUN': 20, 'oil-NOUN': 20, 'stop-VERB': 19, 'inside-ADP': 19, 'anyone-NOUN': 19, 'cause-NOUN': 19, 'rest-NOUN': 19, 'fat-NOUN': 19, 'horrible-ADJ': 19, 'gluten-NOUN': 19, 'throw-NOUN': 19, 'service-NOUN': 19, 'stay-NOUN': 19, 'fruit-NOUN': 19, 'far-ADV': 19, 'cost-NOUN': 19, 'reason-NOUN': 18, 'texture-NOUN': 18, 'easy-ADJ': 18, 'family-NOUN': 18, 'raw-NOUN': 18, 'large-ADJ': 18, 'pet-NOUN': 18, 'lid-NOUN': 18, 'black-ADJ': 18, 'think-VERB': 18, 'purchasing-NOUN': 18, 'past-NOUN': 18, 'type-NOUN': 18, 'ice-NOUN': 18, 'name-NOUN': 18, 'bar-NOUN': 18, 'french-ADJ': 18, 'mountain-NOUN': 18, 'couple-NOUN': 17, 'must-VERB': 17, 'contains-NOUN': 17, 'check-NOUN': 17, 'tell-NOUN': 17, 'piece-NOUN': 17, 'show-NOUN': 17, 'stale-NOUN': 17, 'seem-NOUN': 17, 'list-VERB': 17, 'u-PRON': 17, 'none-NOUN': 17, 'nut-NOUN': 17, 'experience-NOUN': 17, 'package-VERB': 17, 'refund-NOUN': 17, 'either-DET': 17, 'else-ADV': 17, 'tomato-NOUN': 17, 'blue-NOUN': 16, 'mouth-NOUN': 16, 'allow-VERB': 16, 'mess-NOUN': 16, 'consider-VERB': 16, 'later-ADV': 16, 'house-NOUN': 16, 'totally-ADV': 16, 'picture-NOUN': 16, 'absolutely-ADV': 16, 'number-NOUN': 16, 'please-NOUN': 16, 'website-NOUN': 16, 'contact-NOUN': 16, 'strong-ADJ': 16, 'left-NOUN': 16, 'unless-ADP': 16, 'end-VERB': 16, 'guess-NOUN': 16, 'state-NOUN': 16, 'change-VERB': 15, 'huge-ADJ': 15, 'can-VERB': 15, 'nasty-ADJ': 15, 'fine-NOUN': 15, 'diet-NOUN': 15, 'ask-VERB': 15, 'wish-NOUN': 15, 'send-NOUN': 15, 'seed-NOUN': 15, 'chemical-NOUN': 15, 'roast-NOUN': 15, 'variety-NOUN': 15, 'next-ADJ': 15, 'ship-VERB': 15, 'sweetener-NOUN': 15, 'fresh-ADJ': 15, 'extremely-ADV': 14, 'happy-ADJ': 14, 'stuck-NOUN': 14, 'clearly-ADV': 14, 'entire-ADJ': 14, 'probably-ADV': 14, 'waste-VERB': 14, 'able-ADJ': 14, 'happen-VERB': 14, 'brown-NOUN': 14, 'diet-ADJ': 14, 'return-VERB': 14, 'healthy-ADJ': 14, 'claim-NOUN': 14, 'weak-ADJ': 14, 'hate-NOUN': 14, 'cracker-NOUN': 14, 'rice-NOUN': 14, 'drinking-NOUN': 14, 'end-NOUN': 14, 'batch-NOUN': 14, 'zero-NOUN': 14, 'broken-NOUN': 14, 'son-NOUN': 14, 'tiny-ADJ': 14, 'hot-NOUN': 14, 'soda-NOUN': 14, 'extra-ADJ': 14, 'show-VERB': 14, 'felt-NOUN': 14, 'dont-NOUN': 14, 'starbucks-NOUN': 14, 'positive-ADJ': 14, 'leaf-NOUN': 13, 'cacao-NOUN': 13, 'list-NOUN': 13, 'hole-NOUN': 13, 'awful-NOUN': 13, 'immediately-ADV': 13, 'except-ADP': 13, 'fed-NOUN': 13, 'recipe-NOUN': 13, 'hour-NOUN': 13, 'aware-ADJ': 13, 'five-NUM': 13, 'pay-VERB': 13, 'appear-VERB': 13, 'suppose-VERB': 13, 'figure-VERB': 13, 'child-NOUN': 13, 'fact-NOUN': 13, 'one-NOUN': 13, 'machine-NOUN': 13, 'wrong-ADJ': 13, 'certainly-ADV': 13, 'side-NOUN': 13, 'enjoy-NOUN': 13, 'orange-NOUN': 13, 'sell-NOUN': 13, 'turn-NOUN': 13, 'enjoy-VERB': 13, 'assume-VERB': 13, 'idea-NOUN': 13, 'online-NOUN': 13, 'candy-NOUN': 13, 'sorry-NOUN': 13, 'baking-NOUN': 13, 'pancake-NOUN': 13, 'leave-VERB': 12, 'peanut-NOUN': 12, 'soon-ADV': 12, 'cheaper-NOUN': 12, 'ate-NOUN': 12, 'contain-NOUN': 12, 'literally-ADV': 12, 'pound-NOUN': 12, 'complete-ADJ': 12, 'caramel-NOUN': 12, 'life-NOUN': 12, 'aftertaste-NOUN': 12, 'buyer-NOUN': 12, 'start-NOUN': 12, 'result-NOUN': 12, 'avoid-NOUN': 12, 'twice-ADV': 12, 'simply-ADV': 12, 'contain-VERB': 12, 'nice-ADJ': 12, 'kid-NOUN': 12, 'flat-ADJ': 12, 'gift-NOUN': 12, 'smell-VERB': 12, 'cancel-VERB': 12, 'light-NOUN': 12, 'throw-VERB': 12, 'finally-ADV': 12, 'everyone-NOUN': 12, 'plain-NOUN': 12, 'filter-NOUN': 12, 'salt-NOUN': 12, 'muffin-NOUN': 12, 'open-ADJ': 12, 'red-ADJ': 12, 'matter-NOUN': 12, 'alive-ADJ': 12, 'recently-ADV': 11, 'however-ADV': 11, 'base-VERB': 11, 'husband-NOUN': 11, 'soy-NOUN': 11, 'ounce-NOUN': 11, 'due-ADJ': 11, 'minute-NOUN': 11, 'vomit-NOUN': 11, 'switch-VERB': 11, 'word-NOUN': 11, 'rancid-NOUN': 11, 'hazelnut-NOUN': 11, 'friend-NOUN': 11, 'issue-NOUN': 11, 'iced-ADJ': 11, 'ago-ADV': 11, 'need-VERB': 11, 'protein-NOUN': 11, 'calorie-NOUN': 11, 'although-ADP': 11, 'actual-ADJ': 11, 'stop-NOUN': 11, 'reduce-VERB': 11, 'contact-VERB': 11, 'original-ADJ': 11, 'clear-ADJ': 11, 'close-ADV': 11, 'wife-NOUN': 11, 'love-VERB': 11, 'christmas-NOUN': 11, 'dead-ADJ': 11, 'jerky-NOUN': 11, 'remember-VERB': 11, 'email-NOUN': 11, 'syrup-NOUN': 11, 'frost-VERB': 11, 'jelly-ADV': 11, 'single-ADJ': 11, 'include-VERB': 11, 'lack-NOUN': 11, 'miss-NOUN': 11, 'oz-NOUN': 11, 'reviewer-NOUN': 11, 'work-VERB': 10, 'like-NOUN': 10, 'reading-NOUN': 10, 'slightly-ADV': 10, 'serve-VERB': 10, 'prefer-NOUN': 10, 'sound-NOUN': 10, 'especially-ADV': 10, 'weight-NOUN': 10, 'dent-VERB': 10, 'cookie-NOUN': 10, 'site-NOUN': 10, 'gluten-VERB': 10, 'brewer-NOUN': 10, 'mean-NOUN': 10, 'begin-VERB': 10, 'nutritional-ADJ': 10, 'us-NOUN': 10, 'along-ADP': 10, 'eats-NOUN': 10, 'vomit-VERB': 10, 'lose-VERB': 10, 'shop-NOUN': 10, 'write-NOUN': 10, 'checked-NOUN': 10, 'manufacturer-NOUN': 10, 'please-VERB': 10, 'remain-VERB': 10, 'do-VERB': 10, 'similar-ADJ': 10, 'seal-NOUN': 10, 'complaint-NOUN': 10, 'dry-VERB': 10, 'page-NOUN': 10, 'needle-NOUN': 10, 'icicle-NOUN': 10, 'everything-NOUN': 10, 'grove-VERB': 10, 'square-NOUN': 10, 'jamaica-NOUN': 10, 'ship-NOUN': 10, 'properly-ADV': 10, 'yet-ADV': 10, 'white-ADJ': 10, 'write-VERB': 10, 'swiss-ADJ': 10, 'pod-NOUN': 10, 'sale-NOUN': 10, 'night-NOUN': 10, 'like-VERB': 10, 'sick-NOUN': 10, 'poor-ADJ': 10, 'liquid-NOUN': 10, 'merchant-NOUN': 10, 'fill-VERB': 9, 'bone-NOUN': 9, 'mention-NOUN': 9, 'color-NOUN': 9, 'consistency-NOUN': 9, 'bowl-NOUN': 9, 'popcorn-NOUN': 9, 'shame-NOUN': 9, 'suggest-NOUN': 9, 'flour-NOUN': 9, 'together-ADV': 9, 'summer-NOUN': 9, 'concern-NOUN': 9, 'basically-ADV': 9, 'wonderful-NOUN': 9, 'spill-VERB': 9, 'bunch-NOUN': 9, 'dry-NOUN': 9, 'cause-VERB': 9, 'content-NOUN': 9, 'today-NOUN': 9, 'meat-NOUN': 9, 'marketing-NOUN': 9, 'wait-NOUN': 9, 'difficult-ADJ': 9, 'home-NOUN': 9, 'paid-NOUN': 9, 'popped-NOUN': 9, 'window-NOUN': 9, 'part-NOUN': 9, 'create-VERB': 9, 'multiple-NOUN': 9, 'mine-NOUN': 9, 'super-NOUN': 9, 'daughter-NOUN': 9, 'jamaican-ADJ': 9, 'others-NOUN': 9, 'photo-NOUN': 9, 'call-NOUN': 9, 'mixed-ADJ': 9, 'melt-VERB': 9, 'cardboard-NOUN': 9, 'unfortunately-ADV': 9, 'pure-NOUN': 9, 'stomach-NOUN': 9, 'label-VERB': 9, 'touch-NOUN': 9, 'help-NOUN': 9, 'certify-VERB': 9, 'china-NOUN': 9, 'blend-NOUN': 9, 'sad-NOUN': 9, 'purina-NOUN': 9, 'season-VERB': 9, 'aroma-NOUN': 9, 'state-VERB': 8, 'sauce-NOUN': 8, 'fan-NOUN': 8, 'nowhere-ADV': 8, 'dollar-NOUN': 8, 'third-ADJ': 8, 'form-NOUN': 8, 'busy-ADJ': 8, 'describe-NOUN': 8, 'pick-NOUN': 8, 'hand-NOUN': 8, 'clean-NOUN': 8, 'vet-NOUN': 8, 'grain-NOUN': 8, 'stand-NOUN': 8, 'knew-NOUN': 8, 'fit-NOUN': 8, 'serve-NOUN': 8, 'consumer-NOUN': 8, 'chew-VERB': 8, 'market-NOUN': 8, 'switch-NOUN': 8, 'guy-NOUN': 8, 'value-NOUN': 8, 'disgust-VERB': 8, 'difference-NOUN': 8, 'royal-NOUN': 8, 'crazy-NOUN': 8, 'become-VERB': 8, 'talk-VERB': 8, 'surprised-ADJ': 8, 'place-NOUN': 8, 'option-NOUN': 8, 'put-VERB': 8, 'thick-NOUN': 8, 'test-VERB': 8, 'mostly-ADV': 8, 'cook-NOUN': 8, 'trust-NOUN': 8, 'bite-NOUN': 8, 'replacement-NOUN': 8, 'effect-NOUN': 8, 'sample-NOUN': 8, 'country-NOUN': 8, 'hint-NOUN': 8, 'beef-NOUN': 8, 'process-NOUN': 8, 'perfect-NOUN': 8, 'bold-ADJ': 8, 'butter-NOUN': 8, 'lemon-NOUN': 8, 'jack-NOUN': 8, 'seal-VERB': 8, 'gas-NOUN': 8, 'pain-NOUN': 8, 'natural-ADJ': 8, 'wp-NOUN': 8, 'sort-NOUN': 8, 'turn-VERB': 8, 'thrown-NOUN': 8, 'black-NOUN': 8, 'blueberry-NOUN': 8, 'instant-NOUN': 8, 'plus-CONJ': 8, 'mill-NOUN': 8, 'apple-NOUN': 8, 'flower-NOUN': 8, 'bpa-NOUN': 8, 'image-NOUN': 7, 'version-NOUN': 7, 'thin-NOUN': 7, 'shelf-NOUN': 7, 'tongue-NOUN': 7, 'raise-VERB': 7, 'apparently-ADV': 7, 'advertised-ADJ': 7, 'longer-NOUN': 7, 'gingerbread-NOUN': 7, 'kidney-NOUN': 7, 'picked-NOUN': 7, 'developed-NOUN': 7, 'compare-NOUN': 7, 'point-NOUN': 7, 'vitamin-NOUN': 7, 'deal-NOUN': 7, 'normal-ADJ': 7, 'kit-NOUN': 7, 'coupon-NOUN': 7, 'run-VERB': 7, 'heard-NOUN': 7, 'excellent-NOUN': 7, 'cherry-NOUN': 7, 'afraid-NOUN': 7, 'notice-NOUN': 7, 'fda-NOUN': 7, 'glad-NOUN': 7, 'gotten-NOUN': 7, 'plan-NOUN': 7, 'shape-NOUN': 7, 'spend-NOUN': 7, 'beloved-VERB': 7, 'die-VERB': 7, 'produce-VERB': 7, 'live-ADJ': 7, 'deceptive-NOUN': 7, 'expiration-NOUN': 7, 'offer-NOUN': 7, 'suggest-VERB': 7, 'special-ADJ': 7, 'refund-VERB': 7, 'send-VERB': 7, 'center-NOUN': 7, 'heat-NOUN': 7, 'barely-ADV': 7, 'rate-NOUN': 7, 'breakfast-NOUN': 7, 'ready-ADJ': 7, 'disappoint-VERB': 7, 'perhaps-ADV': 7, 'particular-ADJ': 7, 'acid-NOUN': 7, 'hydrogenate-VERB': 7, 'partially-ADV': 7, 'carefully-ADV': 7, 'wrapper-NOUN': 7, 'careful-NOUN': 7, 'san-NOUN': 7, 'understand-NOUN': 7, 'future-NOUN': 7, 'trans-NOUN': 7, 'discover-VERB': 7, 'cooked-NOUN': 7, 'weird-NOUN': 7, 'ok-NOUN': 7, 'already-ADV': 7, 'lead-NOUN': 7, 'onion-NOUN': 7, 'rich-ADJ': 7, 'dop-NOUN': 7, 'spicy-NOUN': 7, 'mushroom-NOUN': 7, 'skin-NOUN': 7, 'white-NOUN': 7, 'powder-VERB': 7, 'shipment-NOUN': 7, 'greta-NOUN': 7, 'goat-NOUN': 7, 'awesome-NOUN': 6, 'sometimes-ADV': 6, 'compare-VERB': 6, 'trash-NOUN': 6, 'vinegar-NOUN': 6, 'hat-VERB': 6, 'bed-NOUN': 6, 'turkey-NOUN': 6, 'newman-NOUN': 6, 'packed-NOUN': 6, 'spent-NOUN': 6, 'available-ADJ': 6, 'report-NOUN': 6, 'leftover-NOUN': 6, 'walmart-NOUN': 6, 'lb-NOUN': 6, 'various-ADJ': 6, 'base-NOUN': 6, 'slight-NOUN': 6, 'indoor-NOUN': 6, 'stash-NOUN': 6, 'color-VERB': 6, 'middle-NOUN': 6, 'serious-ADJ': 6, 'paper-NOUN': 6, 'kitty-NOUN': 6, 'percent-NOUN': 6, 'dinner-NOUN': 6, 'new-NOUN': 6, 'u-NOUN': 6, 'recommend-VERB': 6, 'owner-NOUN': 6, 'death-NOUN': 6, 'letter-NOUN': 6, 'strip-NOUN': 6, 'receive-NOUN': 6, 'hardly-ADV': 6, 'unable-ADJ': 6, 'true-ADJ': 6, 'imagine-NOUN': 6, 'post-VERB': 6, 'fly-NOUN': 6, 'thanks-NOUN': 6, 'beer-NOUN': 6, 'offer-VERB': 6, 'brew-NOUN': 6, 'mid-NOUN': 6, 'snack-NOUN': 6, 'odd-NOUN': 6, 'overprice-VERB': 6, 'sit-VERB': 6, 'plug-NOUN': 6, 'wrap-VERB': 6, 'superior-ADJ': 6, 'spread-NOUN': 6, 'easily-ADV': 6, 'tasty-NOUN': 6, 'junk-NOUN': 6, 'world-NOUN': 6, 'mushy-NOUN': 6, 'check-VERB': 6, 'painful-NOUN': 6, 'detail-NOUN': 6, 'rating-NOUN': 6, 'replace-VERB': 6, 'outside-ADP': 6, 'marzano-NOUN': 6, 'delivery-NOUN': 6, 'vegetable-NOUN': 6, 'avoid-VERB': 6, 'research-NOUN': 6, 'amaze-VERB': 6, 'drinker-NOUN': 6, 'sodium-NOUN': 6, 'fake-NOUN': 6, 'container-NOUN': 6, 'person-NOUN': 6, 'learn-NOUN': 6, 'ask-NOUN': 6, 'bread-NOUN': 6, 'bold-NOUN': 6, 'sumatra-NOUN': 6, 'main-ADJ': 6, 'celiac-NOUN': 6, 'upon-ADP': 6, 'dirty-NOUN': 6, 'wonder-NOUN': 6, 'quick-NOUN': 6, 'likely-ADJ': 6, 'unit-NOUN': 6, 'nearly-ADV': 6, 'safety-NOUN': 6, 'standard-NOUN': 6, 'fool-NOUN': 6, 'subscribe-NOUN': 6, 'uncle-NOUN': 6, 'non-NOUN': 6, 'allergy-NOUN': 6, 'short-ADJ': 6, 'roll-VERB': 6, 'break-NOUN': 6, 'course-NOUN': 5, 'spice-NOUN': 5, 'vendor-NOUN': 5, 'near-ADP': 5, 'msg-NOUN': 5, 'dogfood-NOUN': 5, 'active-ADJ': 5, 'kitchen-NOUN': 5, 'wash-VERB': 5, 'temptation-NOUN': 5, 'felidae-NOUN': 5, 'generally-ADV': 5, 'provide-VERB': 5, 'charge-NOUN': 5, 'mistake-NOUN': 5, 'gain-VERB': 5, 'exchange-NOUN': 5, 'watch-NOUN': 5, 'rock-NOUN': 5, 'bud-NOUN': 5, 'kcup-NOUN': 5, 'unlike-ADP': 5, 'total-ADJ': 5, 'never-NOUN': 5, 'specifically-ADV': 5, 'support-NOUN': 5, 'public-NOUN': 5, 'supermarket-NOUN': 5, 'term-NOUN': 5, 'assure-VERB': 5, 'trust-VERB': 5, 'plenty-NOUN': 5, 'measure-VERB': 5, 'deliberately-ADV': 5, 'adult-NOUN': 5, 'garbage-NOUN': 5, 'wellness-NOUN': 5, 'walk-NOUN': 5, 'initial-ADJ': 5, 'favor-NOUN': 5, 'loose-ADJ': 5, 'strange-NOUN': 5, 'chunk-NOUN': 5, 'pink-NOUN': 5, 'herb-NOUN': 5, 'source-NOUN': 5, 'household-NOUN': 5, 'chewy-NOUN': 5, 'glass-NOUN': 5, 'pas-NOUN': 5, 'picky-NOUN': 5, 'gum-NOUN': 5, 'farm-NOUN': 5, 'live-VERB': 5, 'indeed-ADV': 5, 'fall-NOUN': 5, 'disease-NOUN': 5, 'toxic-NOUN': 5, 'highly-ADV': 5, 'hit-NOUN': 5, 'donut-NOUN': 5, 'rip-NOUN': 5, 'cut-NOUN': 5, 'place-VERB': 5, 'gf-NOUN': 5, 'rotten-VERB': 5, 'mold-NOUN': 5, 'hines-NOUN': 5, 'slow-VERB': 5, 'note-NOUN': 5, 'six-NUM': 5, 'tablet-NOUN': 5, 'share-NOUN': 5, 'alone-ADV': 5, 'trouble-NOUN': 5, 'chia-NOUN': 5, 'burnt-NOUN': 5, 'benefit-NOUN': 5, 'boy-NOUN': 5, 'pull-VERB': 5, 'fix-NOUN': 5, 'grow-NOUN': 5, 'pigskin-NOUN': 5, 'credit-NOUN': 5, 'soil-NOUN': 5, 'yellow-NOUN': 5, 'damage-NOUN': 5, 'beat-NOUN': 5, 'ruin-NOUN': 5, 'ahead-ADV': 5, 'crumb-NOUN': 5, 'licorice-NOUN': 5, 'line-NOUN': 5, 'expire-VERB': 5, 'mail-NOUN': 5, 'brew-VERB': 5, 'indicate-NOUN': 5, 'stock-NOUN': 5, 'redeem-VERB': 5, 'complain-VERB': 5, 'thank-NOUN': 5, 'sense-NOUN': 5, 'locally-ADV': 5, 'sip-NOUN': 5, 'doubt-NOUN': 5, 'ripped-NOUN': 5, 'hassle-NOUN': 5, 'require-VERB': 5, 'include-NOUN': 5, 'set-NOUN': 5, 'search-NOUN': 5, 'mislead-VERB': 5, 'effort-NOUN': 5, 'bubble-ADJ': 5, 'combination-NOUN': 5, 'pop-VERB': 5, 'opening-NOUN': 5, 'worst-ADV': 5, 'truly-ADV': 5, 'exactly-ADV': 5, 'herbal-NOUN': 5, 'otherwise-ADV': 5, 'agree-NOUN': 5, 'shock-VERB': 5, 'honest-NOUN': 5, 'party-NOUN': 5, 'individual-ADJ': 5, 'intestinal-ADJ': 5, 'gram-NOUN': 5, 'cheese-NOUN': 5, 'usda-NOUN': 5, 'pizza-NOUN': 5, 'peppermint-NOUN': 5, 'offering-NOUN': 5, 'heat-VERB': 5, 'honey-NOUN': 5, 'watery-NOUN': 5, 'acai-NOUN': 5, 'smooth-NOUN': 5, 'mind-NOUN': 5, 'fondant-NOUN': 5, 'chinese-ADJ': 5, 'betty-NOUN': 5, 'google-NOUN': 5, 'id-NOUN': 5, 'lack-VERB': 5, 'sassafras-NOUN': 5, 'charge-VERB': 5, 'rid-ADJ': 5, 'ginger-NOUN': 5, 'refuse-VERB': 5, 'kopi-NOUN': 5, 'fair-NOUN': 5, 'flax-NOUN': 5, 'important-ADJ': 4, 'design-NOUN': 4, 'noodle-NOUN': 4, 'ingrediant-NOUN': 4, 'system-NOUN': 4, 'chew-NOUN': 4, 'chance-NOUN': 4, 'numerous-ADJ': 4, 'continue-NOUN': 4, 'slop-NOUN': 4, 'diarrhea-NOUN': 4, 'alternative-NOUN': 4, 'organic-NOUN': 4, 'post-NOUN': 4, 'pasta-NOUN': 4, 'club-NOUN': 4, 'ball-NOUN': 4, 'widely-ADV': 4, 'disposa-NOUN': 4, 'creme-NOUN': 4, 'apart-ADV': 4, 'consume-VERB': 4, 'accept-NOUN': 4, 'confirm-VERB': 4, 'wait-VERB': 4, 'carry-VERB': 4, 'diagnose-VERB': 4, 'chronic-NOUN': 4, 'attention-NOUN': 4, 'female-NOUN': 4, 'regularly-ADV': 4, 'strongly-ADV': 4, 'mother-NOUN': 4, 'split-NOUN': 4, 'knock-VERB': 4, 'general-ADJ': 4, 'funny-NOUN': 4, 'heart-NOUN': 4, 'hungry-NOUN': 4, 'spoonful-NOUN': 4, 'walk-VERB': 4, 'merrick-NOUN': 4, 'material-NOUN': 4, 'import-VERB': 4, 'suffer-NOUN': 4, 'pop-NOUN': 4, 'move-VERB': 4, 'animal-NOUN': 4, 'guest-NOUN': 4, 'crack-VERB': 4, 'pot-NOUN': 4, 'decaf-NOUN': 4, 'nestle-NOUN': 4, 'mint-NOUN': 4, 'daily-ADJ': 4, 'notify-VERB': 4, 'currently-ADV': 4, 'market-VERB': 4, 'heavily-ADV': 4, 'read-VERB': 4, 'late-ADV': 4, 'air-NOUN': 4, 'odor-NOUN': 4, 'cleaning-NOUN': 4, 'furniture-NOUN': 4, 'search-VERB': 4, 'aluminum-NOUN': 4, 'bowel-NOUN': 4, 'movement-NOUN': 4, 'happens-NOUN': 4, 'damage-VERB': 4, 'neither-DET': 4, 'clean-VERB': 4, 'spit-NOUN': 4, 'claxton-NOUN': 4, 'directly-ADV': 4, 'fool-VERB': 4, 'possibly-ADV': 4, 'identical-ADJ': 4, 'inform-VERB': 4, 'loss-NOUN': 4, 'berry-NOUN': 4, 'tasteless-NOUN': 4, 'choke-NOUN': 4, 'edible-ADJ': 4, 'draw-NOUN': 4, 'kernel-NOUN': 4, 'pouch-NOUN': 4, 'pouch-ADJ': 4, 'choke-VERB': 4, 'wont-NOUN': 4, 'fast-NOUN': 4, 'proven-NOUN': 4, 'beverage-NOUN': 4, 'quickly-ADV': 4, 'teeth-NOUN': 4, 'honestly-ADV': 4, 'rubber-NOUN': 4, 'disappointment-NOUN': 4, 'belly-ADV': 4, 'silly-ADV': 4, 'inspection-NOUN': 4, 'perfectly-ADV': 4, 'decent-NOUN': 4, 'molasses-NOUN': 4, 'toss-VERB': 4, 'recieved-VERB': 4, 'double-ADV': 4, 'defective-ADJ': 4, 'beyond-ADP': 4, 'response-NOUN': 4, 'associate-VERB': 4, 'increase-NOUN': 4, 'ice-VERB': 4, 'via-ADP': 4, 'instruction-NOUN': 4, 'carrot-NOUN': 4, 'folk-NOUN': 4, 'pez-NOUN': 4, 'ups-NOUN': 4, 'root-NOUN': 4, 'information-NOUN': 4, 'egg-NOUN': 4, 'finish-NOUN': 4, 'jr-NOUN': 4, 'veggie-NOUN': 4, 'def-NOUN': 4, 'antibiotic-NOUN': 4, 'move-NOUN': 4, 'inform-NOUN': 4, 'bbq-NOUN': 4, 'inch-NOUN': 4, 'game-NOUN': 4, 'kinda-NOUN': 4, 'poorly-ADV': 4, 'share-VERB': 4, 'comment-NOUN': 4, 'lollipop-NOUN': 4, 'maple-NOUN': 4, 'english-ADJ': 4, 'cent-NOUN': 4, 'direction-NOUN': 4, 'yeast-NOUN': 4, 'choice-NOUN': 4, 'drank-NOUN': 4, 'bottle-VERB': 4, 'suspect-NOUN': 4, 'fish-NOUN': 4, 'wonder-VERB': 4, 'mild-NOUN': 4, 'fry-VERB': 4, 'basket-NOUN': 4, 'extract-NOUN': 4, 'embarrass-VERB': 4, 'nutrient-NOUN': 4, 'olive-ADJ': 4, 'personally-ADV': 4, 'example-NOUN': 4, 'fun-NOUN': 4, 'bland-NOUN': 4, 'carry-NOUN': 4, 'phone-NOUN': 4, 'harsh-NOUN': 4, 'greasy-NOUN': 4, 'symptom-NOUN': 4, 'boil-NOUN': 4, 'station-NOUN': 4, 'learn-VERB': 4, 'hear-NOUN': 4, 'tooth-NOUN': 4, 'certain-ADJ': 4, 'fluffy-NOUN': 4, 'garlic-NOUN': 4, 'bad-NOUN': 4, 'front-NOUN': 4, 'torn-NOUN': 4, 'sound-VERB': 4, 'pear-NOUN': 4, 'luck-NOUN': 4, 'indication-NOUN': 4, 'bother-NOUN': 4, 'caffe-NOUN': 4, 'jet-NOUN': 4, 'emeril-NOUN': 4, 'partial-ADJ': 4, 'beware-NOUN': 4, 'fondarific-NOUN': 4, 'brita-NOUN': 4, 'tortilla-NOUN': 4, 'pepper-NOUN': 4, 'maltitol-NOUN': 4, 'preserve-VERB': 4, 'water-VERB': 3, 'false-ADJ': 3, 'run-NOUN': 3, 'risk-NOUN': 3, 'record-VERB': 3, 'solid-ADJ': 3, 'described-NOUN': 3, 'inferior-NOUN': 3, 'puncture-VERB': 3, 'deeply-NOUN': 3, 'rinse-VERB': 3, 'familiar-ADJ': 3, 'crunch-VERB': 3, 'somehow-NOUN': 3, 'crumbles-NOUN': 3, 'pea-NOUN': 3, 'stupid-ADJ': 3, 'brought-NOUN': 3, 'increase-VERB': 3, 'alot-NOUN': 3, 'metallic-NOUN': 3, 'pour-VERB': 3, 'pitch-VERB': 3, 'mic-NOUN': 3, 'paleo-NOUN': 3, 'cooking-NOUN': 3, 'opinion-NOUN': 3, 'rat-VERB': 3, 'virtually-ADV': 3, 'salty-NOUN': 3, 'winter-NOUN': 3, 'peach-NOUN': 3, 'stage-NOUN': 3, 'mention-VERB': 3, 'male-NOUN': 3, 'chunky-NOUN': 3, 'visit-NOUN': 3, 'shed-VERB': 3, 'brush-VERB': 3, 'grateful-NOUN': 3, 'component-NOUN': 3, 'analysis-NOUN': 3, 'innova-NOUN': 3, 'wish-ADJ': 3, 'authentic-ADJ': 3, 'whatever-DET': 3, 'attractive-ADJ': 3, 'intentionally-ADV': 3, 'morning-NOUN': 3, 'commit-VERB': 3, 'carbohydrate-NOUN': 3, 'spending-NOUN': 3, 'figure-NOUN': 3, 'buffalo-NOUN': 3, 'girl-NOUN': 3, 'prior-ADV': 3, 'present-NOUN': 3, 'severe-ADJ': 3, 'previously-ADV': 3, 'airline-NOUN': 3, 'huge-NOUN': 3, 'fruity-NOUN': 3, 'noise-NOUN': 3, 'lie-VERB': 3, 'birthday-NOUN': 3, 'cigar-NOUN': 3, 'choose-VERB': 3, 'basmati-NOUN': 3, 'tempt-VERB': 3, 'canister-NOUN': 3, 'info-NOUN': 3, 'buck-NOUN': 3, 'often-ADV': 3, 'human-NOUN': 3, 'grease-NOUN': 3, 'among-ADP': 3, 'appreciate-NOUN': 3, 'willing-ADJ': 3, 'corporation-NOUN': 3, 'price-VERB': 3, 'advice-NOUN': 3, 'oxidize-VERB': 3, 'possible-ADJ': 3, 'twinings-NOUN': 3, 'cool-NOUN': 3, 'caught-NOUN': 3, 'business-NOUN': 3, 'tangerine-NOUN': 3, 'remainder-NOUN': 3, 'thats-NOUN': 3, 'therefore-ADV': 3, 'occur-VERB': 3, 'ive-ADJ': 3, 'arrival-NOUN': 3, 'grow-VERB': 3, 'gold-NOUN': 3, 'meant-NOUN': 3, 'subscription-NOUN': 3, 'holiday-NOUN': 3, 'claim-VERB': 3, 'gummy-NOUN': 3, 'signature-NOUN': 3, 'unusual-ADJ': 3, 'yeah-NOUN': 3, 'carbonate-VERB': 3, 'burn-NOUN': 3, 'toast-NOUN': 3, 'everywhere-ADV': 3, 'load-NOUN': 3, 'unpleasant-ADJ': 3, 'last-VERB': 3, 'card-NOUN': 3, 'im-NOUN': 3, 'flavorful-NOUN': 3, 'ruin-VERB': 3, 'personal-ADJ': 3, 'receipt-NOUN': 3, 'constantly-ADV': 3, 'concerned-ADJ': 3, 'wet-NOUN': 3, 'duncan-ADJ': 3, 'remind-VERB': 3, 'brush-NOUN': 3, 'laugh-NOUN': 3, 'omg-NOUN': 3, 'medicinal-NOUN': 3, 'dissolve-NOUN': 3, 'forward-ADV': 3, 'play-NOUN': 3, 'resolve-VERB': 3, 'sickly-NOUN': 3, 'lightly-ADV': 3, 'isnt-NOUN': 3, 'event-NOUN': 3, 'supplier-NOUN': 3, 'responsibility-NOUN': 3, 'explain-NOUN': 3, 'illness-NOUN': 3, 'additive-ADJ': 3, 'shake-NOUN': 3, 'united-NOUN': 3, 'obviously-ADV': 3, 'liver-NOUN': 3, 'postage-NOUN': 3, 'display-NOUN': 3, 'link-NOUN': 3, 'sicken-VERB': 3, 'spoke-NOUN': 3, 'bust-VERB': 3, 'concept-NOUN': 3, 'sampler-NOUN': 3, 'rave-VERB': 3, 'roll-NOUN': 3, 'arrive-ADJ': 3, 'tech-NOUN': 3, 'bulk-NOUN': 3, 'dairy-NOUN': 3, 'bring-NOUN': 3, 'smart-NOUN': 3, 'control-NOUN': 3, 'crumble-VERB': 3, 'begin-NOUN': 3, 'single-NOUN': 3, 'lol-NOUN': 3, 'cap-NOUN': 3, 'sensitive-ADJ': 3, 'travel-NOUN': 3, 'behind-ADP': 3, 'trip-NOUN': 3, 'goo-NOUN': 3, 'current-ADJ': 3, 'artificially-ADV': 3, 'sweeten-VERB': 3, 'cadbury-NOUN': 3, 'leak-NOUN': 3, 'negative-ADJ': 3, 'require-NOUN': 3, 'crisp-NOUN': 3, 'vary-NOUN': 3, 'account-NOUN': 3, 'code-NOUN': 3, 'unsuspecting-VERB': 3, 'scent-NOUN': 3, 'normally-ADV': 3, 'unopened-ADJ': 3, 'glow-VERB': 3, 'despite-ADP': 3, 'article-NOUN': 3, 'gallon-NOUN': 3, 'yuck-NOUN': 3, 'absolute-NOUN': 3, 'bathroom-NOUN': 3, 'collection-NOUN': 3, 'rise-NOUN': 3, 'handle-NOUN': 3, 'cancel-NOUN': 3, 'espresso-NOUN': 3, 'tin-NOUN': 3, 'hopefully-ADV': 3, 'bait-NOUN': 3, 'toss-NOUN': 3, 'moist-NOUN': 3, 'sat-NOUN': 3, 'graham-NOUN': 3, 'still-NOUN': 3, 'cramp-NOUN': 3, 'cane-NOUN': 3, 'ingest-VERB': 3, 'fuel-NOUN': 3, 'typically-ADV': 3, 'pomegranate-NOUN': 3, 'leak-VERB': 3, 'mark-NOUN': 3, 'shot-NOUN': 3, 'deliver-VERB': 3, 'dough-NOUN': 3, 'direct-VERB': 3, 'glue-NOUN': 3, 'release-VERB': 3, 'puppy-ADJ': 3, 'hairball-NOUN': 3, 'puncture-NOUN': 3, 'team-NOUN': 3, 'count-NOUN': 3, 'toy-NOUN': 3, 'user-NOUN': 3, 'overpower-VERB': 3, 'packet-NOUN': 3, 'maca-NOUN': 3, 'stir-NOUN': 3, 'goodness-NOUN': 3, 'exact-NOUN': 3, 'decides-NOUN': 3, 'second-NOUN': 3, 'set-VERB': 3, 'even-VERB': 3, 'select-NOUN': 3, 'merchandise-NOUN': 3, 'grape-NOUN': 3, 'pineapple-NOUN': 3, 'unhealthy-ADJ': 3, 'professional-ADJ': 3, 'test-NOUN': 3, 'fortune-NOUN': 3, 'restaurant-NOUN': 3, 'processing-NOUN': 3, 'senna-NOUN': 3, 'body-NOUN': 3, 'hurt-NOUN': 3, 'sinus-NOUN': 3, 'infection-NOUN': 3, 'nurse-NOUN': 3, 'moisture-NOUN': 3, 'sheet-NOUN': 3, 'process-VERB': 3, 'oak-NOUN': 3, 'sumatran-NOUN': 3, 'size-VERB': 3, 'error-NOUN': 3, 'mainly-ADV': 3, 'sweetness-NOUN': 3, 'straight-NOUN': 3, 'strictly-ADV': 3, 'fell-VERB': 3, 'major-ADJ': 3, 'stay-VERB': 3, 'delicious-ADJ': 3, 'close-VERB': 3, 'twist-NOUN': 3, 'horrid-NOUN': 3, 'contaminate-VERB': 3, 'stevia-NOUN': 3, 'nose-ADV': 3, 'duped-NOUN': 3, 'cube-NOUN': 3, 'sit-NOUN': 3, 'suggestion-NOUN': 3, 'insanely-ADV': 3, 'appeal-NOUN': 3, 'waffle-NOUN': 3, 'artificial-NOUN': 3, 'fancy-NOUN': 3, 'williams-NOUN': 3, 'address-NOUN': 3, 'rarely-ADV': 3, 'manufacture-VERB': 3, 'kill-VERB': 3, 'winston-NOUN': 3, 'hand-VERB': 3, 'danger-NOUN': 3, 'answer-NOUN': 3, 'fig-NOUN': 3, 'coat-VERB': 3, 'style-NOUN': 3, 'irish-ADJ': 3, 'dumped-NOUN': 3, 'wheat-NOUN': 3, 'meal-NOUN': 3, 'explain-VERB': 3, 'prickly-NOUN': 3, 'double-ADJ': 3, 'costco-NOUN': 3, 'bisquick-NOUN': 3, 'salmon-NOUN': 3, 'faint-NOUN': 3, 'clam-NOUN': 3, 'chowder-NOUN': 3, 'linger-VERB': 3, 'breath-NOUN': 3, 'vacation-NOUN': 3, 'oatmeal-NOUN': 3, 'correct-NOUN': 3, 'rep-NOUN': 3, 'thinner-NOUN': 3, 'kept-NOUN': 3, 'match-VERB': 3, 'elsewhere-ADV': 3, 'opt-VERB': 3, 'satin-NOUN': 3, 'hershey-NOUN': 3, 'miss-VERB': 3, 'russian-ADJ': 3, 'lamb-NOUN': 3, 'broth-NOUN': 3, 'mexican-ADJ': 3, 'sea-NOUN': 3, 'tiki-NOUN': 3, 'potential-ADJ': 2, 'warn-VERB': 2, 'tube-NOUN': 2, 'ability-NOUN': 2, 'receives-NOUN': 2, 'chili-NOUN': 2, 'understood-NOUN': 2, 'spend-VERB': 2, 'dissolve-VERB': 2, 'tab-NOUN': 2, 'green-NOUN': 2, 'tad-NOUN': 2, 'common-ADJ': 2, 'industry-NOUN': 2, 'feel-VERB': 2, 'cajun-NOUN': 2, 'eight-NUM': 2, 'hamburger-NOUN': 2, 'choose-NOUN': 2, 'wash-NOUN': 2, 'vacuum-NOUN': 2, 'cleaner-NOUN': 2, 'carpet-NOUN': 2, 'dish-NOUN': 2, 'whiskas-NOUN': 2, 'occasional-ADJ': 2, 'canidae-NOUN': 2, 'platinum-NOUN': 2, 'listen-VERB': 2, 'usual-ADJ': 2, 'somewhere-ADV': 2, 'veterinary-ADJ': 2, 'recommendation-NOUN': 2, 'remain-NOUN': 2, 'hull-NOUN': 2, 'spoon-NOUN': 2, 'popular-ADJ': 2, 'wholesale-NOUN': 2, 'chipped-NOUN': 2, 'oh-NOUN': 2, 'horribly-ADV': 2, 'flimsy-NOUN': 2, 'consume-NOUN': 2, 'detectable-ADJ': 2, 'policy-NOUN': 2, 'satisfy-VERB': 2, 'web-NOUN': 2, 'almond-NOUN': 2, 'energy-NOUN': 2, 'depend-VERB': 2, 'graduation-NOUN': 2, 'confuse-VERB': 2, 'arsenic-NOUN': 2, 'forget-NOUN': 2, 'mass-NOUN': 2, 'crap-NOUN': 2, 'gross-ADJ': 2, 'elderly-ADV': 2, 'warrant-NOUN': 2, 'prescription-NOUN': 2, 'phosphorus-NOUN': 2, 'level-NOUN': 2, 'nibbler-NOUN': 2, 'nugget-NOUN': 2, 'acceptable-ADJ': 2, 'longevity-NOUN': 2, 'appropriate-NOUN': 2, 'obese-ADJ': 2, 'lessen-VERB': 2, 'coat-NOUN': 2, 'stool-NOUN': 2, 'nobody-NOUN': 2, 'worrisome-NOUN': 2, 'lab-NOUN': 2, 'actively-ADV': 2, 'fooling-NOUN': 2, 'research-VERB': 2, 'renal-NOUN': 2, 'failure-NOUN': 2, 'chart-NOUN': 2, 'detail-VERB': 2, 'breakdown-NOUN': 2, 'tenth-NOUN': 2, 'canin-NOUN': 2, 'japanese-ADJ': 2, 'maltodextrin-NOUN': 2, 'bella-NOUN': 2, 'shy-NOUN': 2, 'bounce-VERB': 2, 'nine-NOUN': 2, 'housemate-NOUN': 2, 'utter-NOUN': 2, 'initially-ADV': 2, 'unfortunate-NOUN': 2, 'discount-VERB': 2, 'unmeasured-ADJ': 2, 'devour-NOUN': 2, 'parse-VERB': 2, 'destroy-VERB': 2, 'maintenance-NOUN': 2, 'unrealistic-ADJ': 2, 'wake-NOUN': 2, 'rip-VERB': 2, 'scratch-VERB': 2, 'door-NOUN': 2, 'act-NOUN': 2, 'checkup-NOUN': 2, 'slaughterhouse-NOUN': 2, 'transition-VERB': 2, 'onto-ADP': 2, 'freak-NOUN': 2, 'sawdust-NOUN': 2, 'regrettable-ADJ': 2, 'twelve-NOUN': 2, 'trash-VERB': 2, 'dramatic-ADJ': 2, 'genuinely-ADV': 2, 'sniffed-NOUN': 2, 'chose-NOUN': 2, 'performance-NOUN': 2, 'horror-NOUN': 2, 'thrill-VERB': 2, 'distributor-NOUN': 2, 'expiry-NOUN': 2, 'clue-NOUN': 2, 'crack-NOUN': 2, 'step-NOUN': 2, 'steer-NOUN': 2, 'prince-NOUN': 2, 'natural-NOUN': 2, 'cough-NOUN': 2, 'nearby-ADV': 2, 'depends-NOUN': 2, 'right-ADV': 2, 'suffer-VERB': 2, 'fix-VERB': 2, 'eater-NOUN': 2, 'urge-NOUN': 2, 'affected-ADJ': 2, 'email-VERB': 2, 'frost-NOUN': 2, 'pie-NOUN': 2, 'dump-NOUN': 2, 'shop-VERB': 2, 'fully-ADV': 2, 'suck-NOUN': 2, 'hazel-NOUN': 2, 'pricey-NOUN': 2, 'class-NOUN': 2, 'sweetner-NOUN': 2, 'impossible-ADJ': 2, 'particularly-ADV': 2, 'substitute-VERB': 2, 'determine-VERB': 2, 'nutritious-ADJ': 2, 'verify-VERB': 2, 'thoroughly-ADV': 2, 'thus-ADV': 2, 'hill-NOUN': 2, 'reseal-NOUN': 2, 'hunt-VERB': 2, 'coffe-NOUN': 2, 'suppose-NOUN': 2, 'sunny-NOUN': 2, 'foul-NOUN': 2, 'cold-NOUN': 2, 'delighted-ADJ': 2, 'smash-VERB': 2, 'dunkin-NOUN': 2, 'annoyed-NOUN': 2, 'sun-NOUN': 2, 'stem-NOUN': 2, 'die-NOUN': 2, 'wouldnt-NOUN': 2, 'submit-NOUN': 2, 'branch-NOUN': 2, 'forgot-NOUN': 2, 'february-NOUN': 2, 'hold-VERB': 2, 'pad-VERB': 2, 'warehouse-NOUN': 2, 'durable-ADJ': 2, 'agree-VERB': 2, 'spoil-VERB': 2, 'acquire-VERB': 2, 'express-VERB': 2, 'fructose-NOUN': 2, 'creamy-NOUN': 2, 'butternut-NOUN': 2, 'squash-NOUN': 2, 'sample-VERB': 2, 'seriously-ADV': 2, 'season-NOUN': 2, 'glitter-NOUN': 2, 'pan-NOUN': 2, 'wabash-NOUN': 2, 'valley-NOUN': 2, 'nature-NOUN': 2, 'golden-NOUN': 2, 'nutiva-NOUN': 2, 'salt-VERB': 2, 'ordered-NOUN': 2, 'chocolatey-NOUN': 2, 'better-NOUN': 2, 'added-NOUN': 2, 'munch-NOUN': 2, 'cover-NOUN': 2, 'target-NOUN': 2, 'must-NOUN': 2, 'late-ADJ': 2, 'slice-NOUN': 2, 'sure-ADJ': 2, 'cupcake-NOUN': 2, 'moment-NOUN': 2, 'sausage-NOUN': 2, 'board-NOUN': 2, 'soak-VERB': 2, 'snap-NOUN': 2, 'produce-NOUN': 2, 'bubble-NOUN': 2, 'anticipation-NOUN': 2, 'continue-VERB': 2, 'finely-ADV': 2, 'sifts-NOUN': 2, 'afford-NOUN': 2, 'acknowledge-VERB': 2, 'hartz-NOUN': 2, 'downsize-VERB': 2, 'filler-NOUN': 2, 'tim-NOUN': 2, 'staple-NOUN': 2, 'badly-ADV': 2, 'fortunately-ADV': 2, 'decorate-VERB': 2, 'decorate-NOUN': 2, 'peel-VERB': 2, 'ton-NOUN': 2, 'fur-NOUN': 2, 'fall-VERB': 2, 'bag-VERB': 2, 'chalky-NOUN': 2, 'discernible-ADJ': 2, 'prefer-VERB': 2, 'bring-VERB': 2, 'discolor-VERB': 2, 'reply-NOUN': 2, 'inquiry-NOUN': 2, 'jerk-NOUN': 2, 'harbor-NOUN': 2, 'degree-NOUN': 2, 'area-NOUN': 2, 'maker-NOUN': 2, 'retains-NOUN': 2, 'inordinate-NOUN': 2, 'experienced-ADJ': 2, 'hurry-NOUN': 2, 'smoke-VERB': 2, 'dump-VERB': 2, 'mysterious-ADJ': 2, 'attempt-VERB': 2, 'screw-NOUN': 2, 'shred-VERB': 2, 'commercial-ADJ': 2, 'resort-NOUN': 2, 'protective-NOUN': 2, 'prevent-VERB': 2, 'specific-ADJ': 2, 'japan-NOUN': 2, 'illegal-ADJ': 2, 'import-NOUN': 2, 'american-ADJ': 2, 'carb-NOUN': 2, 'create-NOUN': 2, 'accord-VERB': 2, 'hold-NOUN': 2, 'fluaid-NOUN': 2, 'separate-ADJ': 2, 'drop-NOUN': 2, 'menu-NOUN': 2, 'perforation-NOUN': 2, 'gourmet-NOUN': 2, 'shortly-ADV': 2, 'wilt-VERB': 2, 'feature-VERB': 2, 'await-VERB': 2, 'wild-ADJ': 2, 'blister-NOUN': 2, 'limited-ADJ': 2, 'edition-NOUN': 2, 'marked-NOUN': 2, 'broke-NOUN': 2, 'ran-NOUN': 2, 'clog-VERB': 2, 'dirt-NOUN': 2, 'upside-NOUN': 2, 'audrey-NOUN': 2, 'man-NOUN': 2, 'taffy-NOUN': 2, 'soybean-NOUN': 2, 'guitar-NOUN': 2, 'microphone-NOUN': 2, 'condition-NOUN': 2, 'remove-VERB': 2, 'rotate-NOUN': 2, 'profile-NOUN': 2, 'strenth-NOUN': 2, 'consistancy-NOUN': 2, 'confirm-NOUN': 2, 'wrinkle-VERB': 2, 'aromatic-ADJ': 2, 'plan-VERB': 2, 'famous-ADJ': 2, 'fridge-NOUN': 2, 'batter-NOUN': 2, 'brick-NOUN': 2, 'complete-VERB': 2, 'wrap-NOUN': 2, 'protection-NOUN': 2, 'eligible-ADJ': 2, 'rodent-NOUN': 2, 'reorder-VERB': 2, 'say-NOUN': 2, 'said-NOUN': 2, 'partially-NOUN': 2, 'looking-NOUN': 2, 'aisle-NOUN': 2, 'dent-NOUN': 2, 'yummy-NOUN': 2, 'apply-VERB': 2, 'pressure-NOUN': 2, 'homemade-NOUN': 2, 'knob-NOUN': 2, 'wide-ADJ': 2, 'bear-NOUN': 2, 'till-NOUN': 2, 'raw-ADJ': 2, 'essence-NOUN': 2, 'uk-NOUN': 2, 'grind-NOUN': 2, 'england-NOUN': 2, 'lovely-ADV': 2, 'slip-VERB': 2, 'rare-NOUN': 2, 'profit-NOUN': 2, 'milder-NOUN': 2, 'issue-VERB': 2, 'trading-NOUN': 2, 'massive-ADJ': 2, 'subject-NOUN': 2, 'unhappy-ADJ': 2, 'identify-VERB': 2, 'dilute-VERB': 2, 'comparable-ADJ': 2, 'nespresso-NOUN': 2, 'section-NOUN': 2, 'head-NOUN': 2, 'york-NOUN': 2, 'flavoring-NOUN': 2, 'fifty-NOUN': 2, 'expose-VERB': 2, 'result-VERB': 2, 'burn-VERB': 2, 'overnight-NOUN': 2, 'tends-NOUN': 2, 'dig-VERB': 2, 'separately-ADV': 2, 'know-NOUN': 2, 'expires-NOUN': 2, 'dense-NOUN': 2, 'decision-NOUN': 2, 'lover-NOUN': 2, 'match-NOUN': 2, 'wrongly-ADV': 2, 'pawn-NOUN': 2, 'visitor-NOUN': 2, 'worthless-NOUN': 2, 'file-NOUN': 2, 'grass-NOUN': 2, 'tough-ADJ': 2, 'soft-ADJ': 2, 'damn-NOUN': 2, 'choked-NOUN': 2, 'safe-ADJ': 2, 'member-NOUN': 2, 'mile-NOUN': 2, 'addition-NOUN': 2, 'overcook-VERB': 2, 'suspect-VERB': 2, 'harder-NOUN': 2, 'bucket-NOUN': 2, 'headache-NOUN': 2, 'picture-VERB': 2, 'regret-NOUN': 2, 'digest-NOUN': 2, 'beneful-ADJ': 2, 'spot-NOUN': 2, 'scary-ADJ': 2, 'refer-VERB': 2, 'investigate-NOUN': 2, 'something-VERB': 2, 'becomes-NOUN': 2, 'undone-NOUN': 2, 'duh-NOUN': 2, 'pee-NOUN': 2, 'poo-NOUN': 2, 'raspberry-NOUN': 2, 'opened-NOUN': 2, 'gonna-NOUN': 2, 'ride-NOUN': 2, 'bully-ADV': 2, 'terrier-NOUN': 2, 'really-NOUN': 2, 'artifical-ADJ': 2, 'criollo-NOUN': 2, 'newer-NOUN': 2, 'transparency-NOUN': 2, 'seek-NOUN': 2, 'impact-NOUN': 2, 'finger-NOUN': 2, 'kudos-NOUN': 2, 'reasonable-ADJ': 2, 'preserve-NOUN': 2, 'sorghum-NOUN': 2, 'evo-NOUN': 2, 'warm-NOUN': 2, 'fashion-VERB': 2, 'factor-NOUN': 2, 'happier-NOUN': 2, 'classic-ADJ': 2, 'chain-NOUN': 2, 'finish-VERB': 2, 'sum-NOUN': 2, 'nastyness-NOUN': 2, 'wolfy-NOUN': 2, 'detest-NOUN': 2, 'desert-NOUN': 2, 'best-NOUN': 2, 'prompt-VERB': 2, 'gain-NOUN': 2, 'tart-NOUN': 2, 'shall-VERB': 2, 'distinctive-NOUN': 2, 'unique-NOUN': 2, 'lakewood-NOUN': 2, 'closely-ADV': 2, 'convenience-NOUN': 2, 'temp-NOUN': 2, 'news-NOUN': 2, 'gracious-ADJ': 2, 'scrape-NOUN': 2, 'discourage-NOUN': 2, 'wine-NOUN': 2, 'characteristic-ADJ': 2, 'pinot-NOUN': 2, 'old-NOUN': 2, 'greatly-ADV': 2, 'unfair-NOUN': 2, 'kitten-VERB': 2, 'humane-NOUN': 2, 'society-NOUN': 2, 'gerber-NOUN': 2, 'disabled-ADJ': 2, 'facility-NOUN': 2, 'internet-NOUN': 2, 'discomfort-NOUN': 2, 'cramp-VERB': 2, 'excessive-ADJ': 2, 'question-NOUN': 2, 'carton-NOUN': 2, 'cereal-NOUN': 2, 'xlr-NOUN': 2, 'shure-NOUN': 2, 'adequate-NOUN': 2, 'drain-NOUN': 2, 'cosmetic-ADJ': 2, 'propylene-NOUN': 2, 'glycol-NOUN': 2, 'stain-NOUN': 2, 'sister-NOUN': 2, 'mom-NOUN': 2, 'operate-NOUN': 2, 'refresh-VERB': 2, 'min-NOUN': 2, 'round-NOUN': 2, 'floor-NOUN': 2, 'reserve-NOUN': 2, 'citrus-NOUN': 2, 'trader-NOUN': 2, 'bake-NOUN': 2, 'waxy-NOUN': 2, 'roof-NOUN': 2, 'sucralose-NOUN': 2, 'bum-VERB': 2, 'received-NOUN': 2, 'melted-NOUN': 2, 'blend-VERB': 2, 'naturally-ADV': 2, 'grill-NOUN': 2, 'quantity-NOUN': 2, 'wow-NOUN': 2, 'weaker-NOUN': 2, 'jalapeno-NOUN': 2, 'dissapointed-VERB': 2, 'tell-VERB': 2, 'friendly-ADV': 2, 'aweful-NOUN': 2, 'rootbeer-NOUN': 2, 'teabags-NOUN': 2, 'sticky-NOUN': 2, 'screw-VERB': 2, 'majority-NOUN': 2, 'qualify-VERB': 2, 'allergen-NOUN': 2, 'enhance-NOUN': 2, 'dream-VERB': 2, 'nunaturals-NOUN': 2, 'gmo-NOUN': 2, 'gag-VERB': 2, 'selection-NOUN': 2, 'allergic-NOUN': 2, 'reaction-NOUN': 2, 'throat-NOUN': 2, 'measure-NOUN': 2, 'spaghetti-NOUN': 2, 'america-NOUN': 2, 'extreme-NOUN': 2, 'continued-ADJ': 2, 'barrel-NOUN': 2, 'cover-VERB': 2, 'paste-NOUN': 2, 'poison-VERB': 2, 'flavorless-NOUN': 2, 'davinci-NOUN': 2, 'pug-NOUN': 2, 'view-NOUN': 2, 'applesauce-NOUN': 2, 'young-ADJ': 2, 'youd-NOUN': 2, 'could-NOUN': 2, 'chemistry-NOUN': 2, 'lousy-NOUN': 2, 'premium-NOUN': 2, 'pancake-VERB': 2, 'cinnamon-NOUN': 2, 'pint-NOUN': 2, 'vodka-NOUN': 2, 'grinder-NOUN': 2, 'auto-NOUN': 2, 'bake-VERB': 2, 'total-NOUN': 2, 'carbon-NOUN': 2, 'footprint-NOUN': 2, 'economical-ADJ': 2, 'two-NOUN': 2, 'banana-NOUN': 2, 'buttery-NOUN': 2, 'pm-NOUN': 2, 'lori-NOUN': 2, 'register-VERB': 2, 'dangerous-ADJ': 2, 'breed-NOUN': 2, 'talk-NOUN': 2, 'companion-NOUN': 2, 'spencer-NOUN': 2, 'dad-NOUN': 2, 'feature-NOUN': 2, 'face-NOUN': 2, 'forever-ADV': 2, 'memory-NOUN': 2, 'portion-NOUN': 2, 'respond-VERB': 2, 'conduct-NOUN': 2, 'lie-NOUN': 2, 'backyard-NOUN': 2, 'closest-NOUN': 2, 'gone-NOUN': 2, 'minus-NOUN': 2, 'melt-NOUN': 2, 'spread-VERB': 2, 'lay-VERB': 2, 'refer-NOUN': 2, 'moldy-NOUN': 2, 'rely-ADV': 2, 'prevent-NOUN': 2, 'surface-NOUN': 2, 'lower-VERB': 2, 'dislike-NOUN': 2, 'garnish-NOUN': 2, 'convenient-NOUN': 2, 'usb-NOUN': 2, 'annoy-VERB': 2, 'message-NOUN': 2, 'technical-ADJ': 2, 'mini-NOUN': 2, 'poor-NOUN': 2, 'line-VERB': 2, 'hydrogenated-NOUN': 2, 'palm-NOUN': 2, 'reference-NOUN': 2, 'purpose-NOUN': 2, 'pike-NOUN': 2, 'xtra-NOUN': 2, 'magic-NOUN': 2, 'jazz-VERB': 2, 'lake-VERB': 2, 'caribou-NOUN': 2, 'evaluate-VERB': 2, 'melange-NOUN': 2, 'francais-NOUN': 2, 'inexcusably-ADV': 2, 'sing-VERB': 2, 'appal-VERB': 2, 'capable-ADJ': 2, 'filter-VERB': 2, 'invasion-NOUN': 2, 'tiger-NOUN': 2, 'cabinet-NOUN': 2, 'unpardonably-ADV': 2, 'cant-NOUN': 2, 'spew-VERB': 2, 'approach-NOUN': 2, 'illustration-NOUN': 2, 'curt-NOUN': 2, 'aka-NOUN': 2, 'internal-ADJ': 2, 'unacceptable-ADJ': 2, 'refuse-NOUN': 2, 'cento-NOUN': 2, 'stripe-NOUN': 2, 'training-NOUN': 2, 'resemble-ADJ': 2, 'courteous-ADJ': 2, 'reflect-VERB': 2, 'bee-NOUN': 2, 'freshly-ADV': 2, 'unsealed-ADJ': 2, 'crust-NOUN': 2, 'importantly-ADV': 2, 'load-VERB': 2, 'darjeeling-VERB': 2, 'gunpowder-NOUN': 2, 'fennel-NOUN': 2, 'canada-NOUN': 2, 'vial-NOUN': 2, 'ranch-NOUN': 2, 'dress-VERB': 2, 'toll-NOUN': 2, 'minor-NOUN': 2, 'pleased-ADJ': 2, 'whenever-NOUN': 2, 'preschool-NOUN': 2, 'bird-NOUN': 2, 'wedding-NOUN': 2, 'play-VERB': 2, 'friskies-NOUN': 2, 'lead-VERB': 2, 'countless-NOUN': 2, 'parent-NOUN': 2, 'silky-NOUN': 2, 'thai-NOUN': 2, 'clump-NOUN': 2, 'bloating-NOUN': 2, 'teaspoon-NOUN': 2, 'build-NOUN': 2, 'anymore-ADV': 2, 'chewed-NOUN': 2, 'discover-NOUN': 2, 'plum-NOUN': 2, 'smoke-NOUN': 2, 'zealand-NOUN': 2, 'bacteria-NOUN': 2, 'cloudy-NOUN': 2, 'wise-NOUN': 2, 'buckwheat-NOUN': 2, 'eastern-NOUN': 2, 'european-ADJ': 2, 'jarred-NOUN': 2, 'hawaiian-ADJ': 2, 'keep-NOUN': 2, 'occasionally-ADV': 2, 'migraine-NOUN': 2, 'rude-NOUN': 2, 'shell-NOUN': 2, 'smoother-NOUN': 2, 'encounter-VERB': 2, 'sign-NOUN': 2, 'tocopherol-NOUN': 2, 'anywhere-ADV': 2, 'situation-NOUN': 2, 'brings-NOUN': 2, 'empty-ADJ': 2, 'previous-ADJ': 2, 'wasa-NOUN': 2, 'peaberry-NOUN': 2, 'tolerate-NOUN': 2, 'martha-NOUN': 2, 'great-NOUN': 2, 'design-VERB': 2, 'yucky-NOUN': 2, 'tetra-NOUN': 2, 'konriko-NOUN': 2, 'hydrolyze-VERB': 2, 'cottonseed-NOUN': 2, 'find-NOUN': 2, 'lesson-NOUN': 2, 'sugarfree-NOUN': 2, 'clearer-NOUN': 2, 'confustion-NOUN': 2, 'tazo-NOUN': 2, 'joe-NOUN': 2, 'gelatinous-ADJ': 2, 'might-NOUN': 2, 'across-ADP': 2, 'note-VERB': 2, 'hodgson-NOUN': 2, 'canine-NOUN': 2, 'basketeer-NOUN': 2, 'range-NOUN': 2, 'listing-NOUN': 2, 'chef-NOUN': 2, 'savory-NOUN': 2, 'chutney-NOUN': 2, 'advertize-VERB': 1, 'convince-VERB': 1, 'care-VERB': 1, 'record-NOUN': 1, 'profound-NOUN': 1, 'cut-VERB': 1, 'audio-NOUN': 1, 'crappy-ADJ': 1, 'prevents-NOUN': 1, 'establish-VERB': 1, 'productive-ADJ': 1, 'prepare-NOUN': 1, 'oily-ADV': 1, 'satay-NOUN': 1, 'richer-NOUN': 1, 'destine-VERB': 1, 'didnt-NOUN': 1, 'reach-NOUN': 1, 'ingrediants-NOUN': 1, 'hydrolyse-VERB': 1, 'con-NOUN': 1, 'grocer-NOUN': 1, 'proudly-ADV': 1, 'displayed-NOUN': 1, 'monosodium-NOUN': 1, 'stimulats-NOUN': 1, 'tone-NOUN': 1, 'durkee-NOUN': 1, 'anybody-NOUN': 1, 'punch-VERB': 1, 'flush-NOUN': 1, 'chewer-NOUN': 1, 'fifteen-NOUN': 1, 'absorbed-NOUN': 1, 'annoyance-NOUN': 1, 'scrub-VERB': 1, 'vigorously-ADV': 1, 'met-NOUN': 1, 'hauntingly-ADV': 1, 'bedroom-NOUN': 1, 'scold-NOUN': 1, 'struck-NOUN': 1, 'gushy-NOUN': 1, 'oobleck-NOUN': 1, 'puked-NOUN': 1, 'devours-NOUN': 1, 'senior-ADJ': 1, 'overweight-NOUN': 1, 'privilege-NOUN': 1, 'puke-NOUN': 1, 'nail-VERB': 1, 'brink-NOUN': 1, 'former-ADJ': 1, 'drop-VERB': 1, 'maintain-VERB': 1, 'mobility-NOUN': 1, 'buy-NOUN': 1, 'student-NOUN': 1, 'book-NOUN': 1, 'vegetable-ADJ': 1, 'video-NOUN': 1, 'hully-ADV': 1, 'false-NOUN': 1, 'kid-VERB': 1, 'reqular-NOUN': 1, 'golf-NOUN': 1, 'fishy-NOUN': 1, 'donate-VERB': 1, 'signal-NOUN': 1, 'impressed-ADJ': 1, 'cookbook-NOUN': 1, 'neighbor-NOUN': 1, 'blanch-VERB': 1, 'elana-NOUN': 1, 'inflate-NOUN': 1, 'ridiculous-ADJ': 1, 'kups-NOUN': 1, 'donna-NOUN': 1, 'phillips-NOUN': 1, 'additionally-ADV': 1, 'co-NOUN': 1, 'worker-NOUN': 1, 'serum-NOUN': 1, 'hat-NOUN': 1, 'inorganic-NOUN': 1, 'styrofoam-NOUN': 1, 'positively-ADV': 1, 'hyperbole-NOUN': 1, 'reportedly-ADV': 1, 'eggnog-NOUN': 1, 'tannic-NOUN': 1, 'dehydrate-VERB': 1, 'fussy-NOUN': 1, 'layer-NOUN': 1, 'scrap-VERB': 1, 'bg-NOUN': 1, 'safer-NOUN': 1, 'recall-NOUN': 1, 'ziwipeak-NOUN': 1, 'sharp-ADJ': 1, 'greyish-NOUN': 1, 'connective-NOUN': 1, 'brandy-NOUN': 1, 'subtle-NOUN': 1, 'stickiness-NOUN': 1, 'mistreat-VERB': 1, 'speculate-VERB': 1, 'decompression-NOUN': 1, 'burst-NOUN': 1, 'dusty-NOUN': 1, 'laroshell-NOUN': 1, 'malt-NOUN': 1, 'glycemic-NOUN': 1, 'miniscule-NOUN': 1, 'effective-ADJ': 1, 'corporatizing-VERB': 1, 'cheapen-VERB': 1, 'homeopathic-ADJ': 1, 'beg-VERB': 1, 'sneak-NOUN': 1, 'hardish-NOUN': 1, 'reviewd-NOUN': 1, 'loud-NOUN': 1, 'noitce-NOUN': 1, 'bug-NOUN': 1, 'knowledge-NOUN': 1, 'yell-VERB': 1, 'chowing-VERB': 1, 'sensitve-NOUN': 1, 'thier-NOUN': 1, 'rescue-VERB': 1, 'affair-NOUN': 1, 'rack-NOUN': 1, 'gd-NOUN': 1, 'shatter-NOUN': 1, 'gravy-NOUN': 1, 'truth-NOUN': 1, 'diarhea-NOUN': 1, 'irritate-VERB': 1, 'avoids-NOUN': 1, 'gruel-NOUN': 1, 'hawaii-NOUN': 1, 'grain-VERB': 1, 'apology-NOUN': 1, 'frustration-NOUN': 1, 'inedible-ADJ': 1, 'caffeine-NOUN': 1, 'minct-NOUN': 1, 'exactly-NOUN': 1, 'thumbnail-NOUN': 1, 'technically-ADV': 1, 'artwork-NOUN': 1, 'essentially-ADV': 1, 'doggie-NOUN': 1, 'aunt-NOUN': 1, 'viewer-NOUN': 1, 'point-VERB': 1, 'pesticide-NOUN': 1, 'questionable-ADJ': 1, 'question-VERB': 1, 'contract-VERB': 1, 'debilitate-VERB': 1, 'relatively-ADV': 1, 'painfully-ADV': 1, 'reseal-VERB': 1, 'gap-NOUN': 1, 'misfortune-NOUN': 1, 'prepping-VERB': 1, 'chop-VERB': 1, 'preparation-NOUN': 1, 'distinctly-ADV': 1, 'air-VERB': 1, 'roommate-NOUN': 1, 'catch-NOUN': 1, 'pkg-NOUN': 1, 'lunch-NOUN': 1, 'overwhelms-NOUN': 1, 'sunchips-NOUN': 1, 'addict-VERB': 1, 'zippy-NOUN': 1, 'derogatory-NOUN': 1, 'statement-NOUN': 1, 'conversation-NOUN': 1, 'eye-NOUN': 1, 'chug-NOUN': 1, 'belching-NOUN': 1, 'jump-NOUN': 1, 'bandwagon-NOUN': 1, 'reinstate-VERB': 1, 'software-NOUN': 1, 'surprise-NOUN': 1, 'rot-VERB': 1, 'rum-NOUN': 1, 'gladly-ADV': 1, 'dumb-NOUN': 1, 'crunch-NOUN': 1, 'yr-NOUN': 1, 'poodle-NOUN': 1, 'ide-NOUN': 1, 'click-VERB': 1, 'guzzle-NOUN': 1, 'fire-NOUN': 1, 'deserve-NOUN': 1, 'excuse-NOUN': 1, 'caveat-NOUN': 1, 'promotional-ADJ': 1, 'surround-VERB': 1, 'protect-VERB': 1, 'whether-ADP': 1, 'unbroken-ADJ': 1, 'intact-ADJ': 1, 'physical-ADJ': 1, 'oj-NOUN': 1, 'fart-NOUN': 1, 'fruitcake-NOUN': 1, 'tradition-NOUN': 1, 'counterfeit-NOUN': 1, 'consist-VERB': 1, 'forth-NOUN': 1, 'attitude-NOUN': 1, 'observe-VERB': 1, 'grieve-VERB': 1, 'make-NOUN': 1, 'pipe-NOUN': 1, 'tobacco-NOUN': 1, 'combine-NOUN': 1, 'drier-NOUN': 1, 'fantastic-ADJ': 1, 'craft-NOUN': 1, 'worthy-NOUN': 1, 'wilton-NOUN': 1, 'sugary-ADJ': 1, 'fanta-NOUN': 1, 'massively-ADV': 1, 'overly-ADV': 1, 'environmental-ADJ': 1, 'consistently-ADV': 1, 'freshness-NOUN': 1, 'amish-ADJ': 1, 'maid-NOUN': 1, 'delicate-NOUN': 1, 'retriever-NOUN': 1, 'latter-NOUN': 1, 'granulate-VERB': 1, 'agave-VERB': 1, 'nectar-NOUN': 1, 'enhance-VERB': 1, 'definately-ADV': 1, 'adding-NOUN': 1, 'actually-NOUN': 1, 'interest-VERB': 1, 'citrusy-NOUN': 1, 'leather-NOUN': 1, 'chemically-ADV': 1, 'swallow-NOUN': 1, 'ooba-NOUN': 1, 'hibiscus-NOUN': 1, 'pillsbury-NOUN': 1, 'freezer-NOUN': 1, 'thaw-VERB': 1, 'slide-NOUN': 1, 'came-NOUN': 1, 'regret-VERB': 1, 'pickle-VERB': 1, 'disolve-NOUN': 1, 'stated-NOUN': 1, 'german-ADJ': 1, 'close-NOUN': 1, 'triggered-NOUN': 1, 'least-NOUN': 1, 'laptop-NOUN': 1, 'recognize-VERB': 1, 'lighter-NOUN': 1, 'zip-NOUN': 1, 'lock-NOUN': 1, 'crush-VERB': 1, 'succeed-VERB': 1, 'cheat-NOUN': 1, 'sooooooooooooo-NOUN': 1, 'shelter-NOUN': 1, 'present-ADJ': 1, 'compound-NOUN': 1, 'blow-NOUN': 1, 'sprout-VERB': 1, 'transpant-NOUN': 1, 'grows-NOUN': 1, 'weekly-ADJ': 1, 'eagerly-ADV': 1, 'pumpkin-NOUN': 1, 'necklace-NOUN': 1, 'generous-ADJ': 1, 'luxury-NOUN': 1, 'forge-VERB': 1, 'anyway-ADV': 1, 'ugly-ADV': 1, 'baught-NOUN': 1, 'petgaurd-NOUN': 1, 'fairway-NOUN': 1, 'degusting-NOUN': 1, 'okay-NOUN': 1, 'anywhere-NOUN': 1, 'upcoming-VERB': 1, 'supposedly-ADV': 1, 'shoe-NOUN': 1, 'absorb-NOUN': 1, 'tree-NOUN': 1, 'ornament-NOUN': 1, 'substance-NOUN': 1, 'cholocates-NOUN': 1, 'cholocate-NOUN': 1, 'frugal-NOUN': 1, 'sucker-NOUN': 1, 'marginally-ADV': 1, 'somebody-NOUN': 1, 'chase-VERB': 1, 'negging-VERB': 1, 'sweetish-NOUN': 1, 'doesnt-NOUN': 1, 'teriyaki-NOUN': 1, 'direct-ADJ': 1, 'everybody-NOUN': 1, 'pricy-NOUN': 1, 'hickory-NOUN': 1, 'jerkey-NOUN': 1, 'incredibly-ADV': 1, 'tax-NOUN': 1, 'convinient-NOUN': 1, 'rank-NOUN': 1, 'organize-VERB': 1, 'namely-ADV': 1, 'notification-NOUN': 1, 'blame-NOUN': 1, 'unknown-ADJ': 1, 'ultimately-ADV': 1, 'frustrate-VERB': 1, 'wishy-NOUN': 1, 'washy-NOUN': 1, 'slew-NOUN': 1, 'thereby-ADV': 1, 'mutter-NOUN': 1, 'indecipherable-ADJ': 1, 'mumbo-NOUN': 1, 'jumbo-NOUN': 1, 'solve-NOUN': 1, 'drug-NOUN': 1, 'administration-NOUN': 1, 'caution-VERB': 1, 'consumption-NOUN': 1, 'report-VERB': 1, 'represent-VERB': 1, 'speed-NOUN': 1, 'manufacture-NOUN': 1, 'intention-NOUN': 1, 'slash-VERB': 1, 'patient-NOUN': 1, 'kobe-NOUN': 1, 'prefecture-NOUN': 1, 'gray-NOUN': 1, 'darken-NOUN': 1, 'expectation-NOUN': 1, 'freeze-NOUN': 1, 'irradiate-VERB': 1, 'request-VERB': 1, 'csr-NOUN': 1, 'coldaid-NOUN': 1, 'regardless-ADV': 1, 'default-NOUN': 1, 'taped-NOUN': 1, 'driven-NOUN': 1, 'mature-NOUN': 1, 'sooner-NOUN': 1, 'neglect-VERB': 1, 'babka-NOUN': 1, 'juicer-NOUN': 1, 'confirmation-NOUN': 1, 'ascertain-VERB': 1, 'indicative-ADJ': 1, 'knuckle-NOUN': 1, 'protest-NOUN': 1, 'beartoothjoe-NOUN': 1, 'lure-VERB': 1, 'gimmicky-NOUN': 1, 'pancreatitis-NOUN': 1, 'hospitalization-NOUN': 1, 'lethargy-NOUN': 1, 'somewhat-ADV': 1, 'fizzy-NOUN': 1, 'refill-NOUN': 1, 'car-NOUN': 1, 'dispenser-NOUN': 1, 'lightning-VERB': 1, 'sally-ADV': 1, 'doc-NOUN': 1, 'individually-ADV': 1, 'title-NOUN': 1, 'island-NOUN': 1, 'execution-NOUN': 1, 'epic-NOUN': 1, 'decorative-NOUN': 1, 'click-NOUN': 1, 'anxious-ADJ': 1, 'apparent-NOUN': 1, 'trouble-ADJ': 1, 'hang-NOUN': 1, 'edge-NOUN': 1, 'tuck-NOUN': 1, 'remedy-NOUN': 1, 'facilitate-NOUN': 1, 'rumble-VERB': 1, 'girlfriend-NOUN': 1, 'gut-NOUN': 1, 'useful-ADJ': 1, 'starch-NOUN': 1, 'tartaric-NOUN': 1, 'cal-NOUN': 1, 'salesman-NOUN': 1, 'constant-ADJ': 1, 'akg-NOUN': 1, 'sift-VERB': 1, 'publish-NOUN': 1, 'squirt-NOUN': 1, 'attraction-NOUN': 1, 'fear-NOUN': 1, 'laddoos-NOUN': 1, 'loaf-NOUN': 1, 'flop-VERB': 1, 'top-VERB': 1, 'fire-VERB': 1, 'awful-ADJ': 1, 'unappetizing-VERB': 1, 'teenage-NOUN': 1, 'dip-NOUN': 1, 'tolerable-ADJ': 1, 'niece-NOUN': 1, 'newly-ADV': 1, 'firm-NOUN': 1, 'olive-NOUN': 1, 'grainy-NOUN': 1, 'unusable-ADJ': 1, 'sleeve-NOUN': 1, 'shallow-NOUN': 1, 'tune-NOUN': 1, 'west-NOUN': 1, 'extremely-NOUN': 1, 'gorilla-NOUN': 1, 'shook-NOUN': 1, 'sized-NOUN': 1, 'tried-NOUN': 1, 'paul-NOUN': 1, 'catarized-NOUN': 1, 'advertized-NOUN': 1, 'upset-NOUN': 1, 'important-NOUN': 1, 'yeh-NOUN': 1, 'normally-NOUN': 1, 'etc-NOUN': 1, 'ur-NOUN': 1, 'castor-NOUN': 1, 'pollux-NOUN': 1, 'organix-NOUN': 1, 'fav-NOUN': 1, 'truly-NOUN': 1, 'surprised-NOUN': 1, 'frighten-VERB': 1, 'trap-NOUN': 1, 'bux-NOUN': 1, 'stink-NOUN': 1, 'mildly-ADV': 1, 'cave-NOUN': 1, 'professionally-ADV': 1, 'delivers-NOUN': 1, 'own-VERB': 1, 'power-NOUN': 1, 'indicator-NOUN': 1, 'wall-NOUN': 1, 'hum-NOUN': 1, 'reliable-ADJ': 1, 'ketchup-NOUN': 1, 'grandparent-NOUN': 1, 'barbeque-NOUN': 1, 'verrrryyyy-NOUN': 1, 'count-VERB': 1, 'truck-NOUN': 1, 'refundable-ADJ': 1, 'ecuador-NOUN': 1, 'halaleveryday-NOUN': 1, 'notoriously-ADV': 1, 'distinct-NOUN': 1, 'india-NOUN': 1, 'yuban-NOUN': 1, 'refrigerator-NOUN': 1, 'bin-NOUN': 1, 'prepara-NOUN': 1, 'savor-NOUN': 1, 'detachable-ADJ': 1, 'continually-ADV': 1, 'refrain-NOUN': 1, 'inconsistent-NOUN': 1, 'devoid-NOUN': 1, 'intensity-NOUN': 1, 'blood-NOUN': 1, 'lipid-NOUN': 1, 'itemize-VERB': 1, 'advantage-NOUN': 1, 'uniform-NOUN': 1, 'whitish-NOUN': 1, 'browner-NOUN': 1, 'seasonally-ADV': 1, 'variation-NOUN': 1, 'passing-NOUN': 1, 'instance-NOUN': 1, 'private-ADJ': 1, 'equity-NOUN': 1, 'cutter-NOUN': 1, 'management-NOUN': 1, 'employ-VERB': 1, 'acquire-NOUN': 1, 'margin-NOUN': 1, 'valuable-ADJ': 1, 'employee-NOUN': 1, 'exploit-VERB': 1, 'papaya-NOUN': 1, 'poison-NOUN': 1, 'mercury-NOUN': 1, 'wizard-NOUN': 1, 'theme-VERB': 1, 'deceive-VERB': 1, 'dimentions-NOUN': 1, 'differnet-NOUN': 1, 'vase-NOUN': 1, 'dos-NOUN': 1, 'pepcid-NOUN': 1, 'culture-NOUN': 1, 'collector-NOUN': 1, 'shamelessly-ADV': 1, 'conscience-NOUN': 1, 'spiling-VERB': 1, 'ace-NOUN': 1, 'break-VERB': 1, 'approx-NOUN': 1, 'specify-NOUN': 1, 'mixture-NOUN': 1, 'capsule-NOUN': 1, 'prey-NOUN': 1, 'palate-NOUN': 1, 'sluggish-ADJ': 1, 'ten-NOUN': 1, 'gooy-NOUN': 1, 'flabbergast-VERB': 1, 'espouse-VERB': 1, 'desire-NOUN': 1, 'drizzle-NOUN': 1, 'sorely-ADV': 1, 'molecule-NOUN': 1, 'sinful-NOUN': 1, 'perpetuate-VERB': 1, 'out-VERB': 1, 'enlighten-VERB': 1, 'beaker-NOUN': 1, 'twenty-NOUN': 1, 'thirty-NOUN': 1, 'noone-NOUN': 1, 'wary-ADJ': 1, 'humid-NOUN': 1, 'empty-VERB': 1, 'tentacle-NOUN': 1, 'bitten-NOUN': 1, 'offensive-ADJ': 1, 'pic-NOUN': 1, 'redenbacker-NOUN': 1, 'popper-NOUN': 1, 'unpopped-ADJ': 1, 'mberry-NOUN': 1, 'curb-NOUN': 1, 'balsalmic-NOUN': 1, 'mess-VERB': 1, 'puggies-NOUN': 1, 'fail-VERB': 1, 'multi-NOUN': 1, 'heartland-NOUN': 1, 'coulod-NOUN': 1, 'navitas-NOUN': 1, 'recur-VERB': 1, 'breville-NOUN': 1, 'lavazzo-NOUN': 1, 'eager-NOUN': 1, 'verdict-NOUN': 1, 'completely-NOUN': 1, 'hesitate-NOUN': 1, 'bravely-ADV': 1, 'defies-NOUN': 1, 'pen-VERB': 1, 'thru-NOUN': 1, 'brushing-NOUN': 1, 'skinny-NOUN': 1, 'approve-VERB': 1, 'aside-ADV': 1, 'horrendous-ADJ': 1, 'guise-NOUN': 1, 'triplet-NOUN': 1, 'eventhe-NOUN': 1, 'runny-NOUN': 1, 'roughly-ADV': 1, 'approximate-NOUN': 1, 'relate-NOUN': 1, 'generic-NOUN': 1, 'scrap-NOUN': 1, 'lobster-NOUN': 1, 'beyond-NOUN': 1, 'freight-NOUN': 1, 'intense-ADJ': 1, 'smoky-NOUN': 1, 'thesis-NOUN': 1, 'origin-NOUN': 1, 'arizona-NOUN': 1, 'gree-VERB': 1, 'recomment-NOUN': 1, 'seattle-NOUN': 1, 'december-NOUN': 1, 'brunch-NOUN': 1, 'artifial-ADJ': 1, 'medaglia-NOUN': 1, 'musty-NOUN': 1, 'poop-NOUN': 1, 'retain-NOUN': 1, 'halo-NOUN': 1, 'waaaay-NOUN': 1, 'attempt-NOUN': 1, 'flavored-NOUN': 1, 'optional-ADJ': 1, 'amiss-NOUN': 1, 'beach-NOUN': 1, 'reservation-NOUN': 1, 'proceed-VERB': 1, 'recommmend-NOUN': 1, 'final-ADJ': 1, 'blob-NOUN': 1, 'macadamia-NOUN': 1, 'prime-NOUN': 1, 'brewing-NOUN': 1, 'bth-NOUN': 1, 'anthony-NOUN': 1, 'liquor-NOUN': 1, 'win-VERB': 1, 'delicious-NOUN': 1, 'combine-VERB': 1, 'stinky-NOUN': 1, 'poopy-NOUN': 1, 'diaper-NOUN': 1, 'whisker-NOUN': 1, 'lickins-NOUN': 1, 'disposable-ADJ': 1, 'heavy-ADJ': 1, 'station-VERB': 1, 'afghanistan-NOUN': 1, 'spilt-NOUN': 1, 'idk-NOUN': 1, 'airplane-NOUN': 1, 'insulate-VERB': 1, 'crusty-NOUN': 1, 'soldier-NOUN': 1, 'valuepetsupplies-NOUN': 1, 'consistent-NOUN': 1, 'beg-NOUN': 1, 'quote-VERB': 1, 'thickness-NOUN': 1, 'heeler-NOUN': 1, 'dispatch-VERB': 1, 'fox-NOUN': 1, 'sponsor-NOUN': 1, 'substantial-ADJ': 1, 'presumably-ADV': 1, 'lightweight-NOUN': 1, 'circuit-NOUN': 1, 'engage-NOUN': 1, 'defeat-NOUN': 1, 'phantom-NOUN': 1, 'verrrrry-NOUN': 1, 'readily-ADV': 1, 'sprig-NOUN': 1, 'garden-NOUN': 1, 'credibility-NOUN': 1, 'different-NOUN': 1, 'ecuadorian-ADJ': 1, 'reorder-NOUN': 1, 'underhanded-ADJ': 1, 'transfer-NOUN': 1, 'saquin-NOUN': 1, 'nib-NOUN': 1, 'suspicious-ADJ': 1, 'halal-NOUN': 1, 'interchangable-ADJ': 1, 'liberty-NOUN': 1, 'auspex-NOUN': 1, 'foodie-NOUN': 1, 'protocol-NOUN': 1, 'loaded-NOUN': 1, 'groovy-NOUN': 1, 'whisk-NOUN': 1, 'gently-ADV': 1, 'hey-NOUN': 1, 'scant-NOUN': 1, 'dash-NOUN': 1, 'whisk-VERB': 1, 'convert-VERB': 1, 'babysit-NOUN': 1, 'concentrate-VERB': 1, 'sans-NOUN': 1, 'bioavailable-ADJ': 1, 'weston-NOUN': 1, 'antioxidant-NOUN': 1, 'activates-NOUN': 1, 'seratonin-NOUN': 1, 'receptor-NOUN': 1, 'fuzzy-NOUN': 1, 'cuisinart-NOUN': 1, 'heavenly-ADV': 1, 'refrigerate-NOUN': 1, 'proper-NOUN': 1, 'unsulfured-ADJ': 1, 'lara-NOUN': 1, 'healthier-NOUN': 1, 'peace-NOUN': 1, 'condiment-NOUN': 1, 'disgustingly-ADV': 1, 'spice-VERB': 1, 'marinara-NOUN': 1, 'sweeter-NOUN': 1, 'magical-ADJ': 1, 'mealy-NOUN': 1, 'creep-VERB': 1, 'sour-VERB': 1, 'circus-NOUN': 1, 'theme-NOUN': 1, 'recognizes-NOUN': 1, 'odering-VERB': 1, 'early-ADV': 1, 'grandchild-NOUN': 1, 'march-NOUN': 1, 'sometime-ADV': 1, 'eventually-ADV': 1, 'pleasant-NOUN': 1, 'perversion-NOUN': 1, 'blackberry-NOUN': 1, 'chocolaty-NOUN': 1, 'milky-NOUN': 1, 'exotic-ADJ': 1, 'zola-NOUN': 1, 'samzon-NOUN': 1, 'lactic-ADJ': 1, 'tuber-NOUN': 1, 'angry-ADJ': 1, 'responsiveness-NOUN': 1, 'dole-NOUN': 1, 'trend-NOUN': 1, 'towards-NOUN': 1, 'trendy-NOUN': 1, 'compel-NOUN': 1, 'grab-NOUN': 1, 'dietary-ADJ': 1, 'seltzer-NOUN': 1, 'indulgent-NOUN': 1, 'pellegrino-NOUN': 1, 'orangina-NOUN': 1, 'izze-NOUN': 1, 'indulge-NOUN': 1, 'drive-VERB': 1, 'creation-NOUN': 1, 'hateful-NOUN': 1, 'sneeze-VERB': 1, 'sniffle-VERB': 1, 'shabby-NOUN': 1, 'pip-VERB': 1, 'saddens-NOUN': 1, 'calamares-NOUN': 1, 'satisfaction-NOUN': 1, 'exception-NOUN': 1, 'optimistic-ADJ': 1, 'cost-VERB': 1, 'transforms-NOUN': 1, 'highly-NOUN': 1, 'transparent-NOUN': 1, 'complexity-NOUN': 1, 'noir-NOUN': 1, 'earlier-ADV': 1, 'genuine-NOUN': 1, 'leadership-NOUN': 1, 'predictive-NOUN': 1, 'corner-NOUN': 1, 'sunflower-NOUN': 1, 'goodie-NOUN': 1, 'closer-NOUN': 1, 'medley-NOUN': 1, 'limit-NOUN': 1, 'apricot-NOUN': 1, 'crocker-NOUN': 1, 'legally-ADV': 1, 'diseased-VERB': 1, 'packinghouse-NOUN': 1, 'belatedly-ADV': 1, 'individual-NOUN': 1, 'admonition-NOUN': 1, 'rely-VERB': 1, 'contract-NOUN': 1, 'grip-VERB': 1, 'diverticular-NOUN': 1, 'causal-NOUN': 1, 'supplement-NOUN': 1, 'inside-NOUN': 1, 'accomplish-NOUN': 1, 'lotion-NOUN': 1, 'attach-VERB': 1, 'mimic-NOUN': 1, 'fourth-ADJ': 1, 'connect-VERB': 1, 'computer-NOUN': 1, 'simpler-NOUN': 1, 'transport-NOUN': 1, 'volume-NOUN': 1, 'mineral-NOUN': 1, 'automatic-ADJ': 1, 'brake-NOUN': 1, 'hydraulic-NOUN': 1, 'fluid-NOUN': 1, 'industrial-ADJ': 1, 'retention-NOUN': 1, 'escape-NOUN': 1, 'data-NOUN': 1, 'warns-NOUN': 1, 'irritant-NOUN': 1, 'abnormality-NOUN': 1, 'tyre-NOUN': 1, 'fabric-NOUN': 1, 'wallpaper-ADP': 1, 'synonymous-ADJ': 1, 'glutamic-NOUN': 1, 'comparison-NOUN': 1, 'trip-VERB': 1, 'synsepalum-NOUN': 1, 'dulcificum-NOUN': 1, 'buckle-NOUN': 1, 'reusable-ADJ': 1, 'advertisement-NOUN': 1, 'went-NOUN': 1, 'cart-NOUN': 1, 'fluke-NOUN': 1, 'ridiculous-NOUN': 1, 'program-NOUN': 1, 'recovering-NOUN': 1, 'smarter-NOUN': 1, 'pressing-NOUN': 1, 'applause-NOUN': 1, 'embodies-NOUN': 1, 'esspresso-NOUN': 1, 'torched-NOUN': 1, 'restroom-NOUN': 1, 'mopped-NOUN': 1, 'jumbo-ADJ': 1, 'intend-VERB': 1, 'represent-NOUN': 1, 'proportion-NOUN': 1, 'equal-ADJ': 1, 'acidity-NOUN': 1, 'metal-NOUN': 1, 'lingers-NOUN': 1, 'trait-NOUN': 1, 'crush-NOUN': 1, 'ive-NOUN': 1, 'mask-VERB': 1, 'foot-NOUN': 1, 'chamomile-NOUN': 1, 'timely-ADV': 1, 'rule-NOUN': 1, 'shrink-NOUN': 1, 'hydrate-VERB': 1, 'film-NOUN': 1, 'college-NOUN': 1, 'java-NOUN': 1, 'buzzworthy-NOUN': 1, 'melitta-NOUN': 1, 'medium-NOUN': 1, 'evaluate-NOUN': 1, 'kenya-NOUN': 1, 'aa-NOUN': 1, 'columbian-ADJ': 1, 'maxwell-NOUN': 1, 'pedestrian-ADJ': 1, 'school-NOUN': 1, 'ohama-NOUN': 1, 'bombard-VERB': 1, 'ad-NOUN': 1, 'styro-NOUN': 1, 'cooler-NOUN': 1, 'vacuumed-NOUN': 1, 'age-VERB': 1, 'steak-NOUN': 1, 'frozen-NOUN': 1, 'butcher-NOUN': 1, 'bisquit-NOUN': 1, 'nonsense-NOUN': 1, 'rise-VERB': 1, 'hearing-NOUN': 1, 'arrives-NOUN': 1, 'unfriendly-NOUN': 1, 'teabag-NOUN': 1, 'investigation-NOUN': 1, 'steep-VERB': 1, 'transit-NOUN': 1, 'hazard-NOUN': 1, 'looked-NOUN': 1, 'manage-NOUN': 1, 'cornbread-NOUN': 1, 'sand-NOUN': 1, 'since-NOUN': 1, 'kavli-NOUN': 1, 'crispy-NOUN': 1, 'listed-NOUN': 1, 'going-NOUN': 1, 'defintely-ADV': 1, 'madhouse-NOUN': 1, 'munchies-NOUN': 1, 'totality-NOUN': 1, 'unsweetened-ADJ': 1, 'lady-NOUN': 1, 'crisis-NOUN': 1, 'sufferer-NOUN': 1, 'pierce-NOUN': 1, 'resealable-ADJ': 1, 'tub-NOUN': 1, 'tie-NOUN': 1, 'typed-NOUN': 1, 'lately-ADV': 1, 'sight-NOUN': 1, 'laugh-VERB': 1, 'tepid-NOUN': 1, 'zupas-NOUN': 1, 'pathetic-ADJ': 1, 'imitator-NOUN': 1, 'grandeur-NOUN': 1, 'tang-NOUN': 1, 'da-NOUN': 1, 'hawt-NOUN': 1, 'ache-NOUN': 1, 'intolerance-NOUN': 1, 'spare-NOUN': 1, 'intestine-NOUN': 1, 'autoimmune-NOUN': 1, 'cheat-VERB': 1, 'query-VERB': 1, 'rain-NOUN': 1, 'pinch-VERB': 1, 'tic-ADJ': 1, 'tacs-NOUN': 1, 'yawn-VERB': 1, 'fail-NOUN': 1, 'unnecessary-ADJ': 1, 'ploy-NOUN': 1, 'mine-VERB': 1, 'cruelty-NOUN': 1, 'ole-NOUN': 1, 'btw-NOUN': 1, 'occurs-NOUN': 1, 'faster-NOUN': 1, 'bicarbonate-NOUN': 1, 'yes-NOUN': 1, 'clicked-NOUN': 1, 'airway-ADV': 1, 'spearmint-NOUN': 1, 'din-VERB': 1, 'history-NOUN': 1, 'plave-NOUN': 1, 'level-VERB': 1, 'manuever-NOUN': 1, 'press-NOUN': 1, 'loosen-NOUN': 1, 'comment-VERB': 1, 'cod-NOUN': 1, 'roe-NOUN': 1, 'lazy-NOUN': 1, 'asian-ADJ': 1, 'remind-NOUN': 1, 'ocean-NOUN': 1, 'barbque-NOUN': 1, 'roadside-NOUN': 1, 'wavy-NOUN': 1, 'prove-VERB': 1, 'appear-NOUN': 1, 'rid-VERB': 1, 'favorable-ADJ': 1, 'stress-NOUN': 1, 'happily-ADV': 1, 'related-ADJ': 1, 'hotdog-NOUN': 1, 'story-NOUN': 1, 'atrocity-NOUN': 1, 'pk-NOUN': 1, 'doctor-NOUN': 1, 'equivilent-NOUN': 1, 'peak-NOUN': 1, 'astound-VERB': 1, 'game-VERB': 1, 'whimper-VERB': 1, 'quote-NOUN': 1, 'deserves-NOUN': 1, 'tool-NOUN': 1, 'wafer-NOUN': 1, 'communion-NOUN': 1, 'develop-VERB': 1, 'reject-VERB': 1, 'inject-NOUN': 1, 'department-NOUN': 1, 'whereas-NOUN': 1, 'automatically-ADV': 1, 'drawn-NOUN': 1, 'solely-ADV': 1, 'secondly-ADV': 1, 'ovaltine-NOUN': 1, 'ray-NOUN': 1, 'always-NOUN': 1, 'wal-NOUN': 1, 'whip-VERB': 1, 'investigate-VERB': 1, 'whip-NOUN': 1, 'packae-NOUN': 1, 'totally-NOUN': 1, 'adequately-ADV': 1, 'element-NOUN': 1, 'determine-NOUN': 1, 'touch-VERB': 1, 'amongst-NOUN': 1, 'genetically-ADV': 1, 'modify-VERB': 1, 'brag-NOUN': 1, 'biljac-NOUN': 1, 'cheapest-NOUN': 1, 'modern-ADJ': 1, 'folksy-NOUN': 1, 'kia-NOUN': 1, 'stonewall-NOUN': 1, 'farmhouse-NOUN': 1, 'foamy-NOUN': 1, 'asks-NOUN': 1, 'claimed-NOUN': 1, 'digest-VERB': 1, 'sonoma-NOUN': 1, 'richly-ADV': 1, 'weber-NOUN': 1, 'roast-VERB': 1, 'inconvenient-NOUN': 1, 'repackage-NOUN': 1, 'location-NOUN': 1, 'citus-NOUN': 1, 'diego-NOUN': 1, 'undeliverable-ADJ': 1, 'pick-VERB': 1, 'baker-NOUN': 1, 'ease-NOUN': 1, 'definite-NOUN': 1, 'grown-NOUN': 1, 'curious-ADJ': 1, 'contaminant-NOUN': 1, 'melamine-NOUN': 1, 'export-VERB': 1, 'economy-NOUN': 1, 'government-NOUN': 1, 'bough-NOUN': 1, 'rush-NOUN': 1, 'soooo-NOUN': 1, 'modify-NOUN': 1, 'delete-NOUN': 1, 'crunchy-NOUN': 1, 'hated-NOUN': 1, 'klefje-NOUN': 1, 'lskejfewl-NOUN': 1, 'lsfjewldf-NOUN': 1, 'slot-NOUN': 1, 'subsequently-ADV': 1, 'orrigional-ADJ': 1, 'tire-VERB': 1, 'gunk-NOUN': 1, 'displeasure-NOUN': 1, 'mix-VERB': 1, 'acrid-NOUN': 1, 'standpoint-NOUN': 1, 'seat-NOUN': 1, 'casein-NOUN': 1, 'disposakups-NOUN': 1, 'struggle-NOUN': 1, 'outer-NOUN': 1, 'creates-NOUN': 1, 'landfill-NOUN': 1, 'commercially-ADV': 1, 'recyclable-ADJ': 1, 'discontinue-VERB': 1, 'long-VERB': 1, 'energize-VERB': 1, 'drunk-NOUN': 1, 'disapointed-VERB': 1, 'considerable-ADJ': 1, 'friday-NOUN': 1, 'awaken-VERB': 1, 'scream-NOUN': 1, 'living-NOUN': 1, 'room-NOUN': 1, 'cradle-VERB': 1, 'crawl-VERB': 1, 'table-NOUN': 1, 'iconic-NOUN': 1, 'general-NOUN': 1, 'lethal-NOUN': 1, 'breeder-NOUN': 1, 'adorable-ADJ': 1, 'sweetheart-NOUN': 1, 'stroke-NOUN': 1, 'victim-NOUN': 1, 'stressful-NOUN': 1, 'devastate-VERB': 1, 'citizen-NOUN': 1, 'westminster-NOUN': 1, 'kennel-NOUN': 1, 'series-NOUN': 1, 'fine-ADJ': 1, 'competition-NOUN': 1, 'negligent-NOUN': 1, 'spayed-NOUN': 1, 'bitterly-ADV': 1, 'ironic-NOUN': 1, 'office-NOUN': 1, 'distance-NOUN': 1, 'kroger-NOUN': 1, 'father-NOUN': 1, 'appreciates-NOUN': 1, 'fulltime-NOUN': 1, 'russell-NOUN': 1, 'schedule-VERB': 1, 'surgery-NOUN': 1, 'cleveland-NOUN': 1, 'myriad-NOUN': 1, 'manage-VERB': 1, 'steal-VERB': 1, 'consideration-NOUN': 1, 'welfare-NOUN': 1, 'tragically-ADV': 1, 'name-VERB': 1, 'tenacious-ADJ': 1, 'bulldog-NOUN': 1, 'etch-VERB': 1, 'soulful-NOUN': 1, 'depressed-ADJ': 1, 'playmate-NOUN': 1, 'disappear-VERB': 1, 'photographer-NOUN': 1, 'writer-NOUN': 1, 'instills-NOUN': 1, 'snatch-NOUN': 1, 'guilt-NOUN': 1, 'grief-NOUN': 1, 'pass-NOUN': 1, 'tragic-NOUN': 1, 'observation-NOUN': 1, 'retrospect-NOUN': 1, 'brief-NOUN': 1, 'gross-NOUN': 1, 'negligence-NOUN': 1, 'indelibly-ADV': 1, 'erase-NOUN': 1, 'sear-VERB': 1, 'awake-NOUN': 1, 'grave-NOUN': 1, 'anguish-NOUN': 1, 'express-NOUN': 1, 'utterly-ADV': 1, 'pull-NOUN': 1, 'responsible-ADJ': 1, 'karl-NOUN': 1, 'former-NOUN': 1, 'purebred-VERB': 1, 'feather-NOUN': 1, 'deceive-NOUN': 1, 'inclined-ADJ': 1, 'whoever-NOUN': 1, 'tender-NOUN': 1, 'wear-NOUN': 1, 'softer-NOUN': 1, 'lay-NOUN': 1, 'homeless-NOUN': 1, 'soap-NOUN': 1, 'lauryl-NOUN': 1, 'laureth-NOUN': 1, 'metabolic-NOUN': 1, 'supplementation-NOUN': 1, 'balance-VERB': 1, 'guilty-ADJ': 1, 'pleasure-NOUN': 1, 'compote-NOUN': 1, 'improperly-ADV': 1, 'lucky-ADJ': 1, 'paranoid-NOUN': 1, 'worry-NOUN': 1, 'suprised-VERB': 1, 'pass-VERB': 1, 'publicity-NOUN': 1, 'reputation-NOUN': 1, 'domed-VERB': 1, 'poked-NOUN': 1, 'toothpick-NOUN': 1, 'nose-NOUN': 1, 'sour-ADJ': 1, 'dijon-NOUN': 1, 'mustard-NOUN': 1, 'powdery-NOUN': 1, 'affinity-NOUN': 1, 'reassess-NOUN': 1, 'enclose-VERB': 1, 'knead-VERB': 1, 'tore-NOUN': 1, 'draped-NOUN': 1, 'durring-VERB': 1, 'application-NOUN': 1, 'cornstarch-NOUN': 1, 'plainly-ADV': 1, 'adulterate-VERB': 1, 'unwittingly-ADV': 1, 'advise-VERB': 1, 'inexpensive-ADJ': 1, 'caviar-NOUN': 1, 'bubbly-ADV': 1, 'carbonation-NOUN': 1, 'loooong-NOUN': 1, 'mouthwash-NOUN': 1, 'persian-ADJ': 1, 'puke-VERB': 1, 'desperate-NOUN': 1, 'unprocessed-ADJ': 1, 'cable-NOUN': 1, 'dynamic-ADJ': 1, 'hiss-VERB': 1, 'accompanies-NOUN': 1, 'vocal-ADJ': 1, 'eliminate-VERB': 1, 'driver-NOUN': 1, 'restarts-NOUN': 1, 'uninstalling-VERB': 1, 'hub-NOUN': 1, 'port-NOUN': 1, 'troubleshoot-VERB': 1, 'log-VERB': 1, 'instruct-VERB': 1, 'bat-VERB': 1, 'plug-VERB': 1, 'compatibility-NOUN': 1, 'clearly-NOUN': 1, 'specification-NOUN': 1, 'compatible-ADJ': 1, 'inadequacy-NOUN': 1, 'csrs-NOUN': 1, 'pretend-VERB': 1, 'terribly-ADV': 1, 'device-NOUN': 1, 'upgraded-ADJ': 1, 'accommodate-NOUN': 1, 'booklet-NOUN': 1, 'incompatible-ADJ': 1, 'mac-NOUN': 1, 'pc-NOUN': 1, 'o-NOUN': 1, 'solo-NOUN': 1, 'everytime-NOUN': 1, 'undetectable-ADJ': 1, 'october-NOUN': 1, 'float-VERB': 1, 'ridiculously-ADV': 1, 'glucose-NOUN': 1, 'coca-NOUN': 1, 'nonfat-NOUN': 1, 'modified-NOUN': 1, 'cellulose-NOUN': 1, 'dipotassium-NOUN': 1, 'silicon-NOUN': 1, 'highlight-VERB': 1, 'nursery-NOUN': 1, 'spout-NOUN': 1, 'remedied-VERB': 1, 'bakery-NOUN': 1, 'indiana-NOUN': 1, 'jones-NOUN': 1, 'ark-NOUN': 1, 'stone-NOUN': 1, 'temple-NOUN': 1, 'holy-NOUN': 1, 'crystal-NOUN': 1, 'loser-NOUN': 1, 'honest-ADJ': 1, 'few-ADJ': 1, 'misguide-VERB': 1, 'acidic-NOUN': 1, 'knucklehead-NOUN': 1, 'faux-NOUN': 1, 'pa-NOUN': 1, 'troglodytian-ADJ': 1, 'nada-NOUN': 1, 'print-NOUN': 1, 'constitutionally-ADV': 1, 'aint-NOUN': 1, 'keenest-NOUN': 1, 'paraphrase-NOUN': 1, 'wiser-NOUN': 1, 'rethink-NOUN': 1, 'juicy-NOUN': 1, 'ambiguously-ADV': 1, 'mcfly-NOUN': 1, 'fyi-NOUN': 1, 'unmixed-ADJ': 1, 'tv-NOUN': 1, 'courtesy-NOUN': 1, 'bus-NOUN': 1, 'zoom-NOUN': 1, 'einsteinian-ADJ': 1, 'logic-NOUN': 1, 'b-NOUN': 1, 'arm-NOUN': 1, 'criticism-NOUN': 1, 'heck-NOUN': 1, 'brave-NOUN': 1, 'misconception-NOUN': 1, 'hink-NOUN': 1, 'frank-NOUN': 1, 'bombastic-ADJ': 1, 'sarcastic-ADJ': 1, 'trace-VERB': 1, 'recall-VERB': 1, 'retail-ADJ': 1, 'advise-NOUN': 1, 'muddy-NOUN': 1, 'lodge-NOUN': 1, 'autistic-ADJ': 1, 'respond-NOUN': 1, 'concern-VERB': 1, 'caribbean-NOUN': 1, 'joy-NOUN': 1, 'visible-ADJ': 1, 'pina-NOUN': 1, 'coladas-NOUN': 1, 'help-VERB': 1, 'laid-NOUN': 1, 'relative-NOUN': 1, 'vender-NOUN': 1, 'spat-NOUN': 1, 'restrict-VERB': 1, 'lawn-NOUN': 1, 'clipping-NOUN': 1, 'damp-NOUN': 1, 'obligate-VERB': 1, 'ill-NOUN': 1, 'coincidence-NOUN': 1, 'reply-VERB': 1, 'bumble-ADJ': 1, 'europe-NOUN': 1, 'extensively-ADV': 1, 'entitle-VERB': 1, 'nicely-ADV': 1, 'soupy-NOUN': 1, 'kindly-ADV': 1, 'disappoined-VERB': 1, 'poker-NOUN': 1, 'remarkably-ADV': 1, 'guess-VERB': 1, 'print-VERB': 1, 'whatsoever-NOUN': 1, 'faulty-NOUN': 1, 'unlikely-ADJ': 1, 'char-VERB': 1, 'misprint-NOUN': 1, 'responisbility-NOUN': 1, 'delightful-NOUN': 1, 'ringer-NOUN': 1, 'lemonade-NOUN': 1, 'altoids-NOUN': 1, 'cute-NOUN': 1, 'mintiness-NOUN': 1, 'wintergreen-NOUN': 1, 'freshen-NOUN': 1, 'icebreaker-NOUN': 1, 'hence-NOUN': 1, 'quart-NOUN': 1, 'gusto-NOUN': 1, 'supply-NOUN': 1, 'ham-NOUN': 1, 'entirely-ADV': 1, 'spanish-ADJ': 1, 'aritficial-ADJ': 1, 'gasp-VERB': 1, 'breathe-NOUN': 1, 'heimlich-NOUN': 1, 'maneuver-NOUN': 1, 'luckily-ADV': 1, 'scary-NOUN': 1, 'tbsp-NOUN': 1, 'yield-NOUN': 1, 'restock-VERB': 1, 'biscuit-NOUN': 1, 'fault-NOUN': 1, 'murky-NOUN': 1, 'mb-NOUN': 1, 'variance-NOUN': 1, 'bill-NOUN': 1, 'analize-VERB': 1, 'ethoxyquin-NOUN': 1, 'pursue-NOUN': 1, 'advanced-NOUN': 1, 'eleven-ADV': 1, 'inspite-NOUN': 1, 'tastebud-NOUN': 1, 'pepper-VERB': 1, 'pink-VERB': 1, 'albacore-NOUN': 1, 'tuna-NOUN': 1, 'instead-NOUN': 1, 'raincoast-NOUN': 1, 'delay-VERB': 1, 'redirect-VERB': 1, 'hoop-NOUN': 1, 'llc-NOUN': 1, 'update-VERB': 1, 'sept-NOUN': 1, 'partly-ADV': 1, 'correct-VERB': 1, 'prompt-NOUN': 1, 'insult-NOUN': 1, 'suitable-ADJ': 1, 'albeit-NOUN': 1, 'rocket-NOUN': 1, 'absolutly-ADV': 1, 'aosta-NOUN': 1, 'italy-NOUN': 1, 'fiirst-ADV': 1, 'darker-NOUN': 1, 'chewier-NOUN': 1, 'suspicion-NOUN': 1, 'monitor-VERB': 1, 'orangee-NOUN': 1, 'sensitivity-NOUN': 1, 'gamey-NOUN': 1, 'wood-NOUN': 1, 'orderred-VERB': 1, 'reminds-NOUN': 1, 'sickeningly-ADV': 1, 'heed-NOUN': 1, 'booty-NOUN': 1, 'teacher-NOUN': 1, 'overnighted-VERB': 1, 'nye-NOUN': 1, 'rudolph-NOUN': 1, 'gun-NOUN': 1, 'regard-VERB': 1, 'glance-VERB': 1, 'manufacturing-NOUN': 1, 'unsafe-ADJ': 1, 'halfway-NOUN': 1, 'buttercream-NOUN': 1, 'wed-VERB': 1, 'lentil-NOUN': 1, 'trick-NOUN': 1, 'imho-NOUN': 1, 'redbarn-NOUN': 1, 'equivalent-NOUN': 1, 'projectile-NOUN': 1, 'noticeably-ADV': 1, 'rat-NOUN': 1, 'crave-VERB': 1, 'sweeten-NOUN': 1, 'fragrance-NOUN': 1, 'unpalatable-ADJ': 1, 'hormone-NOUN': 1, 'pumped-NOUN': 1, 'balance-NOUN': 1, 'saturate-VERB': 1, 'review-VERB': 1, 'zico-NOUN': 1, 'potassium-NOUN': 1, 'vita-NOUN': 1, 'coco-NOUN': 1, 'key-NOUN': 1, 'hong-NOUN': 1, 'extend-VERB': 1, 'period-NOUN': 1, 'react-VERB': 1, 'reccommend-NOUN': 1, 'cash-NOUN': 1, 'vaguely-ADV': 1, 'prepared-ADJ': 1, 'nutrition-NOUN': 1, 'diet-VERB': 1, 'weighs-NOUN': 1, 'nativa-NOUN': 1, 'praise-NOUN': 1, 'salad-NOUN': 1, 'oppose-VERB': 1, 'quarter-NOUN': 1, 'wreak-NOUN': 1, 'havoc-NOUN': 1, 'tolerance-NOUN': 1, 'fill-NOUN': 1, 'flow-NOUN': 1, 'disposebale-NOUN': 1, 'store-VERB': 1, 'tight-NOUN': 1, 'harden-NOUN': 1, 'dissappointed-VERB': 1, 'spruce-NOUN': 1, 'dull-NOUN': 1, 'secure-NOUN': 1, 'shoot-NOUN': 1, 'sits-NOUN': 1, 'flaw-NOUN': 1, 'track-NOUN': 1, 'wating-VERB': 1, 'shopper-NOUN': 1, 'likewise-ADV': 1, 'typical-ADJ': 1, 'jelly-NOUN': 1, 'promise-VERB': 1, 'paprika-NOUN': 1, 'apologize-VERB': 1, 'australia-NOUN': 1, 'opportunity-NOUN': 1, 'introduce-NOUN': 1, 'explination-NOUN': 1, 'tap-NOUN': 1, 'pitcher-NOUN': 1, 'heating-NOUN': 1, 'lipton-NOUN': 1, 'force-NOUN': 1, 'region-NOUN': 1, 'deer-NOUN': 1, 'spoilt-NOUN': 1, 'mail-VERB': 1, 'pitiful-NOUN': 1, 'feedback-NOUN': 1, 'improve-VERB': 1, 'useless-NOUN': 1, 'highlander-NOUN': 1, 'skittle-NOUN': 1, 'overspend-NOUN': 1, 'incorrect-NOUN': 1, 'descent-NOUN': 1, 'brand-VERB': 1, 'originally-ADV': 1, 'conglomerate-NOUN': 1, 'hard-NOUN': 1, 'flavour-NOUN': 1, 'source-VERB': 1, 'misrepresentation-NOUN': 1, 'epoxy-NOUN': 1, 'planning-NOUN': 1, 'devote-VERB': 1, 'quench-NOUN': 1, 'comfortable-ADJ': 1, 'tip-NOUN': 1, 'gunking-VERB': 1, 'muuuuch-ADJ': 1, 'crinkle-NOUN': 1, 'main-NOUN': 1, 'unedible-ADJ': 1, 'experation-NOUN': 1, 'afterwards-NOUN': 1, 'poster-NOUN': 1, 'august-NOUN': 1, 'gotta-NOUN': 1, 'queso-NOUN': 1, 'fresco-NOUN': 1, 'resemble-VERB': 1, 'thickest-NOUN': 1, 'grill-VERB': 1, 'resembles-NOUN': 1, 'assort-VERB': 1, 'rainbow-NOUN': 1, 'brights-NOUN': 1, 'mangle-VERB': 1, 'immediate-NOUN': 1, 'overwhelm-VERB': 1, 'toddler-NOUN': 1, 'massage-VERB': 1, 'twin-NOUN': 1, 'scream-VERB': 1, 'garbanzo-NOUN': 1, 'ideal-NOUN': 1, 'whine-NOUN': 1, 'theory-NOUN': 1, 'utilized-ADJ': 1, 'tear-NOUN': 1, 'pecan-ADJ': 1, 'overview-NOUN': 1, 'est-NOUN': 1, 'speak-NOUN': 1, 'caution-NOUN': 1, 'glide-NOUN': 1, 'smoothly-ADV': 1, 'suger-NOUN': 1, 'belongs-NOUN': 1, 'drip-VERB': 1, 'suckered-VERB': 1, 'hair-NOUN': 1, 'adopt-VERB': 1, 'equally-ADV': 1, 'hi-NOUN': 1, 'venus-NOUN': 1, 'maraschino-NOUN': 1, 'oddly-ADV': 1, 'sign-VERB': 1, 'clone-NOUN': 1, 'nibblies-NOUN': 1, 'gathering-NOUN': 1, 'stable-ADJ': 1, 'oleic-NOUN': 1, 'safflower-NOUN': 1, 'city-NOUN': 1, 'dweller-NOUN': 1, 'essential-ADJ': 1, 'train-NOUN': 1, 'triscuits-NOUN': 1, 'pricing-NOUN': 1, 'creamer-NOUN': 1, 'grove-NOUN': 1, 'snow-NOUN': 1, 'warm-VERB': 1, 'ring-NOUN': 1, 'warn-NOUN': 1, 'steakhouse-NOUN': 1, 'vidalia-NOUN': 1, 'reasonably-ADV': 1, 'nana-NOUN': 1, 'inspect-VERB': 1, 'immaculate-NOUN': 1, 'cool-VERB': 1, 'frankly-ADV': 1, 'disapointment-NOUN': 1, 'infect-VERB': 1, 'dentist-NOUN': 1, 'undergo-NOUN': 1, 'treatment-NOUN': 1, 'painkiller-NOUN': 1, 'shin-VERB': 1, 'contamination-NOUN': 1, 'foreign-ADJ': 1, 'crackerbread-NOUN': 1, 'cellophane-NOUN': 1, 'recycle-VERB': 1, 'todate-NOUN': 1, 'reveal-VERB': 1, 'recycle-NOUN': 1, 'forum-NOUN': 1, 'marshmallow-NOUN': 1, 'mmf-NOUN': 1, 'irresponsible-ADJ': 1, 'tanzania-NOUN': 1, 'briefly-NOUN': 1, 'alienate-VERB': 1, 'emerald-NOUN': 1, 'serving-NOUN': 1, 'turtle-NOUN': 1, 'fudge-NOUN': 1, 'staff-NOUN': 1, 'lopsided-VERB': 1, 'humor-NOUN': 1, 'permanent-NOUN': 1, 'tweek-NOUN': 1, 'housewife-NOUN': 1, 'lick-NOUN': 1, 'fussie-NOUN': 1, 'common-NOUN': 1, 'cheap-ADJ': 1, 'construction-NOUN': 1, 'unshelled-NOUN': 1, 'becuase-NOUN': 1, 'costly-ADJ': 1, 'besides-ADP': 1, 'couscous-ADJ': 1, 'amy-NOUN': 1, 'brians-NOUN': 1, 'concentrate-NOUN': 1, 'blah-NOUN': 1, 'superfluous-ADJ': 1, 'grade-NOUN': 1, 'ozbo-NOUN': 1, 'scammer-NOUN': 1, 'mccormick-NOUN': 1, 'curry-NOUN': 1, 'stem-VERB': 1, 'stump-VERB': 1, 'necessary-ADJ': 1, 'beside-NOUN': 1, 'accumulation-NOUN': 1, 'deceptively-ADV': 1, 'practice-NOUN': 1, 'highway-NOUN': 1, 'alcohol-NOUN': 1, 'undigestible-ADJ': 1, 'suzanne-NOUN': 1, 'sommers-NOUN': 1, 'nirvana-NOUN': 1, 'bliss-NOUN': 1, 'kick-VERB': 1, 'blew-NOUN': 1, 'balloon-NOUN': 1, 'abdominal-ADJ': 1, 'hunch-NOUN': 1, 'sank-NOUN': 1, 'asterisk-NOUN': 1, 'shorter-NOUN': 1, 'prize-NOUN': 1, 'pointless-NOUN': 1, 'timex-NOUN': 1, 'gloria-NOUN': 1, 'jean-NOUN': 1, 'timothy-NOUN': 1, 'radically-ADV': 1, 'found-ADP': 1, 'north-NOUN': 1, 'carolina-NOUN': 1, 'constitutes-NOUN': 1, 'spherical-ADJ': 1, 'subdue-VERB': 1, 'uncommon-ADJ': 1, 'reek-NOUN': 1, 'gasket-NOUN': 1, 'sabrina-NOUN': 1, 'stir-VERB': 1, 'indescribable-ADJ': 1, 'equate-NOUN': 1, 'goop-NOUN': 1, 'serf-NOUN': 1, 'raisin-NOUN': 1, 'crusties-NOUN': 1, 'lift-VERB': 1, 'knife-NOUN': 1, 'string-NOUN': 1, 'trail-VERB': 1, 'sprectrum-NOUN': 1, 'splash-NOUN': 1, 'overheat-VERB': 1, 'kerug-NOUN': 1, 'vote-NOUN': 1, 'interior-NOUN': 1, 'unwrap-NOUN': 1, 'length-NOUN': 1, 'occupy-NOUN': 1, 'space-NOUN': 1, 'tray-NOUN': 1, 'production-NOUN': 1, 'granola-NOUN': 1, 'fitting-NOUN': 1, 'gerbil-NOUN': 1, 'latte-NOUN': 1, 'title-VERB': 1, 'pack-VERB': 1, 'voice-NOUN': 1, 'squishy-NOUN': 1, 'definate-NOUN': 1, 'flippant-NOUN': 1, 'autoship-NOUN': 1, 'invoice-NOUN': 1, 'sauteed-NOUN': 1, 'knock-NOUN': 1, 'quaker-NOUN': 1, 'oat-NOUN': 1, 'invigorates-NOUN': 1, 'revival-NOUN': 1, 'rot-NOUN': 1, 'force-VERB': 1, 'lock-VERB': 1, 'overall-ADJ': 1, 'crumbiness-NOUN': 1, 'fragile-NOUN': 1, 'sleep-NOUN': 1, 'elephant-NOUN': 1, 'bos-NOUN': 1, 'judge-VERB': 1, 'pinch-NOUN': 1, 'goji-NOUN': 1, 'percentage-NOUN': 1, 'habenero-NOUN': 1, 'wave-VERB': 1, 'following-NOUN': 1, 'fresh-NOUN': 1, 'cheddar-NOUN': 1, 'tasted-NOUN': 1, 'ordering-NOUN': 1, 'unopened-NOUN': 1, 'pistachio-NOUN': 1, 'walnut-NOUN': 1, 'caramelize-VERB': 1, 'solicitation-NOUN': 1, 'miracle-NOUN': 1, 'miraculous-ADJ': 1, 'baring-NOUN': 1, 'mary-NOUN': 1, 'tonight-NOUN': 1, 'lure-NOUN': 1, 'resource-NOUN': 1, 'excitedly-ADV': 1, 'average-ADJ': 1, 'safeway-NOUN': 1, 'weigh-NOUN': 1, 'ripoff-NOUN': 1, 'artifically-ADV': 1, 'cherrybrook-NOUN': 1, 'disclose-VERB': 1, 'seaweed-NOUN': 1, 'untested-ADJ': 1, 'dissipate-NOUN': 1, 'yogurt-NOUN': 1, 'session-NOUN': 1, 'draw-VERB': 1, 'wider-NOUN': 1, 'array-NOUN': 1, 'securely-ADV': 1, 'comedy-NOUN': 1, 'pia-NOUN': 1, 'outcome-NOUN': 1, 'ratio-NOUN': 1, 'un-NOUN': 1, 'poped-NOUN': 1, 'returnable-ADJ': 1, 'childhood-NOUN': 1, 'upstate-NOUN': 1, 'net-NOUN': 1, 'spanish-NOUN': 1, 'sweet-ADJ': 1, 'nurture-VERB': 1, 'dress-NOUN': 1, 'charity-NOUN': 1, 'fund-NOUN': 1, 'spongy-NOUN': 1, 'mush-NOUN': 1, 'yellowish-NOUN': 1, 'senseo-NOUN': 1, 'baronet-NOUN': 1, 'drink-VERB': 1, 'dice-NOUN': 1, 'robert-NOUN': 1, 'visit-VERB': 1, 'hang-VERB': 1, 'feeling-NOUN': 1, 'mortify-VERB': 1, 'mad-NOUN': 1, 'raccoon-NOUN': 1, 'decline-VERB': 1, 'dine-NOUN': 1, 'invest-VERB': 1, 'fabulous-ADJ': 1, 'job-NOUN': 1, 'frame-NOUN': 1, 'disco-NOUN': 1, 'dust-NOUN': 1, 'suddenly-ADV': 1, 'spain-NOUN': 1, 'dingo-NOUN': 1, 'unclear-ADJ': 1, 'chihuahua-NOUN': 1, 'nutri-NOUN': 1, 'minichews-NOUN': 1, 'bully-NOUN': 1, 'downtown-NOUN': 1, 'stick-VERB': 1, 'oven-ADV': 1, 'pork-NOUN': 1, 'extensive-ADJ': 1, 'unfortnately-ADV': 1, 'bummer-NOUN': 1, 'unfinished-ADJ': 1, 'become-NOUN': 1, 'update-NOUN': 1, 'stretchy-NOUN': 1, 'react-NOUN': 1, 'marie-NOUN': 1, 'weirdly-ADV': 1, 'fork-NOUN': 1, 'ia-NOUN': 1, 'multican-ADJ': 1, 'meh-NOUN': 1, 'grade-VERB': 1, 'conclusion-NOUN': 1, 'release-NOUN': 1, 'shave-NOUN': 1, 'thinly-ADV': 1, 'risotto-NOUN': 1, 'brine-NOUN': 1, 'discard-VERB': 1, 'sauce-VERB': 1, 'visual-NOUN': 1, 'pungent-NOUN': 1, 'explore-NOUN': 1, 'jar-VERB': 1, 'mere-ADV': 1, 'shadow-NOUN': 1, 'self-NOUN': 1, 'deliver-NOUN': 1, 'conjunction-NOUN': 1, 'budget-NOUN': 1, 'commitment-NOUN': 1, 'virgin-NOUN': 1, 'pour-NOUN': 1, 'nice-NOUN': 1, 'undrinkable-ADJ': 1, 'hormel-NOUN': 1, 'complain-NOUN': 1, 'compleats-NOUN': 1, 'buzz-NOUN': 1, 'invest-NOUN': 1, 'horrifically-ADV': 1, 'constipate-VERB': 1, 'sensible-ADJ': 1, 'sucrose-NOUN': 1, 'lactose-NOUN': 1, 'similac-NOUN': 1, 'ny-NOUN': 1, 'constipation-NOUN': 1, 'diabetes-NOUN': 1, 'difficulty-NOUN': 1, 'marketplace-NOUN': 1, 'fulfil-VERB': 1, 'reflect-NOUN': 1, 'handle-VERB': 1, 'assemble-VERB': 1, 'method-NOUN': 1, 'international-ADJ': 1, 'interested-ADJ': 1, 'broth-DET': 1, 'slimy-NOUN': 1, 'celebrate-NOUN': 1, 'birth-NOUN': 1, 'bang-VERB': 1, 'presentation-NOUN': 1, 'serial-ADJ': 1, 'cite-NOUN': 1, 'marmalade-NOUN': 1, 'arive-ADJ': 1, 'deployed-NOUN': 1, 'grocercy-NOUN': 1, 'indian-ADJ': 1, 'blender-NOUN': 1, 'chao-NOUN': 1, 'kah-NOUN': 1, 'shred-NOUN': 1, 'immense-NOUN': 1, 'prematurely-ADV': 1, 'hype-NOUN': 1, 'wayyyyyyyyyy-NOUN': 1, 'admit-NOUN': 1, 'oversalted-VERB': 1, 'lip-NOUN': 1, 'wheaten-NOUN': 1, 'nighttime-NOUN': 1, 'sweeting-VERB': 1, 'bahamas-NOUN': 1, 'wanna-NOUN': 1, 'provide-NOUN': 1})\n",
      "[(('taste-NOUN', 'like-ADP'), 575.9524579305898), (('would-VERB', 'not-NEGATION'), 290.49189792124145), (('product-NOUN', 'not-NEGATION'), 258.69045831147014), (('like-ADP', 'not-NEGATION'), 252.96933546865927), (('not-NEGATION', 'taste-NOUN'), 198.19164600036365), (('wolfgang-NOUN', 'puck-NOUN'), 185.8666609815209), (('not-NEGATION', 'even-ADV'), 182.8619871880425), (('bad-ADJ', 'ever-ADV'), 179.85272081062584), (('dog-NOUN', 'food-NOUN'), 171.08197574062797), (('customer-NOUN', 'service-NOUN'), 167.19506697016206)]\n"
     ]
    }
   ],
   "source": [
    "one_plmi = find_plmi(one_cooccs, one_star)\n",
    "#two_plmi =  find_plmi(two_cooccs, two_star)\n",
    "#three_plmi = find_plmi(three_cooccs, three_star)\n",
    "#four_plmi = find_plmi(four_cooccs, four_star)\n",
    "#five_plmi = find_plmi(five_cooccs, five_star)"
   ]
  },
  {
   "cell_type": "markdown",
   "metadata": {},
   "source": [
    "We can also use the average positivity and negativity of each class to use as features as well."
   ]
  },
  {
   "cell_type": "code",
   "execution_count": 60,
   "metadata": {},
   "outputs": [],
   "source": [
    "#find average positivity + negativity for each word in each class \n",
    "def find_senti(lst):\n",
    "    avg_review = []\n",
    "    for sublist in lst:\n",
    "        avg_positivity, avg_negativity, total_words = 0, 0, 0\n",
    "        #find total num words in each class for calculating the average\n",
    "        total_words = len(sublist)\n",
    "        for word in sublist:\n",
    "            #split item into individual word and lemma \n",
    "            trunc_word = word.split(\"-\")\n",
    "            #TODO: handle negation!! this is a band-aid  \n",
    "            if trunc_word[1] not in mapping:\n",
    "                continue\n",
    "            #get the right part of speech from predefined mapping\n",
    "            new_pos = mapping[trunc_word[1]]\n",
    "            if len(list(swn.senti_synsets(trunc_word[0], pos = new_pos))) > 0:\n",
    "                scores = swn.senti_synset(trunc_word[0] + \".\"+ new_pos + \".01\")\n",
    "                #find senti-wordnet's positivity and negativity rating for each word in each class  \n",
    "                avg_positivity += scores.pos_score()\n",
    "                avg_negativity += scores.neg_score() \n",
    "        avg_tupl = ((avg_positivity/total_words), (avg_negativity/total_words))\n",
    "        avg_review.append(avg_tupl)\n",
    "                \n",
    "                \n",
    "\n",
    "    return avg_review"
   ]
  },
  {
   "cell_type": "code",
   "execution_count": 61,
   "metadata": {},
   "outputs": [
    {
     "ename": "KeyboardInterrupt",
     "evalue": "",
     "output_type": "error",
     "traceback": [
      "\u001b[0;31m---------------------------------------------------------------------------\u001b[0m",
      "\u001b[0;31mKeyboardInterrupt\u001b[0m                         Traceback (most recent call last)",
      "\u001b[0;32m<ipython-input-61-aa781f64466d>\u001b[0m in \u001b[0;36m<module>\u001b[0;34m\u001b[0m\n\u001b[1;32m      3\u001b[0m \u001b[0mthree_senti\u001b[0m \u001b[0;34m=\u001b[0m \u001b[0mfind_senti\u001b[0m\u001b[0;34m(\u001b[0m\u001b[0mthree_star\u001b[0m\u001b[0;34m)\u001b[0m\u001b[0;34m\u001b[0m\u001b[0;34m\u001b[0m\u001b[0m\n\u001b[1;32m      4\u001b[0m \u001b[0mfour_senti\u001b[0m \u001b[0;34m=\u001b[0m \u001b[0mfind_senti\u001b[0m\u001b[0;34m(\u001b[0m\u001b[0mfour_star\u001b[0m\u001b[0;34m)\u001b[0m\u001b[0;34m\u001b[0m\u001b[0;34m\u001b[0m\u001b[0m\n\u001b[0;32m----> 5\u001b[0;31m \u001b[0mfive_senti\u001b[0m \u001b[0;34m=\u001b[0m \u001b[0mfind_senti\u001b[0m\u001b[0;34m(\u001b[0m\u001b[0mfive_star\u001b[0m\u001b[0;34m)\u001b[0m\u001b[0;34m\u001b[0m\u001b[0;34m\u001b[0m\u001b[0m\n\u001b[0m",
      "\u001b[0;32m<ipython-input-60-d30dcd32609e>\u001b[0m in \u001b[0;36mfind_senti\u001b[0;34m(lst)\u001b[0m\n\u001b[1;32m     14\u001b[0m             \u001b[0;31m#get the right part of speech from predefined mapping\u001b[0m\u001b[0;34m\u001b[0m\u001b[0;34m\u001b[0m\u001b[0;34m\u001b[0m\u001b[0m\n\u001b[1;32m     15\u001b[0m             \u001b[0mnew_pos\u001b[0m \u001b[0;34m=\u001b[0m \u001b[0mmapping\u001b[0m\u001b[0;34m[\u001b[0m\u001b[0mtrunc_word\u001b[0m\u001b[0;34m[\u001b[0m\u001b[0;36m1\u001b[0m\u001b[0;34m]\u001b[0m\u001b[0;34m]\u001b[0m\u001b[0;34m\u001b[0m\u001b[0;34m\u001b[0m\u001b[0m\n\u001b[0;32m---> 16\u001b[0;31m             \u001b[0;32mif\u001b[0m \u001b[0mlen\u001b[0m\u001b[0;34m(\u001b[0m\u001b[0mlist\u001b[0m\u001b[0;34m(\u001b[0m\u001b[0mswn\u001b[0m\u001b[0;34m.\u001b[0m\u001b[0msenti_synsets\u001b[0m\u001b[0;34m(\u001b[0m\u001b[0mtrunc_word\u001b[0m\u001b[0;34m[\u001b[0m\u001b[0;36m0\u001b[0m\u001b[0;34m]\u001b[0m\u001b[0;34m,\u001b[0m \u001b[0mpos\u001b[0m \u001b[0;34m=\u001b[0m \u001b[0mnew_pos\u001b[0m\u001b[0;34m)\u001b[0m\u001b[0;34m)\u001b[0m\u001b[0;34m)\u001b[0m \u001b[0;34m>\u001b[0m \u001b[0;36m0\u001b[0m\u001b[0;34m:\u001b[0m\u001b[0;34m\u001b[0m\u001b[0;34m\u001b[0m\u001b[0m\n\u001b[0m\u001b[1;32m     17\u001b[0m                 \u001b[0mscores\u001b[0m \u001b[0;34m=\u001b[0m \u001b[0mswn\u001b[0m\u001b[0;34m.\u001b[0m\u001b[0msenti_synset\u001b[0m\u001b[0;34m(\u001b[0m\u001b[0mtrunc_word\u001b[0m\u001b[0;34m[\u001b[0m\u001b[0;36m0\u001b[0m\u001b[0;34m]\u001b[0m \u001b[0;34m+\u001b[0m \u001b[0;34m\".\"\u001b[0m\u001b[0;34m+\u001b[0m \u001b[0mnew_pos\u001b[0m \u001b[0;34m+\u001b[0m \u001b[0;34m\".01\"\u001b[0m\u001b[0;34m)\u001b[0m\u001b[0;34m\u001b[0m\u001b[0;34m\u001b[0m\u001b[0m\n\u001b[1;32m     18\u001b[0m                 \u001b[0;31m#find senti-wordnet's positivity and negativity rating for each word in each class\u001b[0m\u001b[0;34m\u001b[0m\u001b[0;34m\u001b[0m\u001b[0;34m\u001b[0m\u001b[0m\n",
      "\u001b[0;32m~/.local/lib/python3.7/site-packages/nltk/corpus/reader/sentiwordnet.py\u001b[0m in \u001b[0;36msenti_synsets\u001b[0;34m(self, string, pos)\u001b[0m\n\u001b[1;32m     96\u001b[0m         \u001b[0msynset_list\u001b[0m \u001b[0;34m=\u001b[0m \u001b[0mwn\u001b[0m\u001b[0;34m.\u001b[0m\u001b[0msynsets\u001b[0m\u001b[0;34m(\u001b[0m\u001b[0mstring\u001b[0m\u001b[0;34m,\u001b[0m \u001b[0mpos\u001b[0m\u001b[0;34m)\u001b[0m\u001b[0;34m\u001b[0m\u001b[0;34m\u001b[0m\u001b[0m\n\u001b[1;32m     97\u001b[0m         \u001b[0;32mfor\u001b[0m \u001b[0msynset\u001b[0m \u001b[0;32min\u001b[0m \u001b[0msynset_list\u001b[0m\u001b[0;34m:\u001b[0m\u001b[0;34m\u001b[0m\u001b[0;34m\u001b[0m\u001b[0m\n\u001b[0;32m---> 98\u001b[0;31m             \u001b[0msentis\u001b[0m\u001b[0;34m.\u001b[0m\u001b[0mappend\u001b[0m\u001b[0;34m(\u001b[0m\u001b[0mself\u001b[0m\u001b[0;34m.\u001b[0m\u001b[0msenti_synset\u001b[0m\u001b[0;34m(\u001b[0m\u001b[0msynset\u001b[0m\u001b[0;34m.\u001b[0m\u001b[0mname\u001b[0m\u001b[0;34m(\u001b[0m\u001b[0;34m)\u001b[0m\u001b[0;34m)\u001b[0m\u001b[0;34m)\u001b[0m\u001b[0;34m\u001b[0m\u001b[0;34m\u001b[0m\u001b[0m\n\u001b[0m\u001b[1;32m     99\u001b[0m         \u001b[0msentis\u001b[0m \u001b[0;34m=\u001b[0m \u001b[0mfilter\u001b[0m\u001b[0;34m(\u001b[0m\u001b[0;32mlambda\u001b[0m \u001b[0mx\u001b[0m\u001b[0;34m:\u001b[0m \u001b[0mx\u001b[0m\u001b[0;34m,\u001b[0m \u001b[0msentis\u001b[0m\u001b[0;34m)\u001b[0m\u001b[0;34m\u001b[0m\u001b[0;34m\u001b[0m\u001b[0m\n\u001b[1;32m    100\u001b[0m         \u001b[0;32mreturn\u001b[0m \u001b[0msentis\u001b[0m\u001b[0;34m\u001b[0m\u001b[0;34m\u001b[0m\u001b[0m\n",
      "\u001b[0;31mKeyboardInterrupt\u001b[0m: "
     ]
    }
   ],
   "source": [
    "one_senti = find_senti(one_star)\n",
    "two_senti = find_senti(two_star)\n",
    "three_senti = find_senti(three_star)\n",
    "four_senti = find_senti(four_star)\n",
    "five_senti = find_senti(five_star)\n"
   ]
  },
  {
   "cell_type": "code",
   "execution_count": null,
   "metadata": {},
   "outputs": [],
   "source": [
    "import matplotlib.pyplot as plt\n",
    "from IPython.core.pylabtools import figsize\n",
    "import seaborn as sns\n",
    "\n",
    "# Lists of the average respectively positivity and negativity scores\n",
    "# Deleted the zeroes from the negative scores otherwise there are \n",
    "# weird peaks\n",
    "one_avg_pos = [avg_pos for avg_pos, avg_neg in one_senti] \n",
    "one_avg_neg = [avg_neg for avg_pos, avg_neg in one_senti] \n",
    "two_avg_pos = [avg_pos for avg_pos, avg_neg in two_senti] \n",
    "two_avg_neg = [avg_neg for avg_pos, avg_neg in two_senti] \n",
    "three_avg_pos = [avg_pos for avg_pos, avg_neg in three_senti] \n",
    "three_avg_neg = [avg_neg for avg_pos, avg_neg in three_senti] \n",
    "four_avg_pos = [avg_pos for avg_pos, avg_neg in four_senti] \n",
    "four_avg_neg = [avg_neg for avg_pos, avg_neg in four_senti] \n",
    "five_avg_pos = [avg_pos for avg_pos, avg_neg in five_senti] \n",
    "five_avg_neg = [avg_neg for avg_pos, avg_neg in five_senti] \n"
   ]
  },
  {
   "cell_type": "code",
   "execution_count": null,
   "metadata": {},
   "outputs": [],
   "source": [
    "figsize(12,8)\n",
    "#Assign colors to each score\n",
    "colors = ['#E69F00', '#56B4E9', '#F0E442', '#009E73', '#D55E00']\n",
    "names = ['One star', 'Two stars', 'Three stars', 'Four stars', 'Five stars']\n",
    "plt.hist([one_avg_neg, two_avg_neg, three_avg_neg, four_avg_neg, five_avg_neg], \n",
    "         bins = 10, color=colors, label=names, density=True)\n",
    "\n",
    "plt.legend()\n",
    "plt.xlabel('Negativity score')\n",
    "plt.ylabel('Frequency')\n",
    "plt.title('Side-by-Side Negativity scores per number of stars')\n",
    "plt.show()"
   ]
  },
  {
   "cell_type": "code",
   "execution_count": null,
   "metadata": {},
   "outputs": [],
   "source": [
    "\n",
    "figsize(12,8)\n",
    "colors = ['#E69F00', '#56B4E9', '#F0E442', '#009E73', '#D55E00']\n",
    "names = ['One star', 'Two stars', 'Three stars', 'Four stars', 'Five stars']\n",
    "plt.hist([one_avg_pos, two_avg_pos, three_avg_pos, four_avg_pos, five_avg_pos], \n",
    "         bins = 10, color=colors, label=names, density=True)\n",
    "\n",
    "plt.legend()\n",
    "plt.xlabel('Positivity score')\n",
    "plt.ylabel('Frequency')\n",
    "plt.title('Side-by-Side Positivity scores per number of stars')\n",
    "plt.show()"
   ]
  },
  {
   "cell_type": "code",
   "execution_count": null,
   "metadata": {},
   "outputs": [],
   "source": [
    "pos_list = [one_avg_pos, two_avg_pos, three_avg_pos, four_avg_pos, five_avg_pos]\n",
    "fig, ax = plt.subplots()\n",
    "for pos in pos_list:\n",
    "    sns.distplot(pos, hist = False, kde = True, \n",
    "                 kde_kws = {'linewidth':3}, \n",
    "                 label = str(pos_list.index(pos)+1)+' star')\n",
    "ax.set_xlim(-0.05,0.15)\n",
    "\n",
    "    \n",
    "plt.legend(prop={'size': 16}, title = 'Class')\n",
    "plt.title('Density Plot with Multiple Classes'); \n",
    "plt.xlabel('Positivity score')\n",
    "plt.ylabel('Density');\n",
    "plt.show()"
   ]
  },
  {
   "cell_type": "code",
   "execution_count": null,
   "metadata": {},
   "outputs": [],
   "source": [
    "neg_list = [one_avg_neg, two_avg_neg, three_avg_neg, four_avg_neg, five_avg_neg]\n",
    "fig, ax = plt.subplots()\n",
    "\n",
    "\n",
    "def labels(index):\n",
    "    num = index + 1\n",
    "    if num > 1:\n",
    "        return str(num) + ' stars'\n",
    "    else: \n",
    "        return '1 star'\n",
    "\n",
    "for neg in neg_list:\n",
    "    sns.distplot(neg, hist = False, kde = True, \n",
    "                 kde_kws = {'linewidth':3}, \n",
    "                 label = labels(neg_list.index(neg)))\n",
    "\n",
    "ax.set_xlim(-0.025,0.12)\n",
    "\n",
    "\n",
    "plt.legend(prop={'size': 16}, title = 'Class')\n",
    "plt.title('Density Plot with Multiple Classes')\n",
    "plt.xlabel('Negativity score')\n",
    "plt.ylabel('Density')\n",
    "plt.show()"
   ]
  },
  {
   "cell_type": "markdown",
   "metadata": {},
   "source": [
    "For this section, we want to find the noun that co-occurs with the most polar words in a review to be indicative of the best quality of a product. This is not a feature for our classifier, but rather something that would be interesting to a manufacturer or a user. It finds the nouns in a review and the words it co-occurs with in a 3-word span. It then finds the polarity of the words in the span and chooses the noun with the co-occurring words with the highest polarity. In this context, polarity is defined as the sum of a word's positivity and negativity scores. "
   ]
  },
  {
   "cell_type": "code",
   "execution_count": 101,
   "metadata": {},
   "outputs": [],
   "source": [
    "def analyze_review(lst):\n",
    "    span = 1\n",
    "    impt_features = {}\n",
    "    highest_polarity = 0\n",
    "    for review in lst:\n",
    "        for i,w in enumerate(review):\n",
    "            w1, w2 = w.split(\"-\") \n",
    "            if w2 != 'NOUN':\n",
    "                continue   \n",
    "            #check all co-occurring words within a 3 word span \n",
    "            span_range = list(range(max(i- span, 0), i)) \n",
    "            span_range.extend(range(i+1, min(i + span + 1, len(review))))\n",
    "            for cw in [review[idx] for idx in span_range]:\n",
    "                cw1, cw2 = cw.split(\"-\")\n",
    "                if cw2 in mapping:\n",
    "                    #get the right part of speech from predefined mapping\n",
    "                    new_pos = mapping[cw2]\n",
    "                    if len(list(swn.senti_synsets(cw1, pos = new_pos))) > 0 and cw2 == \"ADJ\":\n",
    "                        scores = swn.senti_synset(cw1 + \".\"+ new_pos + \".01\")\n",
    "                        polarity = scores.pos_score() + scores.neg_score()\n",
    "                        if polarity > highest_polarity:\n",
    "                            highest_polarity = polarity\n",
    "                            impt_features[repr(review)] = (cw, w1) \n",
    "       \n",
    "                \n",
    "                \n",
    "    return impt_features "
   ]
  },
  {
   "cell_type": "code",
   "execution_count": 103,
   "metadata": {},
   "outputs": [
    {
     "data": {
      "text/plain": [
       "{\"['freeze-NOUN', 'dry-VERB', 'ice-NOUN', 'cream-NOUN', 'taste-NOUN', 'exactly-ADV', 'like-ADP', 'expensive-ADJ', 'kind-NOUN', 'astronaut-NOUN', 'fraction-NOUN', 'receive-VERB', 'understand-NOUN', 'cost-NOUN', 'less-ADV', 'packaging-NOUN', 'stink-NOUN', 'freeze-NOUN', 'dry-VERB', 'item-NOUN', 'package-VERB', 'air-NOUN', 'foil-NOUN', 'type-NOUN', 'not-NEGATION', 'permit-NOUN', 'air-NOUN', 'air-NOUN', 'enemy-NOUN', 'freeze-NOUN', 'dry-VERB', 'contains-NOUN', 'product-NOUN', 'arrives-NOUN', 'air-NOUN', 'tight-NOUN', 'need-NOUN', 'open-ADJ', 'individual-ADJ', 'serving-NOUN', 'ice-NOUN', 'cream-NOUN', 'paper-NOUN', 'wrapper-NOUN', 'not-NEGATION', 'keep-VERB', 'air-NOUN', 'get-VERB', 'paper-NOUN', 'wrapper-NOUN', 'not-NEGATION', 'not-NEGATION', 'air-NOUN', 'also-ADV', 'slit-NOUN', 'every-DET', 'serve-VERB', 'slit-NOUN', 'open-ADJ', 'several-ADJ', 'say-VERB', 'transfer-NOUN', 'serving-NOUN', 'ziplock-NOUN', 'bag-NOUN', 'get-VERB', 'much-ADJ', 'air-NOUN', 'may-VERB', 'may-VERB', 'not-NEGATION', 'keep-VERB', 'product-NOUN', 'well-ADV', 'leave-VERB', 'ice-NOUN', 'cream-NOUN', 'get-VERB', 'much-ADJ', 'air-NOUN', 'bag-NOUN', 'closing-NOUN', 'bag-NOUN', 'much-ADJ', 'possible-ADJ', 'around-ADP', 'suck-VERB', 'air-NOUN', 'could-VERB', 'get-VERB', 'no-NEGATION', 'air-NOUN', 'slip-VERB', 'straw-NOUN', 'whilst-NOUN', 'closing-NOUN', 'bag-NOUN', 'one-NUM', 'swift-NOUN', 'must-NOUN', 'every-DET', 'time-NOUN', 'open-ADJ', 'bag-NOUN', 'retrieve-NOUN', 'air-NOUN', 'ruin-NOUN', 'delightful-NOUN', 'texture-NOUN', 'ice-NOUN', 'prepared-ADJ', 'large-ADJ', 'ziplock-NOUN', 'bag-NOUN', 'straw-NOUN', 'order-NOUN']\": ('prepared-ADJ',\n",
       "  'ice'),\n",
       " \"['switch-NOUN', 'soda-NOUN', 'come-VERB', 'small-ADJ', 'regular-ADJ', 'soda-NOUN', 'little-ADJ', 'compare-VERB', 'usual-ADJ', 'ounce-NOUN', 'regular-ADJ', 'soft-ADJ', 'drink-NOUN', 'label-VERB', 'sugar-NOUN', 'come-VERB', 'fruit-NOUN', 'juice-NOUN', 'rather-ADV', 'add-VERB', 'corn-NOUN', 'chill-VERB', 'switch-NOUN', 'refrigerator-NOUN', 'sample-VERB', 'pour-VERB', 'ice-NOUN', 'color-NOUN', 'not-NEGATION', 'orange-NOUN', 'orange-NOUN', 'soda-NOUN', 'softer-NOUN', 'orange-NOUN', 'fizz-NOUN', 'also-ADV', 'less-ADV', 'regular-ADJ', 'soft-ADJ', 'found-NOUN', 'flavor-NOUN', 'none-NOUN', 'chemical-NOUN', 'metallic-NOUN', 'taste-NOUN', 'occur-NOUN', 'many-ADJ', 'brand-NOUN', 'orange-NOUN', 'soft-ADJ', 'fizziness-NOUN', 'drink-NOUN', 'complement-VERB', 'orange-NOUN', 'flavor-NOUN', 'really-ADV', 'get-VERB', 'true-ADJ', 'tangerine-NOUN', 'taste-NOUN', 'tangerine-NOUN', 'acidic-NOUN', 'distinct-NOUN', 'not-NEGATION', 'really-ADV', 'get-VERB', 'taste-NOUN', 'smooth-NOUN', 'quite-ADV', 'teenaged-VERB', 'daughter-NOUN', 'friend-NOUN', 'love-VERB', 'every-DET', 'often-ADV', 'switch-NOUN', 'bit-NOUN', 'cut-NOUN', 'price-NOUN', 'signing-NOUN', 'regular-ADJ', 'far-ADV', 'give-VERB', 'however-ADV', 'buying-NOUN', 'special-ADJ', 'travel-NOUN', 'plan-VERB', 'teen-NOUN']\": ('true-ADJ',\n",
       "  'tangerine'),\n",
       " \"['far-ADV', 'taste-NOUN', 'best-ADJ', 'coconut-NOUN', 'water-NOUN', 'not-NEGATION', 'try-VERB', 'compare-VERB', 'coconut-NOUN', 'water-NOUN', 'order-VERB', 'restaurant-NOUN', 'think-NOUN', 'usually-ADV', 'really-ADV', 'fair-NOUN', 'amy-NOUN', 'vitacoco-NOUN', 'us-NOUN', 'brazilian-ADJ', 'coconut-NOUN', 'taste-NOUN', 'nirvana-NOUN', 'amy-NOUN', 'use-NOUN', 'thai-NOUN', 'seem-VERB', 'like-ADP', 'taste-NOUN', 'nirvana-NOUN', 'amy-NOUN', 'naturally-ADV', 'sweeter-NOUN', 'taste-NOUN', 'nirvana-NOUN', 'good-ADJ', 'sweet-NOUN', 'since-ADP', 'three-NUM', 'brand-NOUN', 'no-NEGATION', 'sugar-NOUN', 'like-VERB', 'coconut-NOUN', 'water-NOUN', 'vitacoco-NOUN', 'slightly-ADV', 'salty-NOUN', 'less-ADV', 'sweet-NOUN', 'taste-NOUN', 'nirvana-NOUN', 'amaze-VERB', 'taste-NOUN', 'right-NOUN', 'amount-NOUN', 'like-VERB', 'pulp-NOUN', 'although-ADP', 'piece-NOUN', 'seem-NOUN', 'mature-NOUN', 'coconut-NOUN', 'rather-ADV', 'young-ADJ', 'almost-ADV', 'gelatin-NOUN', 'pulp-NOUN', 'use-VERB', 'reason-NOUN', 'take-VERB', 'star-NOUN', 'due-ADJ', 'oz-NOUN', 'bottle-NOUN', 'not-NEGATION', 'economical-ADJ', 'way-NOUN', 'buy-VERB', 'taste-NOUN', 'current-ADJ', 'price-NOUN', 'cost-NOUN', 'much-ADJ', 'paid-NOUN', 'coffee-NOUN', 'shop-NOUN', 'individual-ADJ', 'best-ADJ', 'bargain-NOUN', 'buy-VERB', 'nirvana-NOUN', 'real-ADJ', 'coconut-NOUN', 'water-NOUN', 'want-VERB', 'try-NOUN', 'brand-NOUN', 'lot-NOUN', 'people-NOUN', 'say-VERB', 'taste-NOUN', 'nirvana-NOUN', 'amy-NOUN', 'taste-NOUN', 'give-VERB', 'vote-NOUN', 'taste-NOUN', 'hopefully-ADV', 'day-NOUN', 'taste-NOUN', 'fresh-ADJ', 'coconut-NOUN', 'maybe-ADV', 'get-VERB', 'like-ADP', 'coconut-NOUN', 'tree-NOUN', 'try-NOUN']\": ('fresh-ADJ',\n",
       "  'taste')}"
      ]
     },
     "execution_count": 103,
     "metadata": {},
     "output_type": "execute_result"
    }
   ],
   "source": [
    "analyze_review(four_star)"
   ]
  },
  {
   "cell_type": "code",
   "execution_count": null,
   "metadata": {},
   "outputs": [],
   "source": []
  },
  {
   "cell_type": "code",
   "execution_count": null,
   "metadata": {},
   "outputs": [],
   "source": []
  }
 ],
 "metadata": {
  "kernelspec": {
   "display_name": "Python 3",
   "language": "python",
   "name": "python3"
  },
  "language_info": {
   "codemirror_mode": {
    "name": "ipython",
    "version": 3
   },
   "file_extension": ".py",
   "mimetype": "text/x-python",
   "name": "python",
   "nbconvert_exporter": "python",
   "pygments_lexer": "ipython3",
   "version": "3.7.3"
  }
 },
 "nbformat": 4,
 "nbformat_minor": 2
}
