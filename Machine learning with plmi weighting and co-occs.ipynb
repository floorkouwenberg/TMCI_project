{
 "cells": [
  {
   "cell_type": "markdown",
   "metadata": {},
   "source": [
    "## Machine learning with plmi weighting and co-occs"
   ]
  },
  {
   "cell_type": "code",
   "execution_count": 12,
   "metadata": {},
   "outputs": [],
   "source": [
    "import pickle\n",
    "import random\n",
    "from collections import Counter\n",
    "import numpy as np\n",
    "import matplotlib.pyplot as plt\n",
    "from sklearn import naive_bayes, metrics\n",
    "from itertools import chain\n",
    "from math import log\n",
    "from nltk import BigramAssocMeasures\n",
    "\n",
    "\n",
    "with open('test_dicts.txt', 'rb') as file:\n",
    "    test_lemmedreviews = pickle.load(file)\n",
    "    \n",
    "with open('training_dicts.txt', 'rb') as file:\n",
    "    train_lemmedreviews = pickle.load(file)"
   ]
  },
  {
   "cell_type": "code",
   "execution_count": 13,
   "metadata": {},
   "outputs": [],
   "source": [
    "span = 3\n",
    "cooccs_candidate_feature = Counter()\n",
    "\n",
    "\n",
    "for p in range(1, 6):\n",
    "    for sentence in train_lemmedreviews[p]:\n",
    "        for i,w in enumerate(sentence):\n",
    "            #check all co-occurring words within a 3 word span \n",
    "            span_range = list(range(max(i- span, 0), i)) \n",
    "            span_range.extend(range(i+1, min(i + span + 1, len(sentence)))) \n",
    "            for cw in [sentence[idx] for idx in span_range]:\n",
    "                if cw != w and (cw, w) not in cooccs_candidate_feature:\n",
    "                    cooccs_candidate_feature[(w, cw)] += 1\n"
   ]
  },
  {
   "cell_type": "code",
   "execution_count": 34,
   "metadata": {},
   "outputs": [
    {
     "name": "stdout",
     "output_type": "stream",
     "text": [
      "selected features: 6857\n"
     ]
    }
   ],
   "source": [
    "cooccs_features = dict()\n",
    "\n",
    "for idx, (f, v) in enumerate(cooccs_candidate_feature.most_common()):\n",
    "    if v == 9:\n",
    "    #    print(idx, f, v)\n",
    "        break\n",
    "\n",
    "    cooccs_features[f] = idx\n",
    "    \n",
    "print(\"selected features:\", len(cooccs_features))"
   ]
  },
  {
   "cell_type": "code",
   "execution_count": 35,
   "metadata": {},
   "outputs": [],
   "source": [
    "def ppmi(o_11, r_1, c_1, n):\n",
    "    \"\"\"\n",
    "    Positive Pointwise Mutual Information (Church & Hanks, 1990)\n",
    "    \n",
    "    PMI is also available in NLTK:\n",
    "    from nltk.metrics import BigramAssocMeasures\n",
    "    print BigramAssocMeasures.pmi(8, (15828, 4675), 14307668)\n",
    "    \"\"\"\n",
    "    observed = o_11\n",
    "    expected = (r_1*c_1)/n \n",
    "    if expected == 0:\n",
    "        res = 0\n",
    "    else: \n",
    "        if observed/expected <= 0: \n",
    "            res = 0 \n",
    "        else: \n",
    "            res = log(observed/expected,2)\n",
    "    return max(0, res)\n",
    "\n",
    "def plmi(o_11, r_1, c_1, n):\n",
    "    \"\"\"\n",
    "    Positive Local Mutual Information, useful for leveraging the \n",
    "    low-frequency bias of the PPMI\n",
    "    \"\"\"\n",
    "    res = o_11 * ppmi(o_11, r_1, c_1, n)\n",
    "    return res"
   ]
  },
  {
   "cell_type": "code",
   "execution_count": 36,
   "metadata": {},
   "outputs": [
    {
     "name": "stdout",
     "output_type": "stream",
     "text": [
      "[(('navitas-NOUN', 'natural-NOUN'), 156172.61658077373), (('melitta-NOUN', 'riviera-NOUN'), 139380.39742299216), (('organic-ADJ', 'mechanically-ADV'), 138413.2966405498), (('dulce-NOUN', 'de-NOUN'), 135875.59471103677), (('point-NOUN', 'corner-NOUN'), 135475.48794763364), (('freeze-NOUN', 'dry-VERB'), 134676.01632674874), (('rodeo-NOUN', 'blend-VERB'), 134530.31498142923), (('organic-ADJ', 'separate-VERB'), 134507.91990776765), (('stonewall-NOUN', 'kitchen-NOUN'), 132702.3624413754), (('new-NOUN', 'york-NOUN'), 131720.06898668676)]\n"
     ]
    }
   ],
   "source": [
    "raw_frequencies = Counter()\n",
    "for p in range(1, 6):\n",
    "    for rev in train_lemmedreviews[p]:\n",
    "        for w in rev:\n",
    "            raw_frequencies[w] += 1\n",
    "\n",
    "            \n",
    "plmis_lem_surface = Counter()\n",
    "N = len(cooccs_candidate_feature.values())\n",
    "\n",
    "for k,v in cooccs_features.items():\n",
    "    plmis_lem_surface[k] = plmi(v, raw_frequencies[k[0]], raw_frequencies[k[1]], N)\n",
    "\n",
    "print(plmis_lem_surface.most_common(10))"
   ]
  },
  {
   "cell_type": "code",
   "execution_count": 37,
   "metadata": {},
   "outputs": [
    {
     "name": "stdout",
     "output_type": "stream",
     "text": [
      "[[0. 0. 0. ... 0. 0. 0.]\n",
      " [0. 0. 0. ... 0. 0. 0.]\n",
      " [0. 0. 0. ... 0. 0. 0.]\n",
      " ...\n",
      " [0. 0. 0. ... 0. 0. 0.]\n",
      " [0. 0. 0. ... 0. 0. 0.]\n",
      " [0. 0. 0. ... 0. 0. 0.]] [1. 1. 1. ... 5. 5. 5.]\n"
     ]
    }
   ],
   "source": [
    "fMat = np.zeros((sum([len(v) for v in train_lemmedreviews.values()]), len(cooccs_features)))\n",
    "labelsVec = np.zeros((sum([len(v) for v in train_lemmedreviews.values()])))\n",
    "\n",
    "docId = 0\n",
    "for score in range(1, 6):\n",
    "    for rev in train_lemmedreviews[score]:\n",
    "        labelsVec[docId] = score\n",
    "        \n",
    "        span = 3\n",
    "        cooccs_rev = Counter()\n",
    "\n",
    "        for i,w in enumerate(rev):\n",
    "            #check all co-occurring words within a 3 word span \n",
    "            span_range = list(range(max(i- span, 0), i)) \n",
    "            span_range.extend(range(i+1, min(i + span + 1, len(rev)))) \n",
    "            for cw in [rev[idx] for idx in span_range]:\n",
    "                if cw != w and (cw, w) not in cooccs_rev:\n",
    "                    cooccs_rev[(w, cw)] += 1\n",
    "        \n",
    "        \n",
    "        for cooccs in list(cooccs_rev.keys()):\n",
    "            if cooccs in cooccs_features:\n",
    "                fMat[docId, cooccs_features[cooccs]] = plmis_lem_surface[cooccs]\n",
    "\n",
    "        docId += 1\n",
    "        \n",
    "print(fMat, labelsVec)"
   ]
  },
  {
   "cell_type": "code",
   "execution_count": 38,
   "metadata": {},
   "outputs": [
    {
     "data": {
      "text/plain": [
       "MultinomialNB(alpha=1.0, class_prior=None, fit_prior=True)"
      ]
     },
     "execution_count": 38,
     "metadata": {},
     "output_type": "execute_result"
    }
   ],
   "source": [
    "clf = naive_bayes.MultinomialNB()\n",
    "clf.fit(fMat, labelsVec)"
   ]
  },
  {
   "cell_type": "code",
   "execution_count": 39,
   "metadata": {},
   "outputs": [
    {
     "name": "stdout",
     "output_type": "stream",
     "text": [
      "[[0. 0. 0. ... 0. 0. 0.]\n",
      " [0. 0. 0. ... 0. 0. 0.]\n",
      " [0. 0. 0. ... 0. 0. 0.]\n",
      " ...\n",
      " [0. 0. 0. ... 0. 0. 0.]\n",
      " [0. 0. 0. ... 0. 0. 0.]\n",
      " [0. 0. 0. ... 0. 0. 0.]] [1. 1. 1. ... 5. 5. 5.]\n"
     ]
    }
   ],
   "source": [
    "testMat = np.zeros((sum([len(v) for v in test_lemmedreviews.values()]), len(cooccs_features)))\n",
    "goldStandard = np.zeros((sum([len(v) for v in test_lemmedreviews.values()])))\n",
    "\n",
    "docId = 0\n",
    "for score in range(1, 6):\n",
    "    for rev in test_lemmedreviews[score]:\n",
    "        goldStandard[docId] = score\n",
    "        \n",
    "        span = 3\n",
    "        cooccs_rev = Counter()\n",
    "\n",
    "        for i,w in enumerate(rev):\n",
    "            #check all co-occurring words within a 3 word span \n",
    "            span_range = list(range(max(i- span, 0), i)) \n",
    "            span_range.extend(range(i+1, min(i + span + 1, len(rev)))) \n",
    "            for cw in [rev[idx] for idx in span_range]:\n",
    "                if cw != w and (cw, w) not in cooccs_rev:\n",
    "                    cooccs_rev[(w, cw)] += 1\n",
    "        \n",
    "        \n",
    "        for cooccs in list(cooccs_rev.keys()):\n",
    "            if cooccs in cooccs_features:\n",
    "                testMat[docId, cooccs_features[cooccs]] = plmis_lem_surface[cooccs]\n",
    "\n",
    "        docId += 1\n",
    "        \n",
    "print(testMat, goldStandard)"
   ]
  },
  {
   "cell_type": "code",
   "execution_count": 40,
   "metadata": {},
   "outputs": [],
   "source": [
    "predicted = clf.predict(testMat)"
   ]
  },
  {
   "cell_type": "code",
   "execution_count": 41,
   "metadata": {},
   "outputs": [
    {
     "name": "stdout",
     "output_type": "stream",
     "text": [
      "accuracy: 0.783\n",
      "precision: 0.8400247105130649\n",
      "recall: 0.6871217581079023\n",
      "f1-measure: 0.7442028270758501\n"
     ]
    }
   ],
   "source": [
    "# accuracy\n",
    "print(\"accuracy:\", metrics.accuracy_score(predicted, goldStandard))\n",
    "\n",
    "# precision, recall and f-measure\n",
    "print(\"precision:\", metrics.precision_score(predicted, goldStandard, average='macro'))\n",
    "print(\"recall:\", metrics.recall_score(predicted, goldStandard, average='macro'))\n",
    "print(\"f1-measure:\", metrics.f1_score(predicted, goldStandard, average='macro'))"
   ]
  },
  {
   "cell_type": "markdown",
   "metadata": {},
   "source": [
    "## Machine learning with plmi weighting x frequencies and co-occs"
   ]
  },
  {
   "cell_type": "code",
   "execution_count": 6,
   "metadata": {},
   "outputs": [
    {
     "name": "stdout",
     "output_type": "stream",
     "text": [
      "[[0. 0. 0. ... 0. 0. 0.]\n",
      " [0. 0. 0. ... 0. 0. 0.]\n",
      " [0. 0. 0. ... 0. 0. 0.]\n",
      " ...\n",
      " [0. 0. 0. ... 0. 0. 0.]\n",
      " [0. 0. 0. ... 0. 0. 0.]\n",
      " [0. 0. 0. ... 0. 0. 0.]] [1. 1. 1. ... 5. 5. 5.]\n"
     ]
    }
   ],
   "source": [
    "fMat = np.zeros((sum([len(v) for v in train_lemmedreviews.values()]), len(cooccs_features)))\n",
    "labelsVec = np.zeros((sum([len(v) for v in train_lemmedreviews.values()])))\n",
    "\n",
    "docId = 0\n",
    "for score in range(1, 6):\n",
    "    for rev in train_lemmedreviews[score]:\n",
    "        labelsVec[docId] = score\n",
    "        \n",
    "        span = 3\n",
    "        cooccs_rev = Counter()\n",
    "\n",
    "        for i,w in enumerate(rev):\n",
    "            #check all co-occurring words within a 3 word span \n",
    "            span_range = list(range(max(i- span, 0), i)) \n",
    "            span_range.extend(range(i+1, min(i + span + 1, len(rev)))) \n",
    "            for cw in [rev[idx] for idx in span_range]:\n",
    "                if cw != w and (cw, w) not in cooccs_rev:\n",
    "                    cooccs_rev[(w, cw)] += 1\n",
    "        \n",
    "        \n",
    "        for cooccs in list(cooccs_rev.keys()):\n",
    "            if cooccs in cooccs_features:\n",
    "                fMat[docId, cooccs_features[cooccs]] += plmis_lem_surface[cooccs]\n",
    "\n",
    "        docId += 1\n",
    "        \n",
    "print(fMat, labelsVec)"
   ]
  },
  {
   "cell_type": "code",
   "execution_count": 7,
   "metadata": {},
   "outputs": [
    {
     "data": {
      "text/plain": [
       "MultinomialNB(alpha=1.0, class_prior=None, fit_prior=True)"
      ]
     },
     "execution_count": 7,
     "metadata": {},
     "output_type": "execute_result"
    }
   ],
   "source": [
    "clf = naive_bayes.MultinomialNB()\n",
    "clf.fit(fMat, labelsVec)"
   ]
  },
  {
   "cell_type": "code",
   "execution_count": 8,
   "metadata": {},
   "outputs": [
    {
     "name": "stdout",
     "output_type": "stream",
     "text": [
      "[[0. 0. 0. ... 0. 0. 0.]\n",
      " [0. 0. 0. ... 0. 0. 0.]\n",
      " [0. 0. 0. ... 0. 0. 0.]\n",
      " ...\n",
      " [0. 0. 0. ... 0. 0. 0.]\n",
      " [0. 0. 0. ... 0. 0. 0.]\n",
      " [0. 0. 0. ... 0. 0. 0.]] [1. 1. 1. ... 5. 5. 5.]\n"
     ]
    }
   ],
   "source": [
    "testMat = np.zeros((sum([len(v) for v in test_lemmedreviews.values()]), len(cooccs_features)))\n",
    "goldStandard = np.zeros((sum([len(v) for v in test_lemmedreviews.values()])))\n",
    "\n",
    "docId = 0\n",
    "for score in range(1, 6):\n",
    "    for rev in test_lemmedreviews[score]:\n",
    "        goldStandard[docId] = score\n",
    "        \n",
    "        span = 3\n",
    "        cooccs_rev = Counter()\n",
    "\n",
    "        for i,w in enumerate(rev):\n",
    "            #check all co-occurring words within a 3 word span \n",
    "            span_range = list(range(max(i- span, 0), i)) \n",
    "            span_range.extend(range(i+1, min(i + span + 1, len(rev)))) \n",
    "            for cw in [rev[idx] for idx in span_range]:\n",
    "                if cw != w and (cw, w) not in cooccs_rev:\n",
    "                    cooccs_rev[(w, cw)] += 1\n",
    "        \n",
    "        \n",
    "        for cooccs in list(cooccs_rev.keys()):\n",
    "            if cooccs in cooccs_features:\n",
    "                testMat[docId, cooccs_features[cooccs]] += plmis_lem_surface[cooccs]\n",
    "\n",
    "        docId += 1\n",
    "        \n",
    "print(testMat, goldStandard)"
   ]
  },
  {
   "cell_type": "code",
   "execution_count": 9,
   "metadata": {},
   "outputs": [],
   "source": [
    "predicted = clf.predict(testMat)"
   ]
  },
  {
   "cell_type": "code",
   "execution_count": 10,
   "metadata": {},
   "outputs": [
    {
     "name": "stdout",
     "output_type": "stream",
     "text": [
      "accuracy: 0.783\n",
      "precision: 0.8400247105130649\n",
      "recall: 0.6871217581079023\n",
      "f1-measure: 0.7442028270758501\n"
     ]
    }
   ],
   "source": [
    "# accuracy\n",
    "print(\"accuracy:\", metrics.accuracy_score(predicted, goldStandard))\n",
    "\n",
    "# precision, recall and f-measure\n",
    "print(\"precision:\", metrics.precision_score(predicted, goldStandard, average='macro'))\n",
    "print(\"recall:\", metrics.recall_score(predicted, goldStandard, average='macro'))\n",
    "print(\"f1-measure:\", metrics.f1_score(predicted, goldStandard, average='macro'))"
   ]
  },
  {
   "cell_type": "code",
   "execution_count": null,
   "metadata": {},
   "outputs": [],
   "source": []
  }
 ],
 "metadata": {
  "kernelspec": {
   "display_name": "Python 3",
   "language": "python",
   "name": "python3"
  },
  "language_info": {
   "codemirror_mode": {
    "name": "ipython",
    "version": 3
   },
   "file_extension": ".py",
   "mimetype": "text/x-python",
   "name": "python",
   "nbconvert_exporter": "python",
   "pygments_lexer": "ipython3",
   "version": "3.7.1"
  }
 },
 "nbformat": 4,
 "nbformat_minor": 2
}
