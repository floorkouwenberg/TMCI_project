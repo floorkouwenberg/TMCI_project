{
 "cells": [
  {
   "cell_type": "code",
   "execution_count": 1,
   "metadata": {
    "scrolled": true
   },
   "outputs": [
    {
     "name": "stdout",
     "output_type": "stream",
     "text": [
      "       ProductId  Score                                               Text\n",
      "7641  B000TRFGGM      5  We love the little Venus Flytrap,<br />it's he...\n",
      "6776  B001LG945O      4  I'll admit that I don't care for drinks that a...\n",
      "874   B000HDMUQ2      2  I have recently stopped eating a number of all...\n",
      "9061  B006N3IG4K      5  I really enjoy Wolfgang Puck's K-Cups, so far ...\n",
      "5003  B00653KJ5M      4  I bought a 40 sampler pack from the caveman ba...\n",
      "4603  B003VXL14M      5  I love this tea!  Both the green and white var...\n",
      "9162  B006N3IG4K      5  WOW! That's what my husband said when he taste...\n",
      "9723  B001LXYA5Q      3  This tablet which is referred to as the miracl...\n",
      "8563  B003VXFK44      5  I buy these with subscribe and save.  I like t...\n",
      "2439  B0089SPDUW      5  So Far this is the only K-cup I've found thats...\n",
      "5137  B0028VAQSU      5  What's not to like about Pamela's baking mix? ...\n",
      "4775  B00139TT72      4  I've yet to find any of the dogs I know that l...\n",
      "8607  B003VXFK44      5  I love coffee with no bitterness and lots of g...\n",
      "8992  B001AG9X6K      5  Very light in taste, but very giood, ty! Also,...\n",
      "8593  B003VXFK44      2  I ordered Wolf Gang Puck's k cups, largely bec...\n",
      "2210  B002RKGEII      2  Very bitter and not nearly as thick as expecte...\n",
      "9137  B006N3IG4K      5  A very nice flavor with no after-taste. It giv...\n",
      "9391  B006N3IG4K      3  So here is another example of a 48-pack of k-c...\n",
      "7370  B000EDG4TE      3  Bobs Red Mill Pumkin Seeds came to me in a gre...\n",
      "491   B000G6RYNE      5  We love Kettle Chips Lightly Salted and don't ...\n",
      "3744  B00016UX0K      4  This sauce is good, but for my tastes it isn't...\n",
      "6843  B001LG945O      5  I was pleased to discover that Switch Orange T...\n",
      "6280  B000KOSDY6      5  Chi-Chi's sweet corn cake is awesome.  The sto...\n",
      "892   B0041QIHC2      5  My brother bought me a pound of this coffee fo...\n",
      "7406  B0002Q1X6C      1  We tried these and they were bland and had no ...\n",
      "6342  B001AW9PTO      5  This jerky is the bomb!!! It is by fare the be...\n",
      "7070  B004K30HO2      3  Looking at all the disposable/reusable K-Cup d...\n",
      "4057  B001SAZIPS      5  Zomg these cookies are sooo good!! I just boug...\n",
      "3328  B005K4Q1VI      4  Taste was decent, a little sugary, but very cr...\n",
      "1212  B005O072PC      4  I really like this product.  It tasted great a...\n",
      "...          ...    ...                                                ...\n",
      "7423  B005LMLXN0      5  I usually don't drink tea because it doesn't h...\n",
      "7890  B004Q7O92I      5  My Greyhounds 7 and 8 years old( both Brood Ma...\n",
      "1263  B001FA1L7A      5  Hard to find locally. Great price, especially ...\n",
      "9373  B006N3IG4K      4  It is a medium roast pleasant coffee, comparab...\n",
      "5091  B001EO5ZFQ      5  We used to buy this sauce at our local grocery...\n",
      "9411  B006N3IG4K      3  First, let me say that I prefer extra-bold K-C...\n",
      "6853  B001LG945O      2  Pros: not overly sweet like some juice drinks<...\n",
      "5037  B000T8XZOQ      5  Not only is the sweetener great in coffee or i...\n",
      "418   B004X8TK8I      5  Whats there to say about a fantastic chocolate...\n",
      "2352  B001L4NJ1G      5  Cant find this flavor in the stores, so bought...\n",
      "8757  B000LKZ84C      3  Disappointing... while folks like to say tofu ...\n",
      "2841  B0085G4ACA      5  Bigger is always better, and that is not what ...\n",
      "3669  B000FDKQC4      2  I bought these at my local grocery store. I wi...\n",
      "9732  B001LXYA5Q      2  After reading the reviews on Amazon and resear...\n",
      "4984  B000N1LF96      5  I'm not the best cook, but I like to try new t...\n",
      "6850  B001LG945O      3  The drink is 100% juice concentrate reconstitu...\n",
      "6215  B000NY31I6      5  This Creme Brulee is as good as any homemade! ...\n",
      "3280  B005K4Q1VI      2  very easy to use not the best flavor It has to...\n",
      "3277  B005K4Q1VI      5  I really like this hot chocolate mix.  I was c...\n",
      "7153  B004K30HO2      5  These disposable cups are great!  The simple, ...\n",
      "9149  B006N3IG4K      5  Have enjoyed every single cup of Breakfast in ...\n",
      "9027  B006N3IG4K      2  I drink about 4 to 6 cups of coffee every morn...\n",
      "5180  B004B607MU      5  You cant go wrong with Rosa Monte Especial! th...\n",
      "5217  B0075NJG3W      2  Warning: it contains food preservatives. Other...\n",
      "2390  B0089SPDUW      5  It has a nice strong flavor with no bitterness...\n",
      "3637  B005RF029M      5  I used this flour in my usual pizza recipe. I ...\n",
      "1059  B001GCVLXG      5  <a href=\"http://www.amazon.com/gp/product/B001...\n",
      "3007  B000B2PDKY      5  Bought as a Christmas present. Smells like a m...\n",
      "6691  B001LG945O      4  If you're a regular drinker of orange soda-pop...\n",
      "5184  B003R0LKSG      4  If you're setting out a whole can at once or t...\n",
      "\n",
      "[10000 rows x 3 columns]\n"
     ]
    }
   ],
   "source": [
    "import pandas as pd\n",
    "import nltk\n",
    "from sklearn.utils import shuffle\n",
    "\n",
    "# Loading our datafile as a DataFrame with pandas\n",
    "\n",
    "df = pd.read_csv('/Users/laniepreston/TMCI_Edits/group_assignment/FullReviews.csv' , usecols=[1,6,9], header=0)\n",
    "shuf_red_df = shuffle(df[:10000])\n",
    "print(shuf_red_df)"
   ]
  },
  {
   "cell_type": "code",
   "execution_count": 3,
   "metadata": {},
   "outputs": [],
   "source": [
    "# PoS-tagging our dataset\n",
    "train_df = shuf_red_df[:8000]\n",
    "test_df = shuf_red_df[:2000]\n",
    "\n",
    "\n",
    "train_tagged = []\n",
    "test_tagged = []\n",
    "\n",
    "\n",
    "for index, item in train_df.iterrows():\n",
    "    product_id = item[0]\n",
    "    score = item[1]\n",
    "    review = item[2]\n",
    "    review = review.split()\n",
    "    rev = []\n",
    "    for i in review:\n",
    "        rev += nltk.pos_tag([i], tagset=\"universal\")\n",
    "    train_tagged.append([rev, score])\n",
    "\n",
    "for index, item in test_df.iterrows():\n",
    "    product_id = item[0]\n",
    "    score = item[1]\n",
    "    review = item[2]\n",
    "    review = review.split()\n",
    "    rev = []\n",
    "    for i in review:\n",
    "        rev += nltk.pos_tag([i], tagset=\"universal\")\n",
    "    test_tagged.append([rev, score])"
   ]
  },
  {
   "cell_type": "code",
   "execution_count": 4,
   "metadata": {},
   "outputs": [
    {
     "name": "stdout",
     "output_type": "stream",
     "text": [
      "[[[('I', 'PRON'), ('got', 'VERB'), ('this', 'DET'), ('on', 'ADP'), ('the', 'DET'), ('warehouse', 'NOUN'), ('deal', 'NOUN'), ('so', 'ADV'), ('I', 'PRON'), (\"wasn't\", 'NOUN'), ('expecting', 'VERB'), ('much.', 'NOUN'), ('However,', 'NOUN'), ('be', 'VERB'), ('advised', 'VERB'), ('you', 'PRON'), ('will', 'VERB'), ('get', 'VERB'), ('NO', 'DET'), ('regular', 'ADJ'), ('Donut', 'NOUN'), ('Shop', 'NOUN'), ('and', 'CONJ'), ('instead', 'ADV'), ('you', 'PRON'), ('will', 'VERB'), ('receive', 'NOUN'), ('over', 'ADP'), ('half', 'NOUN'), ('of', 'ADP'), ('the', 'DET'), ('box', 'NOUN'), ('as', 'ADP'), ('decaf.', 'NOUN'), ('I', 'PRON'), ('love', 'NOUN'), ('the', 'DET'), ('flavors', 'NOUN'), ('of', 'ADP'), ('all', 'DET'), ('of', 'ADP'), ('these', 'DET'), ('though,', 'NOUN'), ('so', 'ADV'), (\"that's\", 'NOUN'), ('ok.', 'NOUN'), ('But', 'CONJ'), ('I', 'PRON'), ('will', 'VERB'), ('think', 'NOUN'), ('hard', 'ADJ'), ('about', 'ADP'), ('getting', 'VERB'), ('another', 'DET'), ('variety', 'NOUN'), ('pack.', 'NOUN')], 2], [[('The', 'DET'), ('quality', 'NOUN'), ('of', 'ADP'), ('this', 'DET'), ('tea', 'NOUN'), ('is', 'VERB'), ('5', 'NUM'), ('star-it', 'NOUN'), ('is', 'VERB'), ('in', 'ADP'), ('sealed', 'VERB'), ('bags.', 'NOUN'), (\"We're\", 'NOUN'), ('trying', 'VERB'), ('it', 'PRON'), ('out', 'ADP'), ('to', 'PRT'), ('see', 'VERB'), ('if', 'ADP'), ('helps', 'NOUN'), ('our', 'PRON'), ('nails', 'NOUN'), ('&', 'CONJ'), ('skin.', 'NOUN')], 5], [[('This', 'DET'), ('is', 'VERB'), ('my', 'PRON'), ('2nd', 'NUM'), ('review', 'NOUN'), ('for', 'ADP'), ('this', 'DET'), ('product.', 'NOUN'), ('The', 'DET'), ('first', 'ADV'), ('one', 'NUM'), ('was', 'VERB'), ('supposed', 'VERB'), ('to', 'PRT'), ('be', 'VERB'), ('75', 'NUM'), ('words.', 'NOUN'), ('That', 'DET'), ('would', 'VERB'), ('be', 'VERB'), ('too', 'ADV'), ('long', 'ADV'), ('for', 'ADP'), ('this', 'DET'), ('item.', 'NOUN'), ('The', 'DET'), ('product', 'NOUN'), ('itself', 'PRON'), ('is', 'VERB'), ('good', 'ADJ'), ('but', 'CONJ'), ('the', 'DET'), ('price', 'NOUN'), ('for', 'ADP'), ('shipping', 'NOUN'), ('for', 'ADP'), ('such', 'ADJ'), ('a', 'DET'), ('small', 'ADJ'), ('item', 'NOUN'), ('was', 'VERB'), ('ridiculous.', 'NOUN'), ('The', 'DET'), ('package', 'NOUN'), ('was', 'VERB'), ('small', 'ADJ'), ('and', 'CONJ'), ('light', 'NOUN'), ('weight', 'NOUN'), ('but', 'CONJ'), ('I', 'PRON'), ('was', 'VERB'), ('charged', 'VERB'), ('$6.78', 'NOUN'), ('for', 'ADP'), ('shipping', 'NOUN'), ('of', 'ADP'), ('a', 'DET'), ('$4.99', 'NOUN'), ('item.', 'NOUN'), ('I', 'PRON'), ('have', 'VERB'), ('bought', 'NOUN'), ('many', 'ADJ'), ('items', 'NOUN'), ('from', 'ADP'), ('amazon.com', 'NOUN'), ('and', 'CONJ'), ('it', 'PRON'), ('seems', 'VERB'), ('here', 'ADV'), ('lately', 'ADV'), ('that', 'ADP'), ('the', 'DET'), ('shipping', 'NOUN'), ('has', 'VERB'), ('gotten', 'NOUN'), ('totally', 'ADV'), ('out', 'ADP'), ('of', 'ADP'), ('hand.', 'NOUN'), ('I', 'PRON'), ('bought', 'NOUN'), ('several', 'ADJ'), ('items', 'NOUN'), ('and', 'CONJ'), ('the', 'DET'), ('shipping', 'NOUN'), ('was', 'VERB'), ('all', 'DET'), ('together.', 'NOUN'), ('Therefore', 'ADV'), ('I', 'PRON'), ('did', 'VERB'), ('not', 'ADV'), ('know', 'VERB'), ('how', 'ADV'), ('much', 'ADJ'), ('was', 'VERB'), ('charged', 'VERB'), ('for', 'ADP'), ('each', 'DET'), ('item.', 'NOUN'), ('I', 'PRON'), ('will', 'VERB'), ('not', 'ADV'), ('buy', 'VERB'), ('from', 'ADP'), ('this', 'DET'), ('vendor', 'NOUN'), ('again', 'ADV'), ('since', 'ADP'), ('they', 'PRON'), ('are', 'VERB'), ('making', 'VERB'), ('money', 'NOUN'), ('on', 'ADP'), ('the', 'DET'), ('shipping.', 'NOUN'), ('Enough', 'ADV'), ('said.', 'NOUN')], 1], [[('I', 'PRON'), ('am', 'VERB'), ('so', 'ADV'), ('glad', 'NOUN'), ('I', 'PRON'), ('was', 'VERB'), ('introduced', 'VERB'), ('the', 'DET'), ('this', 'DET'), ('brand', 'NOUN'), ('of', 'ADP'), ('sweetner', 'NOUN'), ('to', 'PRT'), ('replace', 'VERB'), ('sugar,', 'NOUN'), ('this', 'DET'), ('is', 'VERB'), ('so', 'ADV'), ('much', 'ADJ'), ('better.', 'NOUN'), ('I', 'PRON'), ('really', 'ADV'), ('like', 'ADP'), ('how', 'ADV'), ('it', 'PRON'), ('sweetens', 'NOUN'), ('my', 'PRON'), ('herbal', 'NOUN'), ('sweet', 'NOUN'), ('teas', 'NOUN'), ('without', 'ADP'), ('having', 'VERB'), ('to', 'PRT'), ('use', 'NOUN'), ('too', 'ADV'), ('much,', 'NOUN'), ('and', 'CONJ'), ('how', 'ADV'), ('it', 'PRON'), ('can', 'VERB'), ('be', 'VERB'), ('used', 'VERB'), ('in', 'ADP'), ('place', 'NOUN'), ('of', 'ADP'), ('pancake', 'NOUN'), ('syrup', 'NOUN'), ('too.', 'NOUN'), ('Learning', 'VERB'), ('how', 'ADV'), ('to', 'PRT'), ('use', 'NOUN'), ('it', 'PRON'), ('what', 'PRON'), ('the', 'DET'), ('first', 'ADV'), ('thing', 'NOUN'), ('I', 'PRON'), ('had', 'VERB'), ('to', 'PRT'), ('learn,', 'NOUN'), ('once', 'ADV'), ('I', 'PRON'), ('learned', 'VERB'), ('how', 'ADV'), ('to', 'PRT'), ('use', 'NOUN'), ('it,', 'NOUN'), ('I', 'PRON'), ('became', 'VERB'), ('hooked.', 'NOUN'), ('I', 'PRON'), ('would', 'VERB'), ('not', 'ADV'), ('even', 'ADV'), ('look', 'NOUN'), ('at', 'ADP'), ('sugar', 'NOUN'), ('any', 'DET'), ('more.', 'NOUN'), ('I', 'PRON'), ('highly', 'ADV'), ('reccomend', 'NOUN'), ('if', 'ADP'), ('you', 'PRON'), ('want', 'NOUN'), ('a', 'DET'), ('clean', 'NOUN'), ('fresh', 'ADJ'), ('taste', 'NOUN'), ('and', 'CONJ'), ('feel', 'NOUN'), ('to', 'PRT'), ('your', 'PRON'), ('foods.If', 'NOUN'), ('you', 'PRON'), ('do', 'VERB'), ('purchase', 'NOUN'), ('this', 'DET'), ('sweetner,', 'NOUN'), ('take', 'VERB'), ('advantage', 'NOUN'), ('of', 'ADP'), ('ship', 'NOUN'), ('and', 'CONJ'), ('save,', 'NOUN'), ('it', 'PRON'), ('will', 'VERB'), ('save', 'VERB'), ('you', 'PRON'), ('lots', 'NOUN'), ('of', 'ADP'), ('money', 'NOUN'), ('in', 'ADP'), ('the', 'DET'), ('long', 'ADV'), ('run.', 'NOUN')], 5], [[('These', 'DET'), ('are', 'VERB'), ('better', 'ADV'), ('than', 'ADP'), ('any', 'DET'), ('low', 'ADJ'), ('calorie', 'NOUN'), ('chips', 'NOUN'), (\"I've\", 'NOUN'), ('ever', 'ADV'), ('had,', 'NOUN'), ('and', 'CONJ'), ('I', 'PRON'), ('prefer', 'NOUN'), ('them', 'PRON'), ('to', 'PRT'), ('normal', 'ADJ'), ('chips.', 'NOUN'), ('They', 'PRON'), ('are', 'VERB'), ('wonderful.', 'NOUN'), ('Oprah', 'NOUN'), ('even', 'ADV'), ('loves', 'NOUN'), ('them.', 'NOUN'), ('I', 'PRON'), ('would', 'VERB'), ('buy', 'VERB'), ('this', 'DET'), ('box', 'NOUN'), ('again,', 'NOUN'), ('and', 'CONJ'), ('probably', 'ADV'), ('will,', 'NOUN'), ('because', 'ADP'), ('I', 'PRON'), ('LOVE', 'NOUN'), ('that', 'ADP'), ('these', 'DET'), ('are', 'VERB'), ('100', 'NUM'), ('calorie', 'NOUN'), ('packs.', 'NOUN'), ('The', 'DET'), ('barbeque', 'NOUN'), ('and', 'CONJ'), ('salt', 'NOUN'), ('and', 'CONJ'), ('vinegar', 'NOUN'), ('ones', 'NOUN'), ('are', 'VERB'), ('AWESOME.', 'NOUN')], 5], [[('I', 'PRON'), ('tried', 'VERB'), ('this', 'DET'), ('at', 'ADP'), ('first', 'ADV'), ('as', 'ADP'), ('a', 'DET'), ('gluten-free', 'ADJ'), ('alternative', 'NOUN'), ('to', 'PRT'), ('cream', 'NOUN'), ('of', 'ADP'), ('mushroom', 'NOUN'), ('soup.', 'NOUN'), ('Turns', 'NOUN'), ('out', 'ADP'), ('its', 'PRON'), ('really', 'ADV'), ('good!', 'NOUN'), ('Modified', 'VERB'), ('my', 'PRON'), ('MILs', 'NOUN'), ('swedish', 'ADJ'), ('meatballs', 'NOUN'), ('recipe', 'NOUN'), ('using', 'VERB'), ('this', 'DET'), ('sauce', 'NOUN'), ('as', 'ADP'), ('the', 'DET'), ('base.', 'NOUN'), ('Also', 'ADV'), ('served', 'VERB'), ('it', 'PRON'), ('with', 'ADP'), ('shitakes', 'NOUN'), ('over', 'ADP'), ('rice.', 'NOUN'), ('Very', 'ADV'), ('versatile', 'NOUN'), ('and', 'CONJ'), ('tasty!', 'NOUN'), ('And', 'CONJ'), ('its', 'PRON'), ('great', 'ADJ'), ('that', 'ADP'), ('the', 'DET'), ('ingredients', 'NOUN'), (\"don't\", 'NOUN'), ('read', 'NOUN'), ('like', 'ADP'), ('an', 'DET'), ('industrial', 'ADJ'), ('compound.', 'NOUN')], 5], [[('The', 'DET'), ('fact', 'NOUN'), ('that', 'ADP'), ('the', 'DET'), ('title', 'NOUN'), ('of', 'ADP'), ('this', 'DET'), ('product', 'NOUN'), ('includes', 'VERB'), ('the', 'DET'), ('number', 'NOUN'), ('3000', 'NUM'), ('is', 'VERB'), ('misleading.', 'NOUN'), (\"I'm\", 'NOUN'), ('not', 'ADV'), ('even', 'ADV'), ('sure', 'NOUN'), ('what', 'PRON'), ('that', 'ADP'), ('number', 'NOUN'), ('refers', 'NOUN'), ('to.', 'NOUN'), ('I', 'PRON'), ('can', 'VERB'), ('tell', 'NOUN'), ('you', 'PRON'), ('that', 'ADP'), ('it', 'PRON'), ('does', 'VERB'), ('not', 'ADV'), ('refer', 'NOUN'), ('to', 'PRT'), ('the', 'DET'), ('quantity', 'NOUN'), ('of', 'ADP'), ('gumballs', 'NOUN'), ('in', 'ADP'), ('the', 'DET'), ('package', 'NOUN'), ('(which', 'NOUN'), ('is', 'VERB'), ('850).', 'NUM'), (\"It's\", 'NOUN'), ('true', 'ADJ'), ('that', 'ADP'), ('the', 'DET'), ('product', 'NOUN'), ('details', 'NOUN'), ('stated', 'VERB'), ('the', 'DET'), ('actual', 'ADJ'), ('quantity', 'NOUN'), ('of', 'ADP'), ('850,', 'NUM'), ('but', 'CONJ'), ('apparently', 'ADV'), ('I', 'PRON'), ('glossed', 'VERB'), ('over', 'ADP'), ('that', 'ADP'), ('fact.', 'NOUN'), ('The', 'DET'), ('price', 'NOUN'), ('is', 'VERB'), ('still', 'ADV'), ('a', 'DET'), ('good', 'ADJ'), ('deal', 'NOUN'), ('compared', 'VERB'), ('to', 'PRT'), ('other', 'ADJ'), ('vendors', 'NOUN'), ('on', 'ADP'), ('Amazon;', 'NOUN'), ('just', 'ADV'), ('not', 'ADV'), ('quite', 'ADV'), ('as', 'ADP'), ('good', 'ADJ'), ('as', 'ADP'), ('I', 'PRON'), ('had', 'VERB'), ('originally', 'ADV'), ('thought.', 'NOUN'), ('Shipping', 'VERB'), ('took', 'VERB'), ('a', 'DET'), ('week', 'NOUN'), ('longer', 'NOUN'), ('than', 'ADP'), ('expected,', 'NOUN'), ('but', 'CONJ'), ('I', 'PRON'), ('did', 'VERB'), ('receive', 'NOUN'), ('and', 'CONJ'), ('apology', 'NOUN'), ('email.', 'NOUN'), ('The', 'DET'), ('gumballs', 'NOUN'), ('themselves', 'PRON'), ('were', 'VERB'), ('well', 'ADV'), ('packaged.<br', 'NOUN'), ('/>I', 'NOUN'), ('would', 'VERB'), ('buy', 'VERB'), ('from', 'ADP'), ('this', 'DET'), ('vendor', 'NOUN'), ('again', 'ADV'), ('(assuming', 'VERB'), ('that', 'ADP'), ('the', 'DET'), ('consumption', 'NOUN'), ('of', 'ADP'), ('850', 'NUM'), ('gumballs', 'NOUN'), ('does', 'VERB'), ('not', 'ADV'), ('kill', 'NOUN'), ('me).', 'NOUN')], 4], [[('The', 'DET'), ('Icicle', 'NOUN'), ('is', 'VERB'), ('an', 'DET'), ('excellent', 'NOUN'), ('product,', 'NOUN'), ('works', 'NOUN'), ('as', 'ADP'), ('advertised.', 'NOUN'), ('I', 'PRON'), ('think', 'NOUN'), (\"it's\", 'NOUN'), ('the', 'DET'), ('easiest', 'ADJ'), ('way', 'NOUN'), ('to', 'PRT'), ('attach', 'NOUN'), ('a', 'DET'), ('quality', 'NOUN'), ('mic', 'NOUN'), ('directly', 'ADV'), ('to', 'PRT'), ('your', 'PRON'), ('computer.<br', 'NOUN'), ('/>the', 'NOUN'), ('icicle', 'NOUN'), ('is', 'VERB'), ('a', 'DET'), ('fine', 'NOUN'), ('\"Plug', 'NOUN'), ('&', 'CONJ'), ('Play\"', 'NOUN'), ('mic', 'NOUN'), ('interface.', 'NOUN')], 5], [[('The', 'DET'), ('Breakfast', 'NOUN'), ('In', 'ADP'), ('Bed', 'NOUN'), ('coffee', 'NOUN'), ('from', 'ADP'), ('Wolfgang', 'NOUN'), ('Puck', 'NOUN'), ('is', 'VERB'), ('a', 'DET'), ('good', 'ADJ'), ('medium', 'NOUN'), ('roast', 'NOUN'), ('coffee.', 'NOUN'), ('My', 'PRON'), ('husband,', 'NOUN'), ('the', 'DET'), ('regular', 'ADJ'), ('coffee', 'NOUN'), ('drinker', 'NOUN'), ('of', 'ADP'), ('our', 'PRON'), ('house,', 'NOUN'), ('likes', 'NOUN'), ('it,', 'NOUN'), ('but', 'CONJ'), ('feels', 'NOUN'), ('he', 'PRON'), ('would', 'VERB'), ('like', 'ADP'), ('the', 'DET'), ('coffee', 'NOUN'), ('more', 'ADV'), ('if', 'ADP'), ('it', 'PRON'), ('were', 'VERB'), ('a', 'DET'), ('bit', 'NOUN'), ('stronger.', 'NOUN'), ('The', 'DET'), ('product', 'NOUN'), ('arrived', 'VERB'), ('quite', 'ADV'), ('soon', 'ADV'), ('after', 'ADP'), ('ordering.', 'NOUN')], 4], [[('Unlike', 'ADP'), ('most', 'ADJ'), ('people,', 'NOUN'), ('I', 'PRON'), ('prefer', 'NOUN'), ('not', 'ADV'), ('a', 'DET'), ('weak', 'ADJ'), ('coffee', 'NOUN'), ('but', 'CONJ'), ('a', 'DET'), ('milder', 'NOUN'), ('roast', 'NOUN'), ('than', 'ADP'), ('the', 'DET'), ('burnt', 'NOUN'), ('stuff', 'NOUN'), ('most', 'ADJ'), ('coffee', 'NOUN'), ('houses', 'NOUN'), ('make', 'VERB'), ('that', 'ADP'), ('requires', 'VERB'), ('many', 'ADJ'), ('accoutrements', 'NOUN'), ('to', 'PRT'), ('mask', 'NOUN'), ('like', 'ADP'), ('cream,', 'NOUN'), ('sugar', 'NOUN'), ('and', 'CONJ'), ('artificial', 'ADJ'), ('flavors.', 'NOUN'), ('Therefore,', 'NOUN'), ('I', 'PRON'), ('purposely', 'ADV'), ('only', 'ADV'), ('tried', 'VERB'), ('the', 'DET'), ('Columbian.<br', 'NOUN'), ('/><br', 'NOUN'), ('/>I', 'NOUN'), ('work', 'NOUN'), ('in', 'ADP'), ('a', 'DET'), ('place', 'NOUN'), ('that', 'ADP'), ('has', 'VERB'), ('poorly', 'ADV'), ('serviced', 'VERB'), ('coffee', 'NOUN'), ('\"dispensing', 'VERB'), ('machines.\"', 'NOUN'), ('They', 'PRON'), ('are', 'VERB'), ('fun', 'NOUN'), ('in', 'ADP'), ('that', 'ADP'), ('you', 'PRON'), ('never', 'ADV'), ('know', 'VERB'), ('what', 'PRON'), ('will', 'VERB'), ('come', 'VERB'), ('out', 'ADP'), ('in', 'ADP'), ('a', 'DET'), ('day-to-day', 'NOUN'), ('basis.', 'NOUN'), ('Some', 'DET'), ('time', 'NOUN'), ('just', 'ADV'), ('your', 'PRON'), ('coins', 'NOUN'), ('back.', 'NOUN'), ('A', 'DET'), ('few', 'ADJ'), ('people', 'NOUN'), ('have', 'VERB'), ('illicit', 'NOUN'), ('electric', 'ADJ'), ('coffee', 'NOUN'), ('pots,', 'NOUN'), ('others', 'NOUN'), ('use', 'NOUN'), ('a', 'DET'), ('French', 'ADJ'), ('press,', 'NOUN'), ('and', 'CONJ'), ('still', 'ADV'), ('others', 'NOUN'), ('sneak', 'NOUN'), ('out', 'ADP'), ('for', 'ADP'), ('the', 'DET'), ('real', 'ADJ'), ('thing.<br', 'NOUN'), ('/><br', 'NOUN'), ('/>Now', 'NOUN'), ('that', 'ADP'), ('I', 'PRON'), ('discovered', 'VERB'), ('the', 'DET'), ('Columbian', 'ADJ'), ('Via.', 'NOUN'), ('I', 'PRON'), ('have', 'VERB'), ('to', 'PRT'), ('defend', 'NOUN'), ('my', 'PRON'), ('cup', 'NOUN'), ('from', 'ADP'), ('all', 'DET'), ('those', 'DET'), ('noses', 'NOUN'), ('that', 'ADP'), ('circle', 'NOUN'), ('my', 'PRON'), ('cup.', 'NOUN'), ('I', 'PRON'), ('know', 'VERB'), ('there', 'ADV'), ('are', 'VERB'), ('directions', 'NOUN'), ('on', 'ADP'), ('the', 'DET'), ('pack;', 'NOUN'), ('however,', 'NOUN'), ('I', 'PRON'), ('now', 'ADV'), ('have', 'VERB'), ('my', 'PRON'), ('own', 'ADJ'), ('ritual.', 'NOUN'), ('Clean', 'ADJ'), ('cup,', 'NOUN'), ('fill', 'NOUN'), ('2/3rds', 'NOUN'), ('filtered', 'VERB'), ('water.', 'NOUN'), ('90', 'NUM'), ('seconds', 'NOUN'), ('in', 'ADP'), ('the', 'DET'), ('microwave.', 'NOUN'), ('Shake', 'VERB'), ('contents', 'NOUN'), ('to', 'PRT'), ('bottom', 'NOUN'), ('of', 'ADP'), ('pack.', 'NOUN'), ('Rip', 'NOUN'), ('the', 'DET'), ('whole', 'ADJ'), ('top', 'NOUN'), ('off', 'ADP'), ('the', 'DET'), ('pack', 'NOUN'), ('with', 'ADP'), ('teeth.', 'NOUN'), ('Pour', 'NOUN'), ('pack', 'NOUN'), ('in', 'ADP'), ('coup', 'NOUN'), ('and', 'CONJ'), ('watch', 'NOUN'), ('sizzle.', 'NOUN'), ('Stir', 'NOUN'), ('for', 'ADP'), ('a', 'DET'), ('few', 'ADJ'), ('seconds.', 'NOUN'), ('Add', 'VERB'), ('a', 'DET'), ('tad', 'NOUN'), ('of', 'ADP'), ('ice.', 'NOUN'), ('Hope', 'NOUN'), ('I', 'PRON'), ('can', 'VERB'), ('make', 'VERB'), ('it', 'PRON'), ('back', 'ADV'), ('to', 'PRT'), ('my', 'PRON'), ('desk', 'NOUN'), ('before', 'ADP'), ('the', 'DET'), ('cup', 'NOUN'), ('empties.<br', 'NOUN'), ('/><br', 'NOUN'), ('/>I', 'NOUN'), ('was', 'VERB'), ('never', 'ADV'), ('a', 'DET'), ('fan', 'NOUN'), ('of', 'ADP'), ('reconstituted', 'VERB'), ('coffee', 'NOUN'), ('however', 'ADV'), ('I', 'PRON'), ('think', 'NOUN'), ('it', 'PRON'), ('is', 'VERB'), ('the', 'DET'), ('addition', 'NOUN'), ('of', 'ADP'), ('the', 'DET'), ('micro-ground', 'NOUN'), ('coffee', 'NOUN'), ('that', 'ADP'), ('adds', 'VERB'), ('the', 'DET'), ('edge', 'NOUN'), ('necessary.<br', 'NOUN'), ('/><br', 'NOUN'), ('/>In', 'NOUN'), ('any', 'DET'), ('event', 'NOUN'), ('you', 'PRON'), ('owe', 'NOUN'), ('it', 'PRON'), ('to', 'PRT'), ('yourself', 'PRON'), ('to', 'PRT'), ('try', 'NOUN'), ('it.', 'NOUN')], 5]]\n"
     ]
    }
   ],
   "source": [
    "print(test_tagged[:10])"
   ]
  },
  {
   "cell_type": "code",
   "execution_count": 18,
   "metadata": {},
   "outputs": [],
   "source": [
    "shuf_cooccs_df = shuf_red_df[:1000]\n",
    "#print(shuf_cooccs_df)\n",
    "cooccs_text = []\n",
    "for index, item in shuf_cooccs_df.iterrows():\n",
    "    product_id = item[0]\n",
    "    score = item[1]\n",
    "    review = item[2]\n",
    "    review = review.split()\n",
    "    rev = []\n",
    "    for i in review:\n",
    "        rev += nltk.pos_tag([i], tagset=\"universal\")\n",
    "    cooccs_text.append([product_id, rev, score])"
   ]
  },
  {
   "cell_type": "code",
   "execution_count": 19,
   "metadata": {},
   "outputs": [
    {
     "name": "stdout",
     "output_type": "stream",
     "text": [
      "['B000HDMUQ2', [('I', 'PRON'), ('have', 'VERB'), ('recently', 'ADV'), ('stopped', 'VERB'), ('eating', 'VERB'), ('a', 'DET'), ('number', 'NOUN'), ('of', 'ADP'), ('allergens', 'NOUN'), ('(dairy,', 'NOUN'), ('soy,', 'NOUN'), ('nuts)', 'NOUN'), ('and', 'CONJ'), ('these', 'DET'), ('were', 'VERB'), ('one', 'NUM'), ('of', 'ADP'), ('the', 'DET'), ('few', 'ADJ'), ('snacks', 'NOUN'), ('which', 'DET'), ('fit', 'NOUN'), ('into', 'ADP'), ('my', 'PRON'), ('dietary', 'ADJ'), ('restrictions.', 'NOUN'), ('Unfortunately,', 'NOUN'), ('these', 'DET'), ('were', 'VERB'), ('pretty', 'ADV'), ('gross', 'ADJ'), ('-', '.'), ('miserable', 'ADJ'), ('texture', 'NOUN'), ('and', 'CONJ'), ('more', 'ADV'), ('cardboard', 'NOUN'), ('flavored', 'VERB'), ('than', 'ADP'), ('berry.', 'NOUN'), ('I', 'PRON'), ('threw', 'NOUN'), ('them', 'PRON'), ('away.', 'NOUN'), ('I', 'PRON'), ('would', 'VERB'), ('recommend', 'NOUN'), ('the', 'DET'), ('cocoa', 'NOUN'), ('ones', 'NOUN'), ('as', 'ADP'), ('they', 'PRON'), ('are', 'VERB'), ('much', 'ADJ'), ('tastier', 'NOUN'), ('and', 'CONJ'), ('also', 'ADV'), ('allergen', 'NOUN'), ('free.', 'NOUN')], 2]\n"
     ]
    }
   ],
   "source": [
    "print(cooccs_text[2])"
   ]
  },
  {
   "cell_type": "code",
   "execution_count": 8,
   "metadata": {},
   "outputs": [],
   "source": [
    "from nltk.corpus import wordnet as wn\n",
    "from nltk.corpus import stopwords\n",
    "# Lemmatizing our dataset + filtering for stopwords (except negation)\n",
    "training_dicts = dict((k,[]) for k in [1,2,3,4,5])\n",
    "test_dicts = dict((k,[]) for k in [1,2,3,4,5])\n",
    "\n",
    "stopwords = set(stopwords.words('english'))\n",
    "\n",
    "un2wn_mapping = {\"VERB\" : wn.VERB, \"NOUN\" : wn.NOUN, \"ADJ\" : wn.ADJ, \"ADV\" : wn.ADV}\n",
    "\n",
    "lemmatized = []\n",
    "\n",
    "for review in train_tagged:\n",
    "    rev = review[0]\n",
    "    score = review[1]\n",
    "    lem_rev = []\n",
    "    for tup in rev:\n",
    "        w, tag = tup\n",
    "        \n",
    "        if len(w) > 1 and w.isalpha():\n",
    "            w = w.lower()\n",
    "        else:\n",
    "            continue\n",
    "        \n",
    "        if tag in [\".\", \"X\"]:\n",
    "            continue\n",
    "        elif w.lower() in stopwords:\n",
    "            if w.lower() in [\"not\", \"t\", \"no\"]:  \n",
    "                lemma = w.lower()\n",
    "                tag = \"NEGATION\"\n",
    "            else: \n",
    "                continue\n",
    "        \n",
    "        elif tag in un2wn_mapping.keys():\n",
    "            lemma = nltk.WordNetLemmatizer().lemmatize(w, pos = un2wn_mapping[tag])\n",
    "        else:\n",
    "            lemma = nltk.WordNetLemmatizer().lemmatize(w)\n",
    "        lem_rev.append(\"-\".join([lemma, tag]))\n",
    "    training_dicts[score].append(lem_rev)"
   ]
  },
  {
   "cell_type": "code",
   "execution_count": 9,
   "metadata": {},
   "outputs": [],
   "source": [
    "test_dicts = dict((k,[]) for k in [1,2,3,4,5])\n",
    "for review in test_tagged:\n",
    "    rev = review[0]\n",
    "    score = review[1]\n",
    "    lem_rev = []\n",
    "    for tup in rev:\n",
    "        w, tag = tup\n",
    "        \n",
    "        if len(w) > 1 and w.isalpha():\n",
    "            w = w.lower()\n",
    "        else:\n",
    "            continue\n",
    "        if tag in [\".\", \"X\"]:\n",
    "            continue\n",
    "        elif w.lower() in stopwords:\n",
    "            if w.lower() in [\"not\", \"t\", \"no\"]:  \n",
    "                lemma = w.lower()\n",
    "                tag = \"NEGATION\"\n",
    "                lem_rev.append(\"-\".join([lemma, tag]))\n",
    "            else: \n",
    "                continue\n",
    "        elif tag in un2wn_mapping.keys():\n",
    "            lemma = nltk.WordNetLemmatizer().lemmatize(w, pos = un2wn_mapping[tag])\n",
    "        else:\n",
    "            lemma = nltk.WordNetLemmatizer().lemmatize(w)\n",
    "        lem_rev.append(\"-\".join([lemma, tag]))\n",
    "    test_dicts[score].append(lem_rev)"
   ]
  },
  {
   "cell_type": "code",
   "execution_count": 20,
   "metadata": {},
   "outputs": [],
   "source": [
    "cooccs_list = []\n",
    "from nltk.corpus import stopwords\n",
    "from nltk.corpus import wordnet as wn\n",
    "stopwords = set(stopwords.words('english'))\n",
    "\n",
    "un2wn_mapping = {\"VERB\" : wn.VERB, \"NOUN\" : wn.NOUN, \"ADJ\" : wn.ADJ, \"ADV\" : wn.ADV}\n",
    "\n",
    "for review in cooccs_text:\n",
    "    product_id = review[0]\n",
    "    rev = review[1]\n",
    "    score = review[2]\n",
    "    lem_rev = []\n",
    "    \n",
    "    for tup in rev:\n",
    "        w, tag = tup\n",
    "        \n",
    "        if len(w) > 1 and w.isalpha():\n",
    "            w = w.lower()\n",
    "        else:\n",
    "            continue\n",
    "        if tag in [\".\", \"X\"]:\n",
    "            continue\n",
    "        elif w.lower() in stopwords:\n",
    "            if w.lower() in [\"not\", \"t\", \"no\"]:  \n",
    "                lemma = w.lower()\n",
    "                tag = \"NEGATION\"\n",
    "                lem_rev.append(\"-\".join([lemma, tag]))\n",
    "            else: \n",
    "                continue\n",
    "        elif tag in un2wn_mapping.keys():\n",
    "            lemma = nltk.WordNetLemmatizer().lemmatize(w, pos = un2wn_mapping[tag])\n",
    "        else:\n",
    "            lemma = nltk.WordNetLemmatizer().lemmatize(w)\n",
    "        lem_rev.append(\"-\".join([lemma, tag]))\n",
    "        \n",
    "    cooccs_list.append([product_id, score, lem_rev])"
   ]
  },
  {
   "cell_type": "code",
   "execution_count": 22,
   "metadata": {},
   "outputs": [],
   "source": [
    "import pickle\n",
    "# Save lemmatized text to a pickle file\n",
    "#pickle.dump(training_dicts, open(\"training_dicts.txt\", \"wb\"))\n",
    "#pickle.dump(test_dicts, open(\"test_dicts.txt\", \"wb\"))\n",
    "pickle.dump(cooccs_list, open(\"cooccs_final_list.txt\", \"wb\"))"
   ]
  },
  {
   "cell_type": "code",
   "execution_count": 21,
   "metadata": {},
   "outputs": [
    {
     "name": "stdout",
     "output_type": "stream",
     "text": [
      "[['B000TRFGGM', 5, ['love-NOUN', 'little-ADJ', 'venus-NOUN', 'produce-VERB', 'new-ADJ', 'arrive-VERB', 'quickly-ADV', 'good-ADJ', 'positive-ADJ']], ['B001LG945O', 4, ['admit-NOUN', 'care-NOUN', 'drink-NOUN', 'carbonate-VERB', 'carbonation-NOUN', 'soda-NOUN', 'make-VERB', 'tend-NOUN', 'diet-NOUN', 'drink-NOUN', 'weird-NOUN', 'taste-NOUN', 'sure-NOUN', 'expect-VERB', 'drank-NOUN', 'carbonation-NOUN', 'mild-NOUN', 'like-ADP', 'light-NOUN', 'buzz-NOUN', 'mouth-NOUN', 'instead-ADV', 'lot-NOUN', 'carbonation-NOUN', 'hear-NOUN', 'content-NOUN', 'fizz-NOUN', 'drink-NOUN', 'orange-NOUN', 'tangerine-NOUN', 'flavor-NOUN', 'nice-ADJ', 'combo-NOUN', 'strong-ADJ', 'tangerine-NOUN', 'flavor-NOUN', 'though-ADP', 'someone-NOUN', 'like-ADP', 'sugar-NOUN', 'found-NOUN', 'tad-NOUN', 'sweet-NOUN', 'advertised-ADJ', 'no-NEGATION', 'no-NEGATION', 'sugar-NOUN', 'less-ADV', 'not-NEGATION', 'not-NEGATION', 'sure-NOUN', 'would-VERB', 'drink-NOUN', 'though-ADP', 'small-ADJ', 'imagine-NOUN', 'someone-NOUN', 'drink-NOUN', 'can-NOUN', 'soda-NOUN', 'drinking-NOUN', 'one-NUM', 'instead-ADV', 'especially-ADV', 'price-NOUN', 'charge-NOUN', 'think-VERB', 'replace-VERB', 'glass-NOUN', 'orange-NOUN', 'juice-NOUN', 'first-ADV', 'thing-NOUN', 'think-NOUN', 'tasty-NOUN', 'someone-NOUN', 'offer-VERB', 'take-VERB', 'not-NEGATION', 'not-NEGATION', 'something-NOUN', 'would-VERB']], ['B000HDMUQ2', 2, ['recently-ADV', 'stop-VERB', 'eat-VERB', 'number-NOUN', 'allergen-NOUN', 'one-NUM', 'snack-NOUN', 'fit-NOUN', 'dietary-ADJ', 'pretty-ADV', 'gross-ADJ', 'miserable-ADJ', 'texture-NOUN', 'cardboard-NOUN', 'flavor-VERB', 'threw-NOUN', 'would-VERB', 'recommend-NOUN', 'cocoa-NOUN', 'one-NOUN', 'much-ADJ', 'tastier-NOUN', 'also-ADV', 'allergen-NOUN']], ['B006N3IG4K', 5, ['really-ADV', 'enjoy-NOUN', 'wolfgang-NOUN', 'far-ADV', 'one-NOUN', 'try-VERB', 'left-NOUN', 'stomach-NOUN', 'first-ADV', 'time-NOUN', 'try-VERB', 'sorrento-NOUN', 'fair-NOUN', 'trade-NOUN', 'roast-NOUN', 'purchase-VERB', 'warehouse-ADP', 'amazon-NOUN', 'price-NOUN', 'really-ADV', 'happy-ADJ', 'taste-NOUN', 'sorrento-NOUN', 'would-VERB', 'expect-VERB', 'medium-NOUN', 'roast-NOUN', 'smooth-NOUN', 'no-NEGATION', 'no-NEGATION', 'acidic-NOUN', 'leaf-NOUN', 'want-VERB', 'first-ADV', 'left-NOUN', 'leave-VERB', 'right-NOUN', 'need-NOUN', 'daily-ADJ', 'cup-NOUN', 'get-VERB', 'another-DET', 'finish-VERB']], ['B00653KJ5M', 4, ['bought-NOUN', 'sampler-NOUN', 'pack-NOUN', 'caveman-NOUN', 'bakery-NOUN', 'not-NEGATION', 'not-NEGATION', 'exactly-ADV', 'like-ADP', 'cookie-NOUN', 'consistency-NOUN', 'however-ADV', 'texture-NOUN', 'chewiness-NOUN', 'cookie-NOUN', 'kind-NOUN', 'remind-NOUN', 'like-ADP', 'natural-ADJ', 'nut-NOUN', 'fruit-NOUN', 'like-ADP', 'kind-NOUN', 'one-NOUN', 'alpine-NOUN', 'tropical-ADJ', 'favorite-NOUN', 'mainly-ADV', 'alpine-NOUN', 'hazelnut-NOUN', 'tropical-ADJ', 'coconut-NOUN', 'taste-NOUN', 'least-ADJ', 'favorite-NOUN', 'try-VERB', 'either-DET', 'strong-ADJ', 'taste-NOUN', 'ginger-NOUN', 'not-NEGATION', 'not-NEGATION', 'fan-NOUN', 'one-NOUN', 'pretty-ADV', 'good-ADJ', 'realize-VERB', 'cooky-NOUN', 'guess-NOUN', 'base-VERB', 'big-ADJ', 'portion-NOUN', 'normal-ADJ', 'would-VERB', 'buy-VERB', 'maybe-ADV', 'strict-NOUN']], ['B003VXL14M', 5, ['love-NOUN', 'green-ADJ', 'white-ADJ', 'variety-NOUN', 'quite-ADV', 'consistently-ADV', 'order-VERB', 'least-ADJ', 'ten-NOUN', 'time-NOUN', 'various-ADJ', 'internet-NOUN', 'realize-VERB', 'old-ADJ', 'stale-NOUN', 'tea-NOUN', 'grocery-NOUN', 'store-NOUN', 'organic-ADJ', 'quite-ADV', 'reasonably-ADV', 'recommend-NOUN', 'use-VERB', 'two-NUM', 'loose-ADJ', 'tea-NOUN', 'per-ADP', 'use-NOUN', 'half-NOUN', 'taste-NOUN', 'ever-ADV', 'smooth-NOUN', 'highly-ADV']], ['B006N3IG4K', 5, ['husband-NOUN', 'say-VERB', 'taste-VERB', 'wolfgang-NOUN', 'coffee-NOUN', 'not-NEGATION', 'not-NEGATION', 'fan-NOUN', 'coffee-NOUN', 'really-ADV', 'like-VERB', 'one-NUM', 'highly-ADV', 'recommend-NOUN', 'put-NOUN', 'subscribe-NOUN', 'puck-NOUN', 'jamaica-NOUN', 'keurig-NOUN', 'brewer-NOUN']], ['B001LXYA5Q', 3, ['tablet-NOUN', 'refer-VERB', 'miracle-NOUN', 'berry-NOUN', 'use-VERB', 'distort-NOUN', 'taste-NOUN', 'let-VERB', 'dissolve-NOUN', 'around-ADP', 'bite-NOUN', 'lemon-NOUN', 'taste-NOUN', 'odd-NOUN', 'sort-NOUN', 'come-VERB', 'list-NOUN', 'item-NOUN', 'use-NOUN', 'use-VERB', 'try-NOUN', 'mask-NOUN', 'taste-NOUN', 'salt-NOUN', 'water-NOUN', 'flush-NOUN', 'master-NOUN', 'not-NEGATION', 'not-NEGATION', 'mask-NOUN', 'salt-NOUN', 'not-NEGATION', 'not-NEGATION', 'sure-NOUN', 'use-NOUN', 'not-NEGATION', 'not-NEGATION', 'need-VERB']], ['B003VXFK44', 5, ['buy-VERB', 'subscribe-NOUN', 'like-ADP', 'flavor-NOUN', 'go-VERB', 'month-NOUN', 'two-NUM', 'not-NEGATION', 'not-NEGATION', 'tire-VERB']], ['B0089SPDUW', 5, ['far-NOUN', 'found-NOUN', 'thats-NOUN', 'taste-NOUN', 'great-ADJ', 'normal-ADJ', 'not-NEGATION', 'not-NEGATION', 'water-VERB', 'like-ADP', 'regular-ADJ', 'taste-NOUN', 'burnt-NOUN', 'like-ADP', 'bold-NOUN', 'buying-NOUN']]]\n"
     ]
    }
   ],
   "source": [
    "print(cooccs_list[:10])"
   ]
  },
  {
   "cell_type": "code",
   "execution_count": null,
   "metadata": {},
   "outputs": [],
   "source": []
  }
 ],
 "metadata": {
  "kernelspec": {
   "display_name": "Python 3",
   "language": "python",
   "name": "python3"
  },
  "language_info": {
   "codemirror_mode": {
    "name": "ipython",
    "version": 3
   },
   "file_extension": ".py",
   "mimetype": "text/x-python",
   "name": "python",
   "nbconvert_exporter": "python",
   "pygments_lexer": "ipython3",
   "version": "3.7.3"
  }
 },
 "nbformat": 4,
 "nbformat_minor": 2
}
