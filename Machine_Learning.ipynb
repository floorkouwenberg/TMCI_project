{
 "cells": [
  {
   "cell_type": "code",
   "execution_count": 42,
   "metadata": {},
   "outputs": [],
   "source": [
    "import pickle\n",
    "import random\n",
    "from collections import Counter\n",
    "import numpy as np\n",
    "import matplotlib.pyplot as plt\n",
    "from sklearn import naive_bayes, metrics\n",
    "\n",
    "with open('test_dicts.txt', 'rb') as file:\n",
    "    test_lemmedreviews = pickle.load(file)\n",
    "    \n",
    "with open('training_dicts.txt', 'rb') as file:\n",
    "    train_lemmedreviews = pickle.load(file)"
   ]
  },
  {
   "cell_type": "code",
   "execution_count": 14,
   "metadata": {},
   "outputs": [
    {
     "name": "stdout",
     "output_type": "stream",
     "text": [
      "candidate features: 1507\n"
     ]
    }
   ],
   "source": [
    "candidate_features = Counter()\n",
    "\n",
    "for p in range(1, 6):\n",
    "    for rev in train_lemmedreviews[p]:\n",
    "        for w in rev:\n",
    "            if w.split(\"-\")[-1] in [\"ADJ\", \"ADV\", \"NEGATION\"]:\n",
    "                candidate_features[w] += 1\n",
    "\n",
    "\n",
    "print(\"candidate features:\", len(candidate_features))"
   ]
  },
  {
   "cell_type": "code",
   "execution_count": 15,
   "metadata": {},
   "outputs": [
    {
     "data": {
      "image/png": "[encoded data removed]",
      "text/plain": [
       "<Figure size 432x288 with 1 Axes>"
      ]
     },
     "metadata": {
      "needs_background": "light"
     },
     "output_type": "display_data"
    }
   ],
   "source": [
    "x = np.arange(1, len(candidate_features) + 1)\n",
    "y = np.array([v for _, v in candidate_features.most_common()])\n",
    "\n",
    "plt.plot(x, y)\n",
    "plt.yscale('log') \n",
    "plt.show()"
   ]
  },
  {
   "cell_type": "code",
   "execution_count": 29,
   "metadata": {},
   "outputs": [
    {
     "name": "stdout",
     "output_type": "stream",
     "text": [
      "selected features: 420\n"
     ]
    }
   ],
   "source": [
    "features = dict()\n",
    "\n",
    "for idx, (f, v) in enumerate(candidate_features.most_common()):\n",
    "    if v == 9:\n",
    "    #    print(idx, f, v)\n",
    "        break\n",
    "\n",
    "    features[f] = idx\n",
    "    \n",
    "print(\"selected features:\", len(features))"
   ]
  },
  {
   "cell_type": "code",
   "execution_count": 40,
   "metadata": {},
   "outputs": [
    {
     "name": "stdout",
     "output_type": "stream",
     "text": [
      "[[2. 3. 0. ... 0. 0. 0.]\n",
      " [0. 0. 0. ... 0. 0. 0.]\n",
      " [0. 0. 0. ... 0. 0. 0.]\n",
      " ...\n",
      " [0. 0. 0. ... 0. 0. 0.]\n",
      " [0. 0. 0. ... 0. 0. 0.]\n",
      " [0. 0. 1. ... 0. 0. 0.]] [1. 1. 1. ... 5. 5. 5.]\n"
     ]
    }
   ],
   "source": [
    "fMat = np.zeros((sum([len(v) for v in train_lemmedreviews.values()]), len(features)))\n",
    "labelsVec = np.zeros((sum([len(v) for v in train_lemmedreviews.values()])))\n",
    "\n",
    "docId = 0\n",
    "for score in range(1, 6):\n",
    "    for rev in train_lemmedreviews[score]:\n",
    "        labelsVec[docId] = score\n",
    "        \n",
    "        for word in rev:\n",
    "            if word in features:\n",
    "                fMat[docId, features[word]] += 1\n",
    "\n",
    "        docId += 1\n",
    "        \n",
    "print(fMat, labelsVec)"
   ]
  },
  {
   "cell_type": "code",
   "execution_count": 44,
   "metadata": {},
   "outputs": [
    {
     "data": {
      "text/plain": [
       "MultinomialNB(alpha=1.0, class_prior=None, fit_prior=True)"
      ]
     },
     "execution_count": 44,
     "metadata": {},
     "output_type": "execute_result"
    }
   ],
   "source": [
    "clf = naive_bayes.MultinomialNB()\n",
    "clf.fit(fMat, labelsVec)"
   ]
  },
  {
   "cell_type": "code",
   "execution_count": 46,
   "metadata": {},
   "outputs": [],
   "source": [
    "testMat = np.zeros((sum([len(v) for v in test_lemmedreviews.values()]), len(features)))\n",
    "goldStandard = np.zeros((sum([len(v) for v in test_lemmedreviews.values()])))\n",
    "\n",
    "docId = 0\n",
    "for score in range(1, 6):\n",
    "    for rev in test_lemmedreviews[score]:\n",
    "        goldStandard[docId] = score\n",
    "\n",
    "        for word in rev:\n",
    "            if word in features:\n",
    "                testMat[docId, features[word]] += 1\n",
    "\n",
    "        docId += 1"
   ]
  },
  {
   "cell_type": "code",
   "execution_count": 47,
   "metadata": {},
   "outputs": [],
   "source": [
    "predicted = clf.predict(testMat)"
   ]
  },
  {
   "cell_type": "code",
   "execution_count": 52,
   "metadata": {},
   "outputs": [
    {
     "name": "stdout",
     "output_type": "stream",
     "text": [
      "accuracy: 0.659\n",
      "[4. 5. 5. 5. 4. 1. 1. 1. 1. 5.]\n",
      "[1. 1. 1. 1. 1. 1. 1. 1. 1. 1.]\n"
     ]
    }
   ],
   "source": [
    "# accuracy\n",
    "print(\"accuracy:\", metrics.accuracy_score(predicted, goldStandard))\n",
    "\n",
    "print(predicted[:10])\n",
    "print(goldStandard[:10])"
   ]
  },
  {
   "cell_type": "code",
   "execution_count": 54,
   "metadata": {},
   "outputs": [
    {
     "name": "stdout",
     "output_type": "stream",
     "text": [
      "precision: 0.3888447463528511\n",
      "recall: 0.47690088739247527\n",
      "f1-measure: 0.4014620322982334\n"
     ]
    }
   ],
   "source": [
    "# precision, recall and f-measure\n",
    "print(\"precision:\", metrics.precision_score(predicted, goldStandard, average='macro'))\n",
    "\n",
    "\n",
    "print(\"recall:\", metrics.recall_score(predicted, goldStandard, average='macro'))\n",
    "\n",
    "print(\"f1-measure:\", metrics.f1_score(predicted, goldStandard, average='macro'))"
   ]
  },
  {
   "cell_type": "code",
   "execution_count": null,
   "metadata": {},
   "outputs": [],
   "source": []
  }
 ],
 "metadata": {
  "kernelspec": {
   "display_name": "Python 3",
   "language": "python",
   "name": "python3"
  },
  "language_info": {
   "codemirror_mode": {
    "name": "ipython",
    "version": 3
   },
   "file_extension": ".py",
   "mimetype": "text/x-python",
   "name": "python",
   "nbconvert_exporter": "python",
   "pygments_lexer": "ipython3",
   "version": "3.7.1"
  }
 },
 "nbformat": 4,
 "nbformat_minor": 2
}
