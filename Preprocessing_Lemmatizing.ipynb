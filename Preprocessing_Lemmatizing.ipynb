{
 "cells": [
  {
   "cell_type": "code",
   "execution_count": 71,
   "metadata": {
    "scrolled": true
   },
   "outputs": [
    {
     "name": "stdout",
     "output_type": "stream",
     "text": [
      "      Score                                               Text\n",
      "5782      5  I was very pleased when I got these vanilla be...\n",
      "7434      5  Wow this Chocolate Raspberry flavored coffee i...\n",
      "8678      1  this coffee has a very funny taste to it not g...\n",
      "4604      5  Was glad to find this procuct on line as it is...\n",
      "8614      5  Jamican Me Crazy is the best coffee.  It is no...\n",
      "...     ...                                                ...\n",
      "2148      5  My 8 month old loves this & has no problem hol...\n",
      "3317      4  I recieved a Keurig K-Cup Brewer for Christmas...\n",
      "2144      5  Plum products are such a wonderful and yummy i...\n",
      "7575      3  I had ordered a case of this incredible soup, ...\n",
      "5143      5  Breakfast cookies are a favorite with the youn...\n",
      "\n",
      "[10000 rows x 2 columns]\n"
     ]
    }
   ],
   "source": [
    "import pandas as pd\n",
    "import nltk\n",
    "from sklearn.utils import shuffle\n",
    "\n",
    "# Loading our datafile as a DataFrame with pandas\n",
    "\n",
    "df = pd.read_csv('Reviewss.csv', usecols=[6,9], header=0)\n",
    "shuf_red_df = shuffle(df[:10000])\n",
    "print(shuf_red_df)"
   ]
  },
  {
   "cell_type": "code",
   "execution_count": 72,
   "metadata": {},
   "outputs": [],
   "source": [
    "# PoS-tagging our dataset\n",
    "train_df = shuf_red_df[:8000]\n",
    "test_df = shuf_red_df[:2000]\n",
    "\n",
    "train_tagged = []\n",
    "test_tagged = []\n",
    "\n",
    "for index, item in train_df.iterrows():\n",
    "    score = item[0]\n",
    "    review = item[1]\n",
    "    review = review.split()\n",
    "    rev = []\n",
    "    for i in review:\n",
    "        rev += nltk.pos_tag([i], tagset=\"universal\")\n",
    "    train_tagged.append([rev, score])\n",
    "\n",
    "for index, item in test_df.iterrows():\n",
    "    score = item[0]\n",
    "    review = item[1]\n",
    "    review = review.split()\n",
    "    rev = []\n",
    "    for i in review:\n",
    "        rev += nltk.pos_tag([i], tagset=\"universal\")\n",
    "    test_tagged.append([rev, score])"
   ]
  },
  {
   "cell_type": "code",
   "execution_count": 73,
   "metadata": {},
   "outputs": [],
   "source": [
    "from nltk.corpus import wordnet as wn\n",
    "from nltk.corpus import stopwords\n",
    "# Lemmatizing our dataset + filtering for stopwords (except negation)\n",
    "training_dicts = dict((k,[]) for k in [1,2,3,4,5])\n",
    "test_dicts = dict((k,[]) for k in [1,2,3,4,5])\n",
    "\n",
    "stopwords = set(stopwords.words('english'))\n",
    "\n",
    "un2wn_mapping = {\"VERB\" : wn.VERB, \"NOUN\" : wn.NOUN, \"ADJ\" : wn.ADJ, \"ADV\" : wn.ADV}\n",
    "\n",
    "lemmatized = []\n",
    "\n",
    "for review in train_tagged:\n",
    "    rev = review[0]\n",
    "    score = review[1]\n",
    "    lem_rev = []\n",
    "    for tup in rev:\n",
    "        w, tag = tup\n",
    "        \n",
    "        if len(w) > 1 and w.isalpha():\n",
    "            w = w.lower()\n",
    "        else:\n",
    "            continue\n",
    "        \n",
    "        if tag in [\".\", \"X\"]:\n",
    "            continue\n",
    "        elif w.lower() in stopwords:\n",
    "            if w.lower() in [\"not\", \"t\", \"no\"]:  \n",
    "                lemma = w.lower()\n",
    "                tag = \"NEGATION\"\n",
    "            else: \n",
    "                continue\n",
    "        \n",
    "        elif tag in un2wn_mapping.keys():\n",
    "            lemma = nltk.WordNetLemmatizer().lemmatize(w, pos = un2wn_mapping[tag])\n",
    "        else:\n",
    "            lemma = nltk.WordNetLemmatizer().lemmatize(w)\n",
    "        lem_rev.append(\"-\".join([lemma, tag]))\n",
    "    training_dicts[score].append(lem_rev)"
   ]
  },
  {
   "cell_type": "code",
   "execution_count": 74,
   "metadata": {},
   "outputs": [],
   "source": [
    "for review in test_tagged:\n",
    "    rev = review[0]\n",
    "    score = review[1]\n",
    "    lem_rev = []\n",
    "    for tup in rev:\n",
    "        w, tag = tup\n",
    "        \n",
    "        if len(w) > 1 and w.isalpha():\n",
    "            w = w.lower()\n",
    "        else:\n",
    "            continue\n",
    "        if tag in [\".\", \"X\"]:\n",
    "            continue\n",
    "        elif w.lower() in stopwords:\n",
    "            if w.lower() in [\"not\", \"t\", \"no\"]:  \n",
    "                lemma = w.lower()\n",
    "                tag = \"NEGATION\"\n",
    "                lem_rev.append(\"-\".join([lemma, tag]))\n",
    "            else: \n",
    "                continue\n",
    "        elif tag in un2wn_mapping.keys():\n",
    "            lemma = nltk.WordNetLemmatizer().lemmatize(w, pos = un2wn_mapping[tag])\n",
    "        else:\n",
    "            lemma = nltk.WordNetLemmatizer().lemmatize(w)\n",
    "        lem_rev.append(\"-\".join([lemma, tag]))\n",
    "    test_dicts[score].append(lem_rev)"
   ]
  },
  {
   "cell_type": "code",
   "execution_count": 75,
   "metadata": {},
   "outputs": [],
   "source": [
    "# Save lemmatized text to a pickle file\n",
    "pickle.dump(training_dicts, open(\"training_dicts.txt\", \"wb\"))\n",
    "pickle.dump(test_dicts, open(\"test_dicts.txt\", \"wb\"))\n"
   ]
  }
 ],
 "metadata": {
  "kernelspec": {
   "display_name": "Python 3",
   "language": "python",
   "name": "python3"
  },
  "language_info": {
   "codemirror_mode": {
    "name": "ipython",
    "version": 3
   },
   "file_extension": ".py",
   "mimetype": "text/x-python",
   "name": "python",
   "nbconvert_exporter": "python",
   "pygments_lexer": "ipython3",
   "version": "3.6.9"
  }
 },
 "nbformat": 4,
 "nbformat_minor": 2
}
