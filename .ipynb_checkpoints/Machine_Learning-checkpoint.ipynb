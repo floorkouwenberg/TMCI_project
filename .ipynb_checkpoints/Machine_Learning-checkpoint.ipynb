{
 "cells": [
  {
   "cell_type": "markdown",
   "metadata": {},
   "source": [
    "# Machine learning with raw frequencies"
   ]
  },
  {
   "cell_type": "code",
   "execution_count": 1,
   "metadata": {},
   "outputs": [],
   "source": [
    "import pickle\n",
    "import random\n",
    "from collections import Counter\n",
    "import numpy as np\n",
    "import matplotlib.pyplot as plt\n",
    "from sklearn import naive_bayes, metrics\n",
    "from itertools import chain\n",
    "from math import log\n",
    "\n",
    "\n",
    "with open('test_dicts.txt', 'rb') as file:\n",
    "    test_lemmedreviews = pickle.load(file)\n",
    "    \n",
    "with open('training_dicts.txt', 'rb') as file:\n",
    "    train_lemmedreviews = pickle.load(file)"
   ]
  },
  {
   "cell_type": "code",
   "execution_count": 2,
   "metadata": {},
   "outputs": [
    {
     "name": "stdout",
     "output_type": "stream",
     "text": [
      "candidate features: 1507\n"
     ]
    }
   ],
   "source": [
    "candidate_features = Counter()\n",
    "\n",
    "for p in range(1, 6):\n",
    "    for rev in train_lemmedreviews[p]:\n",
    "        for w in rev:\n",
    "            if w.split(\"-\")[-1] in [\"ADJ\", \"ADV\", \"NEGATION\"]:\n",
    "                candidate_features[w] += 1\n",
    "\n",
    "\n",
    "print(\"candidate features:\", len(candidate_features))"
   ]
  },
  {
   "cell_type": "code",
   "execution_count": 3,
   "metadata": {},
   "outputs": [
    {
     "data": {
      "image/png": "[encoded data removed]",
      "text/plain": [
       "<Figure size 432x288 with 1 Axes>"
      ]
     },
     "metadata": {
      "needs_background": "light"
     },
     "output_type": "display_data"
    }
   ],
   "source": [
    "x = np.arange(1, len(candidate_features) + 1)\n",
    "y = np.array([v for _, v in candidate_features.most_common()])\n",
    "\n",
    "plt.plot(x, y)\n",
    "plt.yscale('log') \n",
    "plt.show()"
   ]
  },
  {
   "cell_type": "code",
   "execution_count": 4,
   "metadata": {},
   "outputs": [
    {
     "name": "stdout",
     "output_type": "stream",
     "text": [
      "selected features: 420\n"
     ]
    }
   ],
   "source": [
    "features = dict()\n",
    "\n",
    "for idx, (f, v) in enumerate(candidate_features.most_common()):\n",
    "    if v == 9:\n",
    "    #    print(idx, f, v)\n",
    "        break\n",
    "\n",
    "    features[f] = idx\n",
    "    \n",
    "print(\"selected features:\", len(features))"
   ]
  },
  {
   "cell_type": "markdown",
   "metadata": {},
   "source": [
    "## Normal weighting"
   ]
  },
  {
   "cell_type": "code",
   "execution_count": 5,
   "metadata": {},
   "outputs": [
    {
     "name": "stdout",
     "output_type": "stream",
     "text": [
      "[[2. 3. 0. ... 0. 0. 0.]\n",
      " [0. 0. 0. ... 0. 0. 0.]\n",
      " [0. 0. 0. ... 0. 0. 0.]\n",
      " ...\n",
      " [0. 0. 0. ... 0. 0. 0.]\n",
      " [0. 0. 0. ... 0. 0. 0.]\n",
      " [0. 0. 1. ... 0. 0. 0.]] [1. 1. 1. ... 5. 5. 5.]\n"
     ]
    }
   ],
   "source": [
    "fMat = np.zeros((sum([len(v) for v in train_lemmedreviews.values()]), len(features)))\n",
    "labelsVec = np.zeros((sum([len(v) for v in train_lemmedreviews.values()])))\n",
    "\n",
    "docId = 0\n",
    "for score in range(1, 6):\n",
    "    for rev in train_lemmedreviews[score]:\n",
    "        labelsVec[docId] = score\n",
    "        \n",
    "        for word in rev:\n",
    "            if word in features:\n",
    "                fMat[docId, features[word]] += 1\n",
    "\n",
    "        docId += 1\n",
    "        \n",
    "print(fMat, labelsVec)"
   ]
  },
  {
   "cell_type": "code",
   "execution_count": 6,
   "metadata": {},
   "outputs": [
    {
     "data": {
      "text/plain": [
       "MultinomialNB(alpha=1.0, class_prior=None, fit_prior=True)"
      ]
     },
     "execution_count": 6,
     "metadata": {},
     "output_type": "execute_result"
    }
   ],
   "source": [
    "clf = naive_bayes.MultinomialNB()\n",
    "clf.fit(fMat, labelsVec)"
   ]
  },
  {
   "cell_type": "code",
   "execution_count": 7,
   "metadata": {},
   "outputs": [],
   "source": [
    "testMat = np.zeros((sum([len(v) for v in test_lemmedreviews.values()]), len(features)))\n",
    "goldStandard = np.zeros((sum([len(v) for v in test_lemmedreviews.values()])))\n",
    "\n",
    "docId = 0\n",
    "for score in range(1, 6):\n",
    "    for rev in test_lemmedreviews[score]:\n",
    "        goldStandard[docId] = score\n",
    "\n",
    "        for word in rev:\n",
    "            if word in features:\n",
    "                testMat[docId, features[word]] += 1\n",
    "\n",
    "        docId += 1"
   ]
  },
  {
   "cell_type": "code",
   "execution_count": 8,
   "metadata": {},
   "outputs": [],
   "source": [
    "predicted = clf.predict(testMat)"
   ]
  },
  {
   "cell_type": "code",
   "execution_count": 9,
   "metadata": {},
   "outputs": [
    {
     "name": "stdout",
     "output_type": "stream",
     "text": [
      "accuracy: 0.659\n",
      "[4. 5. 5. 5. 4. 1. 1. 1. 1. 5.]\n",
      "[1. 1. 1. 1. 1. 1. 1. 1. 1. 1.]\n"
     ]
    }
   ],
   "source": [
    "# accuracy\n",
    "print(\"accuracy:\", metrics.accuracy_score(predicted, goldStandard))\n",
    "\n",
    "# precision, recall and f-measure\n",
    "print(\"precision:\", metrics.precision_score(predicted, goldStandard, average='macro'))\n",
    "print(\"recall:\", metrics.recall_score(predicted, goldStandard, average='macro'))\n",
    "print(\"f1-measure:\", metrics.f1_score(predicted, goldStandard, average='macro'))"
   ]
  },
  {
   "cell_type": "markdown",
   "metadata": {},
   "source": [
    "## Using tfidf weighting"
   ]
  },
  {
   "cell_type": "code",
   "execution_count": 45,
   "metadata": {},
   "outputs": [
    {
     "name": "stdout",
     "output_type": "stream",
     "text": [
      "[[2.00614972 4.69626308 0.         ... 0.         0.         0.        ]\n",
      " [0.         0.         0.         ... 0.         0.         0.        ]\n",
      " [0.         0.         0.         ... 0.         0.         0.        ]\n",
      " ...\n",
      " [0.         0.         0.         ... 0.         0.         0.        ]\n",
      " [0.         0.         0.         ... 0.         0.         0.        ]\n",
      " [0.         0.         1.78976147 ... 0.         0.         0.        ]] [1. 1. 1. ... 5. 5. 5.]\n"
     ]
    }
   ],
   "source": [
    "fMat = np.zeros((sum([len(v) for v in train_lemmedreviews.values()]), len(features)))\n",
    "labelsVec = np.zeros((sum([len(v) for v in train_lemmedreviews.values()])))\n",
    "\n",
    "\n",
    "docId = 0\n",
    "for score in range(1, 6):\n",
    "    for rev in train_lemmedreviews[score]:\n",
    "        labelsVec[docId] = score\n",
    "        \n",
    "        for word in rev:\n",
    "            if word in features:\n",
    "                fMat[docId, features[word]] += 1\n",
    "\n",
    "        docId += 1\n",
    "        \n",
    "\n",
    "D=(sum([len(v) for v in train_lemmedreviews.values()]))\n",
    "for column in range(len(features)): \n",
    "    Dt = len(np.where(fMat[:,column] > 0)[0])   \n",
    "    if Dt > 0: \n",
    "        testMat[:, column] = testMat[:, column] * np.log(D/Dt)   \n",
    "    fMat[:, column] = fMat[:, column] * np.log(D/Dt)\n",
    "\n",
    "    \n",
    "print(fMat, labelsVec)"
   ]
  },
  {
   "cell_type": "code",
   "execution_count": 46,
   "metadata": {},
   "outputs": [
    {
     "data": {
      "text/plain": [
       "MultinomialNB(alpha=1.0, class_prior=None, fit_prior=True)"
      ]
     },
     "execution_count": 46,
     "metadata": {},
     "output_type": "execute_result"
    }
   ],
   "source": [
    "clf = naive_bayes.MultinomialNB()\n",
    "clf.fit(fMat, labelsVec)"
   ]
  },
  {
   "cell_type": "code",
   "execution_count": 49,
   "metadata": {},
   "outputs": [],
   "source": [
    "testMat = np.zeros((sum([len(v) for v in test_lemmedreviews.values()]), len(features)))\n",
    "goldStandard = np.zeros((sum([len(v) for v in test_lemmedreviews.values()])))\n",
    "\n",
    "docId = 0\n",
    "for score in range(1, 6):\n",
    "    for rev in test_lemmedreviews[score]:\n",
    "        goldStandard[docId] = score\n",
    "\n",
    "        for word in rev:\n",
    "            if word in features:\n",
    "                testMat[docId, features[word]] += 1\n",
    "\n",
    "        docId += 1\n",
    "        \n",
    "D=sum([len(v) for v in test_lemmedreviews.values()])\n",
    "for column in range(len(features)): \n",
    "    Dt = len(np.where(testMat[:,column] > 0)[0])\n",
    "    if Dt > 0: \n",
    "        testMat[:, column] = testMat[:, column] * np.log(D/Dt)"
   ]
  },
  {
   "cell_type": "code",
   "execution_count": 50,
   "metadata": {},
   "outputs": [],
   "source": [
    "predicted = clf.predict(testMat)"
   ]
  },
  {
   "cell_type": "code",
   "execution_count": 53,
   "metadata": {},
   "outputs": [
    {
     "name": "stdout",
     "output_type": "stream",
     "text": [
      "accuracy: 0.58\n",
      "precision: 0.45392527659271736\n",
      "recall: 0.4117167462604231\n",
      "f1-measure: 0.42713456842360487\n"
     ]
    }
   ],
   "source": [
    "# accuracy\n",
    "print(\"accuracy:\", metrics.accuracy_score(predicted, goldStandard))\n",
    "\n",
    "# precision, recall and f-measure\n",
    "print(\"precision:\", metrics.precision_score(predicted, goldStandard, average='macro'))\n",
    "print(\"recall:\", metrics.recall_score(predicted, goldStandard, average='macro'))\n",
    "print(\"f1-measure:\", metrics.f1_score(predicted, goldStandard, average='macro'))"
   ]
  },
  {
   "cell_type": "markdown",
   "metadata": {},
   "source": [
    "# Machine Learning with plmi co-occurences"
   ]
  },
  {
   "cell_type": "code",
   "execution_count": 12,
   "metadata": {},
   "outputs": [],
   "source": [
    "span = 3\n",
    "cooccs_candidate_feature = Counter()\n",
    "\n",
    "\n",
    "for p in range(1, 6):\n",
    "    for sentence in train_lemmedreviews[p]:\n",
    "        for i,w in enumerate(sentence):\n",
    "            #check all co-occurring words within a 3 word span \n",
    "            span_range = list(range(max(i- span, 0), i)) \n",
    "            span_range.extend(range(i+1, min(i + span + 1, len(sentence)))) \n",
    "            for cw in [sentence[idx] for idx in span_range]:\n",
    "                if cw != w and (cw, w) not in cooccs_candidate_feature:\n",
    "                    cooccs_candidate_feature[(w, cw)] += 1\n"
   ]
  },
  {
   "cell_type": "code",
   "execution_count": 6,
   "metadata": {},
   "outputs": [
    {
     "data": {
      "image/png": "[encoded data removed]",
      "text/plain": [
       "<Figure size 432x288 with 1 Axes>"
      ]
     },
     "metadata": {
      "needs_background": "light"
     },
     "output_type": "display_data"
    }
   ],
   "source": [
    "x = np.arange(1, len(cooccs_candidate_feature) + 1)\n",
    "y = np.array([v for _, v in cooccs_candidate_feature.most_common()])\n",
    "\n",
    "plt.plot(x, y)\n",
    "plt.yscale('log') \n",
    "plt.show()"
   ]
  },
  {
   "cell_type": "code",
   "execution_count": 40,
   "metadata": {},
   "outputs": [
    {
     "name": "stdout",
     "output_type": "stream",
     "text": [
      "selected features: 6857\n"
     ]
    }
   ],
   "source": [
    "cooccs_features = dict()\n",
    "\n",
    "for idx, (f, v) in enumerate(cooccs_candidate_feature.most_common()):\n",
    "    if v == 9:\n",
    "    #    print(idx, f, v)\n",
    "        break\n",
    "\n",
    "    cooccs_features[f] = idx\n",
    "    \n",
    "print(\"selected features:\", len(cooccs_features))"
   ]
  },
  {
   "cell_type": "code",
   "execution_count": 13,
   "metadata": {},
   "outputs": [],
   "source": [
    "def ppmi(o_11, r_1, c_1, n):\n",
    "    \"\"\"\n",
    "    Positive Pointwise Mutual Information (Church & Hanks, 1990)\n",
    "    \n",
    "    PMI is also available in NLTK:\n",
    "    from nltk.metrics import BigramAssocMeasures\n",
    "    print BigramAssocMeasures.pmi(8, (15828, 4675), 14307668)\n",
    "    \"\"\"\n",
    "    observed = o_11\n",
    "    expected = (r_1*c_1)/n \n",
    "    res = log(observed/expected,2)\n",
    "    return max(0, res)\n",
    "\n",
    "def plmi(o_11, r_1, c_1, n):\n",
    "    \"\"\"\n",
    "    Positive Local Mutual Information, useful for leveraging the \n",
    "    low-frequency bias of the PPMI\n",
    "    \"\"\"\n",
    "    res = o_11 * ppmi(o_11, r_1, c_1, n)\n",
    "    return res"
   ]
  },
  {
   "cell_type": "code",
   "execution_count": 41,
   "metadata": {},
   "outputs": [
    {
     "name": "stdout",
     "output_type": "stream",
     "text": [
      "[[0. 0. 1. ... 0. 0. 0.]\n",
      " [0. 0. 0. ... 0. 0. 0.]\n",
      " [0. 0. 0. ... 0. 0. 0.]\n",
      " ...\n",
      " [0. 0. 0. ... 0. 0. 0.]\n",
      " [0. 0. 0. ... 0. 0. 0.]\n",
      " [0. 0. 0. ... 0. 0. 0.]] [1. 1. 1. ... 5. 5. 5.]\n"
     ]
    }
   ],
   "source": [
    "fMat = np.zeros((sum([len(v) for v in train_lemmedreviews.values()]), len(cooccs_features)))\n",
    "labelsVec = np.zeros((sum([len(v) for v in train_lemmedreviews.values()])))\n",
    "\n",
    "docId = 0\n",
    "for score in range(1, 6):\n",
    "    for rev in train_lemmedreviews[score]:\n",
    "        labelsVec[docId] = score\n",
    "        \n",
    "        span = 3\n",
    "        cooccs_rev = Counter()\n",
    "\n",
    "        for i,w in enumerate(rev):\n",
    "            #check all co-occurring words within a 3 word span \n",
    "            span_range = list(range(max(i- span, 0), i)) \n",
    "            span_range.extend(range(i+1, min(i + span + 1, len(rev)))) \n",
    "            for cw in [rev[idx] for idx in span_range]:\n",
    "                if cw != w and (cw, w) not in cooccs_rev:\n",
    "                    cooccs_rev[(w, cw)] += 1\n",
    "        \n",
    "        \n",
    "        for cooccs in list(cooccs_rev.keys()):\n",
    "            if cooccs in cooccs_features:\n",
    "                fMat[docId, cooccs_features[cooccs]] += cooccs_rev[cooccs]\n",
    "\n",
    "        docId += 1\n",
    "        \n",
    "print(fMat, labelsVec)"
   ]
  },
  {
   "cell_type": "code",
   "execution_count": 53,
   "metadata": {},
   "outputs": [
    {
     "name": "stdout",
     "output_type": "stream",
     "text": [
      "2.0\n"
     ]
    },
    {
     "data": {
      "text/plain": [
       "(array([   3,  124,  291,  459,  479, 3322, 5225], dtype=int32),)"
      ]
     },
     "execution_count": 53,
     "metadata": {},
     "output_type": "execute_result"
    }
   ],
   "source": []
  },
  {
   "cell_type": "code",
   "execution_count": 33,
   "metadata": {},
   "outputs": [
    {
     "data": {
      "text/plain": [
       "2"
      ]
     },
     "execution_count": 33,
     "metadata": {},
     "output_type": "execute_result"
    }
   ],
   "source": []
  },
  {
   "cell_type": "code",
   "execution_count": null,
   "metadata": {},
   "outputs": [],
   "source": []
  }
 ],
 "metadata": {
  "kernelspec": {
   "display_name": "Python 3",
   "language": "python",
   "name": "python3"
  },
  "language_info": {
   "codemirror_mode": {
    "name": "ipython",
    "version": 3
   },
   "file_extension": ".py",
   "mimetype": "text/x-python",
   "name": "python",
   "nbconvert_exporter": "python",
   "pygments_lexer": "ipython3",
   "version": "3.7.1"
  }
 },
 "nbformat": 4,
 "nbformat_minor": 2
}
