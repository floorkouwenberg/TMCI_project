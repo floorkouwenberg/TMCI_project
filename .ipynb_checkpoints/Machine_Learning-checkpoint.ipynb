{
 "cells": [
  {
   "cell_type": "code",
   "execution_count": 40,
   "metadata": {},
   "outputs": [],
   "source": [
    "import pickle\n",
    "import random\n",
    "from collections import Counter\n",
    "import numpy as np\n",
    "import matplotlib.pyplot as plt\n",
    "\n",
    "with open('lemmatized.txt', 'rb') as file:\n",
    "    lemmedreviews = pickle.load(file)"
   ]
  },
  {
   "cell_type": "code",
   "execution_count": 33,
   "metadata": {},
   "outputs": [],
   "source": [
    "random.shuffle(lemmedreviews)\n",
    "test_lemmedreviews = lemmedreviews[:200]\n",
    "train_lemmedreviews = lemmedreviews[200:]"
   ]
  },
  {
   "cell_type": "code",
   "execution_count": 36,
   "metadata": {},
   "outputs": [
    {
     "name": "stdout",
     "output_type": "stream",
     "text": [
      "candidate features: 563\n"
     ]
    }
   ],
   "source": [
    "candidate_features = Counter()\n",
    "\n",
    "for doc in train_lemmedreviews:\n",
    "    for w in doc:\n",
    "        if w.split(\"-\")[-1] in [\"ADV\", \"ADJ\", \"NEGATION\"]:\n",
    "            candidate_features[w] += 1\n",
    "\n",
    "print(\"candidate features:\", len(candidate_features))"
   ]
  },
  {
   "cell_type": "code",
   "execution_count": 41,
   "metadata": {},
   "outputs": [
    {
     "data": {
      "image/png": "[encoded data removed]",
      "text/plain": [
       "<Figure size 432x288 with 1 Axes>"
      ]
     },
     "metadata": {
      "needs_background": "light"
     },
     "output_type": "display_data"
    }
   ],
   "source": [
    "x = np.arange(1, len(candidate_features) + 1)\n",
    "y = np.array([v for _, v in candidate_features.most_common()])\n",
    "\n",
    "plt.plot(x, y)\n",
    "\n",
    "plt.yscale('log') \n",
    "\n",
    "plt.show()"
   ]
  },
  {
   "cell_type": "code",
   "execution_count": 42,
   "metadata": {},
   "outputs": [
    {
     "name": "stdout",
     "output_type": "stream",
     "text": [
      "selected features: 94\n"
     ]
    }
   ],
   "source": [
    "features = dict()\n",
    "\n",
    "for idx, (f, v) in enumerate(candidate_features.most_common()):\n",
    "    if v == 9:\n",
    "#         print(idx, f, v)\n",
    "        break\n",
    "\n",
    "    features[f] = idx\n",
    "    \n",
    "print(\"selected features:\", len(features))"
   ]
  },
  {
   "cell_type": "code",
   "execution_count": null,
   "metadata": {},
   "outputs": [],
   "source": []
  }
 ],
 "metadata": {
  "kernelspec": {
   "display_name": "Python 3",
   "language": "python",
   "name": "python3"
  },
  "language_info": {
   "codemirror_mode": {
    "name": "ipython",
    "version": 3
   },
   "file_extension": ".py",
   "mimetype": "text/x-python",
   "name": "python",
   "nbconvert_exporter": "python",
   "pygments_lexer": "ipython3",
   "version": "3.7.1"
  }
 },
 "nbformat": 4,
 "nbformat_minor": 2
}
